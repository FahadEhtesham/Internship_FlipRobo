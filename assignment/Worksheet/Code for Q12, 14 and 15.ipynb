{
 "cells": [
  {
   "cell_type": "code",
   "execution_count": 4,
   "metadata": {},
   "outputs": [
    {
     "name": "stdout",
     "output_type": "stream",
     "text": [
      "I+Love+Python\n"
     ]
    }
   ],
   "source": [
    "a=str('I+Love+Python')\n",
    "print(a)"
   ]
  },
  {
   "cell_type": "code",
   "execution_count": 5,
   "metadata": {},
   "outputs": [],
   "source": [
    "a = a.replace('+', ' ')"
   ]
  },
  {
   "cell_type": "code",
   "execution_count": 6,
   "metadata": {},
   "outputs": [
    {
     "data": {
      "text/plain": [
       "'I Love Python'"
      ]
     },
     "execution_count": 6,
     "metadata": {},
     "output_type": "execute_result"
    }
   ],
   "source": [
    "a"
   ]
  },
  {
   "cell_type": "code",
   "execution_count": 7,
   "metadata": {},
   "outputs": [
    {
     "data": {
      "text/plain": [
       "str"
      ]
     },
     "execution_count": 7,
     "metadata": {},
     "output_type": "execute_result"
    }
   ],
   "source": [
    "type(a)"
   ]
  },
  {
   "cell_type": "markdown",
   "metadata": {},
   "source": [
    "Q 14. Write a python program to solve a quadratic equation of the form 𝑎𝑥\n",
    "2 + 𝑏𝑥 + 𝑐 = 0. Where a, b and c are to\n",
    "be taken by user input. Handle the erroneous input, such as ‘a’ should not be equal to 0"
   ]
  },
  {
   "cell_type": "code",
   "execution_count": 26,
   "metadata": {},
   "outputs": [],
   "source": [
    "import numpy as np\n",
    "import cmath"
   ]
  },
  {
   "cell_type": "code",
   "execution_count": 33,
   "metadata": {},
   "outputs": [
    {
     "name": "stdout",
     "output_type": "stream",
     "text": [
      "Enter the value of a1\n",
      "Enter the value of b4\n",
      "Enter the value of c6\n"
     ]
    }
   ],
   "source": [
    "a=int(input('Enter the value of a'))\n",
    "b=int(input('Enter the value of b'))\n",
    "c=int(input('Enter the value of c'))"
   ]
  },
  {
   "cell_type": "code",
   "execution_count": 23,
   "metadata": {},
   "outputs": [],
   "source": [
    "#The roots of the quadratic equation are solved by x= (-b +_sqrt(b**2 - (4*a*c))/2*a)\n",
    "#therefore our coding will based on the above formaula"
   ]
  },
  {
   "cell_type": "code",
   "execution_count": 30,
   "metadata": {},
   "outputs": [],
   "source": [
    "def quadratic_roots(a,b,c):\n",
    "    if a != 0:\n",
    "        desc=(b**2) -(4*a*c)\n",
    "        root1=(-b-cmath.sqrt(desc))/(2*a)\n",
    "        root2=(-b+cmath.sqrt(desc))/(2*a)\n",
    "        print('roots of the quadratic equation is {} and {}'.format(root1,root2))\n",
    "    else:\n",
    "        print('This equation has an root as infinity  as a = 0')\n",
    "        "
   ]
  },
  {
   "cell_type": "code",
   "execution_count": 34,
   "metadata": {},
   "outputs": [
    {
     "name": "stdout",
     "output_type": "stream",
     "text": [
      "roots of the quadratic equation is (-2-1.4142135623730951j) and (-2+1.4142135623730951j)\n"
     ]
    }
   ],
   "source": [
    "quadratic_roots(a,b,c)"
   ]
  },
  {
   "cell_type": "markdown",
   "metadata": {},
   "source": [
    "15. Write a python program to find the sum of first ‘n’ natural numbers without using any loop. Ask user to input\n",
    "the value of ‘n’."
   ]
  },
  {
   "cell_type": "code",
   "execution_count": 36,
   "metadata": {},
   "outputs": [],
   "source": [
    "#According to the question we are going to work on the  formula (n*(n+1))/2 \n",
    "#as we do not have to use any loop."
   ]
  },
  {
   "cell_type": "code",
   "execution_count": 39,
   "metadata": {},
   "outputs": [
    {
     "name": "stdout",
     "output_type": "stream",
     "text": [
      "Enter the value of n 100\n",
      "5050.0\n"
     ]
    }
   ],
   "source": [
    "n = int(input('Enter the value of n '))\n",
    "Sn=(n*(n+1))/2\n",
    "print(Sn)"
   ]
  },
  {
   "cell_type": "code",
   "execution_count": null,
   "metadata": {},
   "outputs": [],
   "source": []
  }
 ],
 "metadata": {
  "kernelspec": {
   "display_name": "Python 3",
   "language": "python",
   "name": "python3"
  },
  "language_info": {
   "codemirror_mode": {
    "name": "ipython",
    "version": 3
   },
   "file_extension": ".py",
   "mimetype": "text/x-python",
   "name": "python",
   "nbconvert_exporter": "python",
   "pygments_lexer": "ipython3",
   "version": "3.6.5"
  }
 },
 "nbformat": 4,
 "nbformat_minor": 2
}
