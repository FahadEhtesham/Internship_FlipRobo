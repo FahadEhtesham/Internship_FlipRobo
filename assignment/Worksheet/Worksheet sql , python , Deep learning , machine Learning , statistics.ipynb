{
 "cells": [
  {
   "cell_type": "markdown",
   "metadata": {},
   "source": [
    "# MACHINE LEARNING – WORKSHEET 7\n"
   ]
  },
  {
   "cell_type": "code",
   "execution_count": null,
   "metadata": {},
   "outputs": [],
   "source": [
    "1]ABCD\n",
    "2]B\n",
    "3]ABC\n",
    "4]B\n",
    "5]A\n",
    "6]A\n",
    "7]D\n",
    "8]A\n",
    "9]B\n",
    "10]A"
   ]
  },
  {
   "cell_type": "markdown",
   "metadata": {},
   "source": [
    "# PYTHON WORKSHEET – WORKSHEET 4"
   ]
  },
  {
   "cell_type": "markdown",
   "metadata": {},
   "source": [
    "1]B\n",
    "\n",
    "2]B\n",
    "\n",
    "3]B\n",
    "\n",
    "4]D\n",
    "\n",
    "5]C\n",
    "\n",
    "6]B\n",
    "\n",
    "7]C\n",
    "\n",
    "8]A\n",
    "\n",
    "9]AD\n",
    "\n",
    "10]ABD\n",
    "\n",
    "11]Interpreter translates just one statement of the program at a time into machine code. Compiler scans the entire program and translates the whole of it into machine code at once. An interpreter takes very less time to analyze the source code. \n",
    "However, the overall time to execute the process is much slower.\n",
    "Python Language used interprator.\n",
    "\n",
    "12]PYTHONPATH is an environment variable which you can set to add additional directories where python will look for modules and packages. For most installations, you should not set these variables since they are not needed for Python to run.\n"
   ]
  },
  {
   "cell_type": "markdown",
   "metadata": {},
   "source": [
    "13] If you only want to remove leading or trailing whitespace use lstrip() or rstrip() respectively.\n",
    "Below are the examples"
   ]
  },
  {
   "cell_type": "code",
   "execution_count": 26,
   "metadata": {},
   "outputs": [
    {
     "data": {
      "text/plain": [
       "'Hello People'"
      ]
     },
     "execution_count": 26,
     "metadata": {},
     "output_type": "execute_result"
    }
   ],
   "source": [
    "'   Hello People'.lstrip()\n"
   ]
  },
  {
   "cell_type": "code",
   "execution_count": 27,
   "metadata": {},
   "outputs": [
    {
     "data": {
      "text/plain": [
       "'Hello People'"
      ]
     },
     "execution_count": 27,
     "metadata": {},
     "output_type": "execute_result"
    }
   ],
   "source": [
    "'Hello People   '.rstrip()\n"
   ]
  },
  {
   "cell_type": "markdown",
   "metadata": {},
   "source": [
    "14. Write a python program to represent a user entered number in expanded form.\n",
    "\n",
    "For eg: user_input = 12345\n",
    "\n",
    "Output = 1*10000 + 2*1000 + 3*100 + 4*10 + 5*1\n"
   ]
  },
  {
   "cell_type": "code",
   "execution_count": 7,
   "metadata": {},
   "outputs": [
    {
     "name": "stdout",
     "output_type": "stream",
     "text": [
      "Enter the number32425\n"
     ]
    }
   ],
   "source": [
    "A=input('Enter the number')"
   ]
  },
  {
   "cell_type": "code",
   "execution_count": 13,
   "metadata": {},
   "outputs": [],
   "source": [
    "def function(num):\n",
    "    digits = str(num) # convert number to string\n",
    "    output = []\n",
    "    for i, digit in enumerate(digits):\n",
    "        output.append(\"(\" + digit + \"x10^\" + str(len(digits)-i-1) + \")\")\n",
    "    return \" + \".join(output)"
   ]
  },
  {
   "cell_type": "code",
   "execution_count": 14,
   "metadata": {},
   "outputs": [],
   "source": [
    "expand_form=function(A)"
   ]
  },
  {
   "cell_type": "code",
   "execution_count": 15,
   "metadata": {},
   "outputs": [
    {
     "name": "stdout",
     "output_type": "stream",
     "text": [
      "(3x10^4) + (2x10^3) + (4x10^2) + (2x10^1) + (5x10^0)\n"
     ]
    }
   ],
   "source": [
    "print(expand_form)"
   ]
  },
  {
   "cell_type": "markdown",
   "metadata": {},
   "source": [
    "15. Write a python program to determine whether the number entered by the user is an Armstrong number or not?"
   ]
  },
  {
   "cell_type": "code",
   "execution_count": 16,
   "metadata": {},
   "outputs": [
    {
     "name": "stdout",
     "output_type": "stream",
     "text": [
      "Enter a number: 407\n",
      "407 is an Armstrong number\n"
     ]
    }
   ],
   "source": [
    "num = int(input(\"Enter a number: \"))\n",
    "\n",
    "# initialize sum\n",
    "sum = 0\n",
    "\n",
    "# find the sum of the cube of each digit\n",
    "temp = num\n",
    "while temp > 0:\n",
    "   digit = temp % 10\n",
    "   sum += digit ** 3\n",
    "   temp //= 10\n",
    "\n",
    "# display the result\n",
    "if num == sum:\n",
    "   print(num,\"is an Armstrong number\")\n",
    "else:\n",
    "   print(num,\"is not an Armstrong number\")"
   ]
  },
  {
   "cell_type": "markdown",
   "metadata": {},
   "source": [
    "# DEEP LEARNING – WORKSHEET 5"
   ]
  },
  {
   "cell_type": "markdown",
   "metadata": {},
   "source": [
    "1] D\n",
    "\n",
    "\n",
    "2] C\n",
    "\n",
    "3] D\n",
    "\n",
    "4] A\n",
    "\n",
    "5] C\n",
    "\n",
    "6] \n",
    "\n",
    "7] B\n",
    "\n",
    "8] A\n",
    "\n",
    "9] AC\n",
    "\n",
    "10] CD\n",
    "\n",
    "11]Convex Optimization Problems\n",
    "\n",
    "A convex optimization problem is a problem where all of the constraints are convex functions, and the objective is a convex function if minimizing, or a concave function if maximizing.  Linear functions are convex, so linear programming problems are convex problems.  Conic optimization problems -- the natural extension of linear programming problems are also convex problems.\n",
    "\n",
    "A non-convex optimization problem is any problem where the objective or any of the constraints are non-convex\n",
    "\n",
    "Such a problem may have multiple feasible regions and multiple locally optimal points within each region.  It can take time exponential in the number of variables and constraints to determine that a non-convex problem is infeasible, that the objective function is unbounded, or that an optimal solution is the \"global optimum\" across all feasible regions.\n",
    "\n",
    "12] In mathematics, a saddle point or minimax point is a point on the surface of the graph of a function where the slopes (derivatives) in orthogonal directions are all zero (a critical point), but which is not a local extremum of the function.An example of a saddle point is when there is a critical point with a relative minimum along one axial direction (between peaks) and at a relative maximum along the crossing axis. However, a saddle point need not be in this form. For example, the function {\\displaystyle f(x,y)=x^{2}+y^{3}}{\\displaystyle f(x,y)=x^{2}+y^{3}} has a critical point at {\\displaystyle (0,0)}(0,0) that is a saddle point since it is neither a relative maximum nor relative minimum, but it does not have a relative maximum or relative minimum in the {\\displaystyle y}y-direction.\n",
    "\n",
    "13]\n",
    "\n",
    "\n",
    "\n",
    "14]The aim of weight initialization is to prevent layer activation outputs from exploding or vanishing during the course of a forward pass through a deep neural network. If either occurs, loss gradients will either be too large or too small to flow backwards beneficially, and the network will take longer to converge, if it is even able to do so at all.\n",
    "\n",
    "15]We define Internal Covariate Shift as the change in the distribution of network activations due to the change in network parameters during training."
   ]
  },
  {
   "cell_type": "markdown",
   "metadata": {},
   "source": [
    "# STATISTICS – WORKSHEET 3\n"
   ]
  },
  {
   "cell_type": "markdown",
   "metadata": {},
   "source": [
    "1]D\n",
    "\n",
    "2]\n",
    "\n",
    "3]C\n",
    "\n",
    "4]BD\n",
    "\n",
    "5]CD\n",
    "\n",
    "6]B\n",
    "\n",
    "7]A\n",
    "\n",
    "8]A\n",
    "\n",
    "9]B\n",
    "\n",
    "10]A\n",
    "\n",
    "11]B\n",
    "\n",
    "12]D\n",
    "\n",
    "13]D\n",
    "\n",
    "14]D\n",
    "\n",
    "15]B"
   ]
  },
  {
   "cell_type": "markdown",
   "metadata": {},
   "source": [
    "# SQL – WORKSHEET 4"
   ]
  },
  {
   "cell_type": "markdown",
   "metadata": {},
   "source": [
    "1.Write SQL query to show average number of orders shipped in a day (use Orders table).\n",
    "\n",
    "SELECT AVG(a.orderitemcount) as Average\n",
    "FROM (SELECT count(*) as orderitemcount , shippedDate\n",
    "FROM orders\n",
    "group by shippedDate)"
   ]
  },
  {
   "cell_type": "markdown",
   "metadata": {},
   "source": [
    "2.Write SQL query to show average number of orders placed in a day.\n",
    "\n",
    "SELECT AVG(a.orderitemcount) as Average\n",
    "FROM (SELECT count(*) as orderitemcount , orderDate\n",
    "FROM orders\n",
    "group by orderDate)"
   ]
  },
  {
   "cell_type": "markdown",
   "metadata": {},
   "source": [
    "3.Write SQL query to show the product name with minimum MSRP (use Products table).\n",
    "\n",
    "SELECT product, MSRP\n",
    "   FROM product\n",
    "   WHERE MSRP = \n",
    "    (SELECT MIN(MSRP) FROM product);"
   ]
  },
  {
   "cell_type": "markdown",
   "metadata": {},
   "source": [
    "4.Write SQL query to show the product name with maximum value of stockQuantity.\n",
    "\n",
    "SELECT product, quantityInStock\n",
    "   FROM product\n",
    "   WHERE quantityInStock = \n",
    "    (SELECT MAX(quantityInStock) FROM product);\n"
   ]
  },
  {
   "cell_type": "markdown",
   "metadata": {},
   "source": [
    "5.Write a query to show the most ordered product Name (the product with maximum number of orders)\n",
    "\n",
    "select product , quantityOrdered \n",
    "from product , orderdetails \n",
    "where (SELECT MAX(quantityOrdered) FROM orderdetails) and \n",
    "product.productcode=orderdetails.productcode\n",
    "\n"
   ]
  },
  {
   "cell_type": "markdown",
   "metadata": {},
   "source": [
    "6. Write a SQL query to show the highest paying customer Name.\n",
    "\n",
    "Select customerName , amount from customers , payments\n",
    "where amount (select max(amount) from payment );"
   ]
  },
  {
   "cell_type": "markdown",
   "metadata": {},
   "source": [
    "7.Write a SQL query to show cutomerNumber, customerName of all the customers who are from Melbourne city.\n",
    "\n",
    "Select CustomerNumber, customerName from customers where city ='Melbourne' ;"
   ]
  },
  {
   "cell_type": "markdown",
   "metadata": {},
   "source": [
    "8.Write a SQL query to show name of all the customers whose name start with “N”\n",
    "\n",
    "Select customerName from customers where customerName like 'N%'"
   ]
  },
  {
   "cell_type": "markdown",
   "metadata": {},
   "source": [
    "9.Write a SQL query to show name of all the customers whose phone start with ‘^7.*’ and are from city ‘Las\n",
    "Vegas’.\n",
    "\n",
    "Select customerName  from customers where phone like '7%'and city='Las Vegas'"
   ]
  },
  {
   "cell_type": "markdown",
   "metadata": {},
   "source": [
    "10.Write a SQL query to show name of all the customers whose creditLimit < 1000 and city is either “Las Vegas”\n",
    "or ”Nantes” or “Stavern”\n",
    "\n",
    "Select customerName from customers where creditLimit >1000 and \n",
    "city in ['Las Vegas','Nantes', 'Stavern']"
   ]
  },
  {
   "cell_type": "markdown",
   "metadata": {},
   "source": [
    "11.Write a SQL query to show all the orderNumber in which quantity ordered <10\n",
    "\n",
    "select orderNumber from orderDetails where quantityOrdered < 10"
   ]
  },
  {
   "cell_type": "markdown",
   "metadata": {},
   "source": [
    "12.Write a SQL query to show all the orderNumber whose customer Name start with letter N.\n",
    "\n",
    "Select orderNumber from orders ,customers where \n",
    "orders.customerNumber=customers.customerNumber and \n",
    "customers.customerName like 'N%'\n"
   ]
  },
  {
   "cell_type": "markdown",
   "metadata": {},
   "source": [
    "13.Write a SQL query to show all the customerName whose orders are “Disputed” in status\n",
    "\n",
    "Select customerName from orders ,customers where orders.customerNumber=customers.customerNumber and \n",
    "orders.status='Disputed'"
   ]
  },
  {
   "cell_type": "markdown",
   "metadata": {},
   "source": [
    "14,Write a SQL query to show the customerName who made payment through cheque with checkNumber starting\n",
    "with H and made payment on “2004-10-19”.\n",
    "\n",
    "select customerName from customers a, payments b where a.customerNumber=b.customerNumber\n",
    "and b.checkNumber likke'H%' and paymentDate='2004-10-19'"
   ]
  },
  {
   "cell_type": "markdown",
   "metadata": {},
   "source": [
    "15.Write a SQL query to show all the checkNumber whose amount > 1000.\n",
    "\n",
    "select checkNumber from payments where amount > 1000"
   ]
  },
  {
   "cell_type": "code",
   "execution_count": null,
   "metadata": {},
   "outputs": [],
   "source": []
  }
 ],
 "metadata": {
  "kernelspec": {
   "display_name": "Python 3",
   "language": "python",
   "name": "python3"
  },
  "language_info": {
   "codemirror_mode": {
    "name": "ipython",
    "version": 3
   },
   "file_extension": ".py",
   "mimetype": "text/x-python",
   "name": "python",
   "nbconvert_exporter": "python",
   "pygments_lexer": "ipython3",
   "version": "3.6.5"
  }
 },
 "nbformat": 4,
 "nbformat_minor": 2
}
