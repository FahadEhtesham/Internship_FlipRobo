{
 "cells": [
  {
   "cell_type": "markdown",
   "metadata": {},
   "source": [
    "1)-C\n",
    "\n",
    "2)-B\n",
    "\n",
    "3)-C\n",
    "\n",
    "4)-A\n",
    "\n",
    "5)-6\n",
    "\n",
    "6)-C\n",
    "\n",
    "7)-A\n",
    "\n",
    "8)-C\n",
    "\n",
    "9) A,C\n",
    "\n",
    "10)AB"
   ]
  },
  {
   "cell_type": "markdown",
   "metadata": {},
   "source": [
    "11. Write a python program to find the factorial of a number."
   ]
  },
  {
   "cell_type": "code",
   "execution_count": null,
   "metadata": {},
   "outputs": [],
   "source": [
    "a=int(input('Enter the number'))\n",
    "f=1\n",
    "for i in range(1,a+1):\n",
    "    f=f*i\n",
    "    i+=1\n",
    "print('The factorial of {} is {}'.format(a,f))"
   ]
  },
  {
   "cell_type": "markdown",
   "metadata": {},
   "source": [
    "12.Write a python program to find whether a number is prime or composite"
   ]
  },
  {
   "cell_type": "code",
   "execution_count": 17,
   "metadata": {},
   "outputs": [
    {
     "name": "stdout",
     "output_type": "stream",
     "text": [
      "Enter the number23\n",
      "23 is prime number\n"
     ]
    }
   ],
   "source": [
    "import numpy as np\n",
    "\n",
    "x=int(input(\"Enter the number\"))\n",
    "a=np.arange(((x/2)+1),dtype=int)\n",
    "y=1\n",
    "for i in a[2:]:\n",
    "    if x % i==0:\n",
    "        y=0\n",
    "if y==0:\n",
    "    \n",
    "    print(\"{0} is not prime number\".format(x))\n",
    "    \n",
    "else:\n",
    "    print(\"{0} is prime number\".format(x))\n"
   ]
  },
  {
   "cell_type": "markdown",
   "metadata": {},
   "source": [
    "13. Write a python program to check whether a given string is palindrome or not"
   ]
  },
  {
   "cell_type": "code",
   "execution_count": 19,
   "metadata": {},
   "outputs": [
    {
     "name": "stdout",
     "output_type": "stream",
     "text": [
      "Enter the word- malayalam\n",
      "The string pallindrome\n"
     ]
    }
   ],
   "source": [
    "var=str(input('Enter the word- '))\n",
    "if var[::-1]==var:\n",
    "    print('The string pallindrome')\n",
    "else:\n",
    "    print('The string is not pallindrome')\n",
    "\n",
    "   \n"
   ]
  },
  {
   "cell_type": "markdown",
   "metadata": {},
   "source": [
    "14. Write a Python program to get the third side of right-angled triangle from two given sides"
   ]
  },
  {
   "cell_type": "code",
   "execution_count": 22,
   "metadata": {},
   "outputs": [
    {
     "name": "stdout",
     "output_type": "stream",
     "text": [
      "enter the Base of the triangle3\n",
      "enter the Height of the triangle4\n",
      "The hypotenuse of the the triangle is 5.0\n"
     ]
    }
   ],
   "source": [
    "import numpy as np\n",
    "a=int(input('enter the Base of the triangle'))\n",
    "b=int(input('enter the Height of the triangle'))\n",
    "Hy= a**2 + b**2\n",
    "hypotenuse=np.sqrt(Hy)\n",
    "print('The hypotenuse of the the triangle is {}'.format(hypotenuse))"
   ]
  },
  {
   "cell_type": "markdown",
   "metadata": {},
   "source": [
    "15.Write a python program to print the frequency of each of the characters present in a given string."
   ]
  },
  {
   "cell_type": "code",
   "execution_count": 6,
   "metadata": {},
   "outputs": [
    {
     "name": "stdout",
     "output_type": "stream",
     "text": [
      "Enter the stringEducation is best\n"
     ]
    }
   ],
   "source": [
    "str1=str(input('Enter the string'))"
   ]
  },
  {
   "cell_type": "code",
   "execution_count": 12,
   "metadata": {},
   "outputs": [
    {
     "name": "stdout",
     "output_type": "stream",
     "text": [
      "The frequency of the characters in the given string is \n",
      " is  {'E': 1, 'd': 1, 'u': 1, 'c': 1, 'a': 1, 't': 2, 'i': 2, 'o': 1, 'n': 1, 's': 2, 'b': 1, 'e': 1}\n"
     ]
    }
   ],
   "source": [
    "freq_str = {} \n",
    "  \n",
    "for i in str1: \n",
    "    \n",
    "    if i in freq_str: \n",
    "        if i !=' ':\n",
    "            freq_str[i] += 1\n",
    "    else:\n",
    "        if i !=' ':\n",
    "            freq_str[i] = 1\n",
    "print('The frequency of the characters in the given string is \\n is ' ,freq_str )"
   ]
  },
  {
   "cell_type": "code",
   "execution_count": null,
   "metadata": {},
   "outputs": [],
   "source": []
  }
 ],
 "metadata": {
  "kernelspec": {
   "display_name": "Python 3",
   "language": "python",
   "name": "python3"
  },
  "language_info": {
   "codemirror_mode": {
    "name": "ipython",
    "version": 3
   },
   "file_extension": ".py",
   "mimetype": "text/x-python",
   "name": "python",
   "nbconvert_exporter": "python",
   "pygments_lexer": "ipython3",
   "version": "3.6.5"
  }
 },
 "nbformat": 4,
 "nbformat_minor": 2
}
