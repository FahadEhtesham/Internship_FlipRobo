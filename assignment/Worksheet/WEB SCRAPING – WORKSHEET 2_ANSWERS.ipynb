{
 "cells": [
  {
   "cell_type": "markdown",
   "metadata": {},
   "source": [
    "1) C\n",
    "\n",
    "2) C\n",
    "\n",
    "3) C\n",
    "\n",
    "4) D\n",
    "\n",
    "5) C\n",
    "\n",
    "6) C\n",
    "\n",
    "7) C\n",
    "\n",
    "8) A\n",
    "\n",
    "9) C\n",
    "\n",
    "10) A\n",
    "\n",
    "11) ABCD\n",
    "\n",
    "12) C\n",
    "\n",
    "13) ABC\n",
    "\n"
   ]
  },
  {
   "cell_type": "markdown",
   "metadata": {},
   "source": [
    "14. Write a python program to scrap 10 images of Rayban Sunglasses from flipkart website and save them in a\n",
    "directory."
   ]
  },
  {
   "cell_type": "code",
   "execution_count": 1,
   "metadata": {},
   "outputs": [],
   "source": [
    "from selenium import webdriver\n",
    "import os \n",
    "import shutil\n",
    "import requests\n",
    "import pandas as pd\n",
    "import numpy as np"
   ]
  },
  {
   "cell_type": "code",
   "execution_count": 2,
   "metadata": {},
   "outputs": [],
   "source": [
    "current_page=0\n",
    "end_page=2"
   ]
  },
  {
   "cell_type": "code",
   "execution_count": 4,
   "metadata": {
    "collapsed": true
   },
   "outputs": [
    {
     "data": {
      "text/plain": [
       "[<selenium.webdriver.remote.webelement.WebElement (session=\"f3159395934b3286a9f934a79e105b52\", element=\"0.48877383656486706-1\")>,\n",
       " <selenium.webdriver.remote.webelement.WebElement (session=\"f3159395934b3286a9f934a79e105b52\", element=\"0.48877383656486706-2\")>,\n",
       " <selenium.webdriver.remote.webelement.WebElement (session=\"f3159395934b3286a9f934a79e105b52\", element=\"0.48877383656486706-3\")>,\n",
       " <selenium.webdriver.remote.webelement.WebElement (session=\"f3159395934b3286a9f934a79e105b52\", element=\"0.48877383656486706-4\")>,\n",
       " <selenium.webdriver.remote.webelement.WebElement (session=\"f3159395934b3286a9f934a79e105b52\", element=\"0.48877383656486706-5\")>,\n",
       " <selenium.webdriver.remote.webelement.WebElement (session=\"f3159395934b3286a9f934a79e105b52\", element=\"0.48877383656486706-6\")>,\n",
       " <selenium.webdriver.remote.webelement.WebElement (session=\"f3159395934b3286a9f934a79e105b52\", element=\"0.48877383656486706-7\")>,\n",
       " <selenium.webdriver.remote.webelement.WebElement (session=\"f3159395934b3286a9f934a79e105b52\", element=\"0.48877383656486706-8\")>,\n",
       " <selenium.webdriver.remote.webelement.WebElement (session=\"f3159395934b3286a9f934a79e105b52\", element=\"0.48877383656486706-9\")>,\n",
       " <selenium.webdriver.remote.webelement.WebElement (session=\"f3159395934b3286a9f934a79e105b52\", element=\"0.48877383656486706-10\")>,\n",
       " <selenium.webdriver.remote.webelement.WebElement (session=\"f3159395934b3286a9f934a79e105b52\", element=\"0.48877383656486706-11\")>,\n",
       " <selenium.webdriver.remote.webelement.WebElement (session=\"f3159395934b3286a9f934a79e105b52\", element=\"0.48877383656486706-12\")>,\n",
       " <selenium.webdriver.remote.webelement.WebElement (session=\"f3159395934b3286a9f934a79e105b52\", element=\"0.48877383656486706-13\")>,\n",
       " <selenium.webdriver.remote.webelement.WebElement (session=\"f3159395934b3286a9f934a79e105b52\", element=\"0.48877383656486706-14\")>,\n",
       " <selenium.webdriver.remote.webelement.WebElement (session=\"f3159395934b3286a9f934a79e105b52\", element=\"0.48877383656486706-15\")>,\n",
       " <selenium.webdriver.remote.webelement.WebElement (session=\"f3159395934b3286a9f934a79e105b52\", element=\"0.48877383656486706-16\")>,\n",
       " <selenium.webdriver.remote.webelement.WebElement (session=\"f3159395934b3286a9f934a79e105b52\", element=\"0.48877383656486706-17\")>,\n",
       " <selenium.webdriver.remote.webelement.WebElement (session=\"f3159395934b3286a9f934a79e105b52\", element=\"0.48877383656486706-18\")>,\n",
       " <selenium.webdriver.remote.webelement.WebElement (session=\"f3159395934b3286a9f934a79e105b52\", element=\"0.48877383656486706-19\")>,\n",
       " <selenium.webdriver.remote.webelement.WebElement (session=\"f3159395934b3286a9f934a79e105b52\", element=\"0.48877383656486706-20\")>,\n",
       " <selenium.webdriver.remote.webelement.WebElement (session=\"f3159395934b3286a9f934a79e105b52\", element=\"0.48877383656486706-21\")>,\n",
       " <selenium.webdriver.remote.webelement.WebElement (session=\"f3159395934b3286a9f934a79e105b52\", element=\"0.48877383656486706-22\")>,\n",
       " <selenium.webdriver.remote.webelement.WebElement (session=\"f3159395934b3286a9f934a79e105b52\", element=\"0.48877383656486706-23\")>,\n",
       " <selenium.webdriver.remote.webelement.WebElement (session=\"f3159395934b3286a9f934a79e105b52\", element=\"0.48877383656486706-24\")>,\n",
       " <selenium.webdriver.remote.webelement.WebElement (session=\"f3159395934b3286a9f934a79e105b52\", element=\"0.48877383656486706-25\")>,\n",
       " <selenium.webdriver.remote.webelement.WebElement (session=\"f3159395934b3286a9f934a79e105b52\", element=\"0.48877383656486706-26\")>,\n",
       " <selenium.webdriver.remote.webelement.WebElement (session=\"f3159395934b3286a9f934a79e105b52\", element=\"0.48877383656486706-27\")>,\n",
       " <selenium.webdriver.remote.webelement.WebElement (session=\"f3159395934b3286a9f934a79e105b52\", element=\"0.48877383656486706-28\")>,\n",
       " <selenium.webdriver.remote.webelement.WebElement (session=\"f3159395934b3286a9f934a79e105b52\", element=\"0.48877383656486706-29\")>,\n",
       " <selenium.webdriver.remote.webelement.WebElement (session=\"f3159395934b3286a9f934a79e105b52\", element=\"0.48877383656486706-30\")>,\n",
       " <selenium.webdriver.remote.webelement.WebElement (session=\"f3159395934b3286a9f934a79e105b52\", element=\"0.48877383656486706-31\")>,\n",
       " <selenium.webdriver.remote.webelement.WebElement (session=\"f3159395934b3286a9f934a79e105b52\", element=\"0.48877383656486706-32\")>,\n",
       " <selenium.webdriver.remote.webelement.WebElement (session=\"f3159395934b3286a9f934a79e105b52\", element=\"0.48877383656486706-33\")>,\n",
       " <selenium.webdriver.remote.webelement.WebElement (session=\"f3159395934b3286a9f934a79e105b52\", element=\"0.48877383656486706-34\")>,\n",
       " <selenium.webdriver.remote.webelement.WebElement (session=\"f3159395934b3286a9f934a79e105b52\", element=\"0.48877383656486706-35\")>,\n",
       " <selenium.webdriver.remote.webelement.WebElement (session=\"f3159395934b3286a9f934a79e105b52\", element=\"0.48877383656486706-36\")>,\n",
       " <selenium.webdriver.remote.webelement.WebElement (session=\"f3159395934b3286a9f934a79e105b52\", element=\"0.48877383656486706-37\")>,\n",
       " <selenium.webdriver.remote.webelement.WebElement (session=\"f3159395934b3286a9f934a79e105b52\", element=\"0.48877383656486706-38\")>,\n",
       " <selenium.webdriver.remote.webelement.WebElement (session=\"f3159395934b3286a9f934a79e105b52\", element=\"0.48877383656486706-39\")>,\n",
       " <selenium.webdriver.remote.webelement.WebElement (session=\"f3159395934b3286a9f934a79e105b52\", element=\"0.48877383656486706-40\")>]"
      ]
     },
     "execution_count": 4,
     "metadata": {},
     "output_type": "execute_result"
    }
   ],
   "source": [
    "Driver_path =r'C:\\Users\\Fahad Ehtesham\\Desktop\\data Trained\\FLIP ROBO\\Web Scrapping\\chromedriver.exe'\n",
    "driver=webdriver.Chrome(executable_path=Driver_path)\n",
    "current_page_url =driver.get('https://www.flipkart.com/sunglasses/pr?p%5B%5D=facets.ideal_for%255B%255D%3DMen&sid=26x&otracker=nmenu_sub_Men_0_Sunglasses&otracker=nmenu_sub_Men_0_Sunglasses&p%5B%5D=facets.ideal_for%255B%255D%3DMen%2B%2526%2BWomen&p%5B%5D=facets.brand%255B%255D%3DRay-Ban')\n",
    "os.mkdir('Ray-Ban_scrapped_image')\n",
    "for page in range(current_page,end_page):\n",
    "    images=driver.find_elements_by_xpath(\"//img[@class='_3togXc']\")        \n",
    "        \n",
    "images        "
   ]
  },
  {
   "cell_type": "markdown",
   "metadata": {},
   "source": [
    "# Getting only 10 Urls"
   ]
  },
  {
   "cell_type": "code",
   "execution_count": 10,
   "metadata": {},
   "outputs": [],
   "source": [
    "urls=[]\n",
    "for image in images[:10]:\n",
    "    source=image.get_attribute('src')\n",
    "    urls.append(source)\n"
   ]
  },
  {
   "cell_type": "markdown",
   "metadata": {},
   "source": [
    "# Downloading the images"
   ]
  },
  {
   "cell_type": "code",
   "execution_count": 11,
   "metadata": {},
   "outputs": [
    {
     "name": "stdout",
     "output_type": "stream",
     "text": [
      "Downloading 1 of 10 images\n",
      "Downloading 2 of 10 images\n",
      "Downloading 3 of 10 images\n",
      "Downloading 4 of 10 images\n",
      "Downloading 5 of 10 images\n",
      "Downloading 6 of 10 images\n",
      "Downloading 7 of 10 images\n",
      "Downloading 8 of 10 images\n",
      "Downloading 9 of 10 images\n",
      "Downloading 10 of 10 images\n"
     ]
    }
   ],
   "source": [
    "for index,link in enumerate(urls):\n",
    "    print('Downloading {0} of {1} images'.format(index+1,len(urls)))\n",
    "    response=requests.get(link)\n",
    "    with open('Ray-Ban_scrapped_image/img_{0}{1}.jpg'.format(index,count),'wb') as file:\n",
    "        file.write(response.content)\n",
    "    #next_page=driver.find_element_by_xpath(\"//a[@class='_3fVaIS']\").click()"
   ]
  },
  {
   "cell_type": "markdown",
   "metadata": {},
   "source": [
    "15. Write a program to scrap 20 mouses’ data which includes model name, price from www.amazon.in whose price\n",
    "is less than 500 and make a data frame with 2 columns “model_name”,” price” with the scraped data."
   ]
  },
  {
   "cell_type": "code",
   "execution_count": 2,
   "metadata": {},
   "outputs": [],
   "source": [
    "Driver_path =r'C:\\Users\\Fahad Ehtesham\\Desktop\\data Trained\\FLIP ROBO\\Web Scrapping\\chromedriver.exe'\n",
    "driver=webdriver.Chrome(executable_path=Driver_path)\n",
    "current_page_url =driver.get('https://www.amazon.in/s?k=mouse&rh=p_36%3A-50000&qid=1601131776&rnid=1318502031&ref=sr_nr_p_36_5')\n",
    "os.mkdir('mouse_scrapped_brand_price_data')"
   ]
  },
  {
   "cell_type": "code",
   "execution_count": 7,
   "metadata": {},
   "outputs": [],
   "source": [
    "brand=driver.find_elements_by_xpath(\"//span[@class='a-size-medium a-color-base a-text-normal']\")"
   ]
  },
  {
   "cell_type": "code",
   "execution_count": 8,
   "metadata": {
    "collapsed": true
   },
   "outputs": [
    {
     "data": {
      "text/plain": [
       "[<selenium.webdriver.remote.webelement.WebElement (session=\"281871e98308b8305c862058be90265d\", element=\"0.08115699581035507-1\")>,\n",
       " <selenium.webdriver.remote.webelement.WebElement (session=\"281871e98308b8305c862058be90265d\", element=\"0.08115699581035507-2\")>,\n",
       " <selenium.webdriver.remote.webelement.WebElement (session=\"281871e98308b8305c862058be90265d\", element=\"0.08115699581035507-3\")>,\n",
       " <selenium.webdriver.remote.webelement.WebElement (session=\"281871e98308b8305c862058be90265d\", element=\"0.08115699581035507-4\")>,\n",
       " <selenium.webdriver.remote.webelement.WebElement (session=\"281871e98308b8305c862058be90265d\", element=\"0.08115699581035507-5\")>,\n",
       " <selenium.webdriver.remote.webelement.WebElement (session=\"281871e98308b8305c862058be90265d\", element=\"0.08115699581035507-6\")>,\n",
       " <selenium.webdriver.remote.webelement.WebElement (session=\"281871e98308b8305c862058be90265d\", element=\"0.08115699581035507-7\")>,\n",
       " <selenium.webdriver.remote.webelement.WebElement (session=\"281871e98308b8305c862058be90265d\", element=\"0.08115699581035507-8\")>,\n",
       " <selenium.webdriver.remote.webelement.WebElement (session=\"281871e98308b8305c862058be90265d\", element=\"0.08115699581035507-9\")>,\n",
       " <selenium.webdriver.remote.webelement.WebElement (session=\"281871e98308b8305c862058be90265d\", element=\"0.08115699581035507-10\")>,\n",
       " <selenium.webdriver.remote.webelement.WebElement (session=\"281871e98308b8305c862058be90265d\", element=\"0.08115699581035507-11\")>,\n",
       " <selenium.webdriver.remote.webelement.WebElement (session=\"281871e98308b8305c862058be90265d\", element=\"0.08115699581035507-12\")>,\n",
       " <selenium.webdriver.remote.webelement.WebElement (session=\"281871e98308b8305c862058be90265d\", element=\"0.08115699581035507-13\")>,\n",
       " <selenium.webdriver.remote.webelement.WebElement (session=\"281871e98308b8305c862058be90265d\", element=\"0.08115699581035507-14\")>,\n",
       " <selenium.webdriver.remote.webelement.WebElement (session=\"281871e98308b8305c862058be90265d\", element=\"0.08115699581035507-15\")>,\n",
       " <selenium.webdriver.remote.webelement.WebElement (session=\"281871e98308b8305c862058be90265d\", element=\"0.08115699581035507-16\")>,\n",
       " <selenium.webdriver.remote.webelement.WebElement (session=\"281871e98308b8305c862058be90265d\", element=\"0.08115699581035507-17\")>,\n",
       " <selenium.webdriver.remote.webelement.WebElement (session=\"281871e98308b8305c862058be90265d\", element=\"0.08115699581035507-18\")>,\n",
       " <selenium.webdriver.remote.webelement.WebElement (session=\"281871e98308b8305c862058be90265d\", element=\"0.08115699581035507-19\")>,\n",
       " <selenium.webdriver.remote.webelement.WebElement (session=\"281871e98308b8305c862058be90265d\", element=\"0.08115699581035507-20\")>,\n",
       " <selenium.webdriver.remote.webelement.WebElement (session=\"281871e98308b8305c862058be90265d\", element=\"0.08115699581035507-21\")>,\n",
       " <selenium.webdriver.remote.webelement.WebElement (session=\"281871e98308b8305c862058be90265d\", element=\"0.08115699581035507-22\")>]"
      ]
     },
     "execution_count": 8,
     "metadata": {},
     "output_type": "execute_result"
    }
   ],
   "source": [
    "brand"
   ]
  },
  {
   "cell_type": "code",
   "execution_count": 9,
   "metadata": {},
   "outputs": [
    {
     "name": "stdout",
     "output_type": "stream",
     "text": [
      "['Zinq Technologies ZQ233 Wired Mouse with 1000DPI for Laptop and Desktop (Black)', 'Quantum QHM232 3-Button 1000DPI Wired Optical Mouse (Black)', 'Xmate Zorro Wired USB Gaming Mouse, 3200 DPI Optical Sensor, RGB Lighting, 6 Mechanical Buttons, Lightweight & Durable Mouse for PC/Laptop/Mac - (Black)', 'Logitech M90 Wired USB Mouse, 1000 DPI Optical Tracking, Ambidextrous PC/Mac/Laptop - Black', 'Lenovo 300 Wired USB Mouse, GX30M39704', 'HP X1000 Wired Mouse (Black/Grey)', 'Ant Esports GM200W Gaming Mouse Wired, 6 Programmable Buttons, 3200 DPI Adjustable, with 7 Breathing Lights, Comfortable Grip Ergonomic Optical PC Computer Gaming Mouse, World of Warships Edition – Black', 'Portronics Toad 12 Wireless 2.4G Optical Mouse with Ergonomic Design, USB Receiver for Notebook, Laptop, Computer, MacBook, Windows, MacOS, (Blue)', 'Mi Portable Wireless Mouse with Ergonomic Design, Long Battery Backup, 1200 DPI High Resolution and Ultra Lightweight (White)', 'Dell Ms116 275-BBCB Optical Mouse', 'Zebronics Zeb-Rise Wired USB Optical Mouse with 3 Buttons (Black)', 'Zebronics Zeb-Comfort USB Optical Mouse', 'Dell MS116 1000DPI USB Wired Optical Mouse', 'Xmate Rio Wired USB Gaming Mouse, Led Backlit, 6 Button, 7 Color Breathing Lights, High Ergonomic Mouse, Durable ABS Body for Computer PC & Laptop, 1.5M Nylon Braided Cable (Black)', 'iBall FreeGo G20 High Speed Wireless Optical Mouse, Black', 'Zinq Technologies ZQ233 Wired Mouse with 1000DPI for Laptop and Desktop (Black)', 'HP Wired Mouse M10', 'Quantum Snype 1.0 3200 DPI Wired USB Gaming Mouse with 7 Programmable Keys, Adjustable Weights & Nylon Braided Cable (Grey)', 'Zebronics Zeb-Alex Wired USB Optical Mouse with 3 Buttons', 'Quantum QHM222 3-Button 1000DPI Wired Optical Mouse (Black)']\n"
     ]
    }
   ],
   "source": [
    "brands=[]\n",
    "for i in brand[:20]:\n",
    "    brands.append(i.text)\n",
    "print(brands)\n",
    "    "
   ]
  },
  {
   "cell_type": "code",
   "execution_count": 10,
   "metadata": {},
   "outputs": [
    {
     "name": "stdout",
     "output_type": "stream",
     "text": [
      "['199', '222', '499', '299', '299', '349', '449', '477', '500', '349', '135', '225', '405', '399', '499', '199', '338', '499', '225', '299']\n"
     ]
    }
   ],
   "source": [
    "price=driver.find_elements_by_xpath(\"//span[@class='a-price-whole']\")\n",
    "prices=[]\n",
    "for i in price[:20]:\n",
    "    prices.append(i.text)\n",
    "print(prices)"
   ]
  },
  {
   "cell_type": "code",
   "execution_count": 11,
   "metadata": {},
   "outputs": [],
   "source": [
    "product_detail={'Brand':brands,'Price':prices}"
   ]
  },
  {
   "cell_type": "code",
   "execution_count": 13,
   "metadata": {},
   "outputs": [],
   "source": [
    "import pandas as pd \n",
    "Product_details=pd.DataFrame(product_detail)"
   ]
  },
  {
   "cell_type": "code",
   "execution_count": 14,
   "metadata": {},
   "outputs": [
    {
     "data": {
      "text/html": [
       "<div>\n",
       "<style scoped>\n",
       "    .dataframe tbody tr th:only-of-type {\n",
       "        vertical-align: middle;\n",
       "    }\n",
       "\n",
       "    .dataframe tbody tr th {\n",
       "        vertical-align: top;\n",
       "    }\n",
       "\n",
       "    .dataframe thead th {\n",
       "        text-align: right;\n",
       "    }\n",
       "</style>\n",
       "<table border=\"1\" class=\"dataframe\">\n",
       "  <thead>\n",
       "    <tr style=\"text-align: right;\">\n",
       "      <th></th>\n",
       "      <th>Brand</th>\n",
       "      <th>Price</th>\n",
       "    </tr>\n",
       "  </thead>\n",
       "  <tbody>\n",
       "    <tr>\n",
       "      <td>0</td>\n",
       "      <td>Zinq Technologies ZQ233 Wired Mouse with 1000D...</td>\n",
       "      <td>199</td>\n",
       "    </tr>\n",
       "    <tr>\n",
       "      <td>1</td>\n",
       "      <td>Quantum QHM232 3-Button 1000DPI Wired Optical ...</td>\n",
       "      <td>222</td>\n",
       "    </tr>\n",
       "    <tr>\n",
       "      <td>2</td>\n",
       "      <td>Xmate Zorro Wired USB Gaming Mouse, 3200 DPI O...</td>\n",
       "      <td>499</td>\n",
       "    </tr>\n",
       "    <tr>\n",
       "      <td>3</td>\n",
       "      <td>Logitech M90 Wired USB Mouse, 1000 DPI Optical...</td>\n",
       "      <td>299</td>\n",
       "    </tr>\n",
       "    <tr>\n",
       "      <td>4</td>\n",
       "      <td>Lenovo 300 Wired USB Mouse, GX30M39704</td>\n",
       "      <td>299</td>\n",
       "    </tr>\n",
       "    <tr>\n",
       "      <td>5</td>\n",
       "      <td>HP X1000 Wired Mouse (Black/Grey)</td>\n",
       "      <td>349</td>\n",
       "    </tr>\n",
       "    <tr>\n",
       "      <td>6</td>\n",
       "      <td>Ant Esports GM200W Gaming Mouse Wired, 6 Progr...</td>\n",
       "      <td>449</td>\n",
       "    </tr>\n",
       "    <tr>\n",
       "      <td>7</td>\n",
       "      <td>Portronics Toad 12 Wireless 2.4G Optical Mouse...</td>\n",
       "      <td>477</td>\n",
       "    </tr>\n",
       "    <tr>\n",
       "      <td>8</td>\n",
       "      <td>Mi Portable Wireless Mouse with Ergonomic Desi...</td>\n",
       "      <td>500</td>\n",
       "    </tr>\n",
       "    <tr>\n",
       "      <td>9</td>\n",
       "      <td>Dell Ms116 275-BBCB Optical Mouse</td>\n",
       "      <td>349</td>\n",
       "    </tr>\n",
       "    <tr>\n",
       "      <td>10</td>\n",
       "      <td>Zebronics Zeb-Rise Wired USB Optical Mouse wit...</td>\n",
       "      <td>135</td>\n",
       "    </tr>\n",
       "    <tr>\n",
       "      <td>11</td>\n",
       "      <td>Zebronics Zeb-Comfort USB Optical Mouse</td>\n",
       "      <td>225</td>\n",
       "    </tr>\n",
       "    <tr>\n",
       "      <td>12</td>\n",
       "      <td>Dell MS116 1000DPI USB Wired Optical Mouse</td>\n",
       "      <td>405</td>\n",
       "    </tr>\n",
       "    <tr>\n",
       "      <td>13</td>\n",
       "      <td>Xmate Rio Wired USB Gaming Mouse, Led Backlit,...</td>\n",
       "      <td>399</td>\n",
       "    </tr>\n",
       "    <tr>\n",
       "      <td>14</td>\n",
       "      <td>iBall FreeGo G20 High Speed Wireless Optical M...</td>\n",
       "      <td>499</td>\n",
       "    </tr>\n",
       "    <tr>\n",
       "      <td>15</td>\n",
       "      <td>Zinq Technologies ZQ233 Wired Mouse with 1000D...</td>\n",
       "      <td>199</td>\n",
       "    </tr>\n",
       "    <tr>\n",
       "      <td>16</td>\n",
       "      <td>HP Wired Mouse M10</td>\n",
       "      <td>338</td>\n",
       "    </tr>\n",
       "    <tr>\n",
       "      <td>17</td>\n",
       "      <td>Quantum Snype 1.0 3200 DPI Wired USB Gaming Mo...</td>\n",
       "      <td>499</td>\n",
       "    </tr>\n",
       "    <tr>\n",
       "      <td>18</td>\n",
       "      <td>Zebronics Zeb-Alex Wired USB Optical Mouse wit...</td>\n",
       "      <td>225</td>\n",
       "    </tr>\n",
       "    <tr>\n",
       "      <td>19</td>\n",
       "      <td>Quantum QHM222 3-Button 1000DPI Wired Optical ...</td>\n",
       "      <td>299</td>\n",
       "    </tr>\n",
       "  </tbody>\n",
       "</table>\n",
       "</div>"
      ],
      "text/plain": [
       "                                                Brand Price\n",
       "0   Zinq Technologies ZQ233 Wired Mouse with 1000D...   199\n",
       "1   Quantum QHM232 3-Button 1000DPI Wired Optical ...   222\n",
       "2   Xmate Zorro Wired USB Gaming Mouse, 3200 DPI O...   499\n",
       "3   Logitech M90 Wired USB Mouse, 1000 DPI Optical...   299\n",
       "4              Lenovo 300 Wired USB Mouse, GX30M39704   299\n",
       "5                   HP X1000 Wired Mouse (Black/Grey)   349\n",
       "6   Ant Esports GM200W Gaming Mouse Wired, 6 Progr...   449\n",
       "7   Portronics Toad 12 Wireless 2.4G Optical Mouse...   477\n",
       "8   Mi Portable Wireless Mouse with Ergonomic Desi...   500\n",
       "9                   Dell Ms116 275-BBCB Optical Mouse   349\n",
       "10  Zebronics Zeb-Rise Wired USB Optical Mouse wit...   135\n",
       "11            Zebronics Zeb-Comfort USB Optical Mouse   225\n",
       "12         Dell MS116 1000DPI USB Wired Optical Mouse   405\n",
       "13  Xmate Rio Wired USB Gaming Mouse, Led Backlit,...   399\n",
       "14  iBall FreeGo G20 High Speed Wireless Optical M...   499\n",
       "15  Zinq Technologies ZQ233 Wired Mouse with 1000D...   199\n",
       "16                                 HP Wired Mouse M10   338\n",
       "17  Quantum Snype 1.0 3200 DPI Wired USB Gaming Mo...   499\n",
       "18  Zebronics Zeb-Alex Wired USB Optical Mouse wit...   225\n",
       "19  Quantum QHM222 3-Button 1000DPI Wired Optical ...   299"
      ]
     },
     "execution_count": 14,
     "metadata": {},
     "output_type": "execute_result"
    }
   ],
   "source": [
    "Product_details"
   ]
  },
  {
   "cell_type": "code",
   "execution_count": null,
   "metadata": {},
   "outputs": [],
   "source": []
  }
 ],
 "metadata": {
  "kernelspec": {
   "display_name": "Python 3",
   "language": "python",
   "name": "python3"
  },
  "language_info": {
   "codemirror_mode": {
    "name": "ipython",
    "version": 3
   },
   "file_extension": ".py",
   "mimetype": "text/x-python",
   "name": "python",
   "nbconvert_exporter": "python",
   "pygments_lexer": "ipython3",
   "version": "3.6.5"
  }
 },
 "nbformat": 4,
 "nbformat_minor": 2
}
