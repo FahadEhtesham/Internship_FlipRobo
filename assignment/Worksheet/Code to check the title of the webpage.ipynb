{
 "cells": [
  {
   "cell_type": "code",
   "execution_count": 1,
   "metadata": {},
   "outputs": [],
   "source": [
    "from selenium import webdriver\n",
    "import os \n",
    "import shutil\n",
    "import requests\n",
    "import pandas as pd\n",
    "import numpy as np"
   ]
  },
  {
   "cell_type": "code",
   "execution_count": 2,
   "metadata": {},
   "outputs": [],
   "source": [
    "Driver_path =r'C:\\Users\\Fahad Ehtesham\\Desktop\\data Trained\\FLIP ROBO\\Web Scrapping\\chromedriver.exe'\n",
    "driver=webdriver.Chrome(executable_path=Driver_path)\n",
    "current_page_url =driver.get('https://www.thehindu.com/')\n",
    "                            \n"
   ]
  },
  {
   "cell_type": "code",
   "execution_count": 4,
   "metadata": {},
   "outputs": [
    {
     "name": "stdout",
     "output_type": "stream",
     "text": [
      "['The Hindu: Breaking News, India News, Sports News and Live Updates']\n"
     ]
    }
   ],
   "source": [
    "Title=driver.title\n",
    "Title_list =[]\n",
    "if Title is not None :\n",
    "    Title_list.append(Title)\n",
    "else :\n",
    "    print('There is no title')\n",
    "print(Title_list)   "
   ]
  },
  {
   "cell_type": "markdown",
   "metadata": {},
   "source": [
    "# Conclusion :-\n",
    "In the above code we have simply used driver.title in order to get the title of the web page  and in the if block we have tried to print the title, if title is present in the webpage else we have printed , there is no title in webpage"
   ]
  },
  {
   "cell_type": "code",
   "execution_count": null,
   "metadata": {},
   "outputs": [],
   "source": []
  }
 ],
 "metadata": {
  "kernelspec": {
   "display_name": "Python 3",
   "language": "python",
   "name": "python3"
  },
  "language_info": {
   "codemirror_mode": {
    "name": "ipython",
    "version": 3
   },
   "file_extension": ".py",
   "mimetype": "text/x-python",
   "name": "python",
   "nbconvert_exporter": "python",
   "pygments_lexer": "ipython3",
   "version": "3.6.5"
  }
 },
 "nbformat": 4,
 "nbformat_minor": 2
}
