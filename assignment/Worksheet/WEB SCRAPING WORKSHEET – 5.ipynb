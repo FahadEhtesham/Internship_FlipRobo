{
 "cells": [
  {
   "cell_type": "markdown",
   "metadata": {},
   "source": [
    "Q1. Write a python program to display all the header tags from ‘en.wikipedia.org/wiki/Main_Page’."
   ]
  },
  {
   "cell_type": "code",
   "execution_count": 1,
   "metadata": {},
   "outputs": [],
   "source": [
    "from urllib.request import urlopen\n",
    "from bs4 import BeautifulSoup\n"
   ]
  },
  {
   "cell_type": "code",
   "execution_count": 2,
   "metadata": {},
   "outputs": [
    {
     "name": "stdout",
     "output_type": "stream",
     "text": [
      "List all the header tags :\n",
      "\n",
      "<h1 class=\"firstHeading\" id=\"firstHeading\" lang=\"en\">Main Page</h1>\n",
      "\n",
      "<h2 class=\"mp-h2\" id=\"mp-tfa-h2\"><span id=\"From_today.27s_featured_article\"></span><span class=\"mw-headline\" id=\"From_today's_featured_article\">From today's featured article</span></h2>\n",
      "\n",
      "<h2 class=\"mp-h2\" id=\"mp-dyk-h2\"><span class=\"mw-headline\" id=\"Did_you_know_...\">Did you know ...</span></h2>\n",
      "\n",
      "<h2 class=\"mp-h2\" id=\"mp-itn-h2\"><span class=\"mw-headline\" id=\"In_the_news\">In the news</span></h2>\n",
      "\n",
      "<h2 class=\"mp-h2\" id=\"mp-otd-h2\"><span class=\"mw-headline\" id=\"On_this_day\">On this day</span></h2>\n",
      "\n",
      "<h2 class=\"mp-h2\" id=\"mp-tfp-h2\"><span id=\"Today.27s_featured_picture\"></span><span class=\"mw-headline\" id=\"Today's_featured_picture\">Today's featured picture</span></h2>\n",
      "\n",
      "<h2 class=\"mp-h2\" id=\"mp-other\"><span class=\"mw-headline\" id=\"Other_areas_of_Wikipedia\">Other areas of Wikipedia</span></h2>\n",
      "\n",
      "<h2 class=\"mp-h2\" id=\"mp-sister\"><span id=\"Wikipedia.27s_sister_projects\"></span><span class=\"mw-headline\" id=\"Wikipedia's_sister_projects\">Wikipedia's sister projects</span></h2>\n",
      "\n",
      "<h2 class=\"mp-h2\" id=\"mp-lang\"><span class=\"mw-headline\" id=\"Wikipedia_languages\">Wikipedia languages</span></h2>\n",
      "\n",
      "<h2>Navigation menu</h2>\n",
      "\n",
      "<h3 id=\"p-personal-label\">\n",
      "<span>Personal tools</span>\n",
      "</h3>\n",
      "\n",
      "<h3 id=\"p-namespaces-label\">\n",
      "<span>Namespaces</span>\n",
      "</h3>\n",
      "\n",
      "<h3 id=\"p-variants-label\">\n",
      "<span>Variants</span>\n",
      "</h3>\n",
      "\n",
      "<h3 id=\"p-views-label\">\n",
      "<span>Views</span>\n",
      "</h3>\n",
      "\n",
      "<h3 id=\"p-cactions-label\">\n",
      "<span>More</span>\n",
      "</h3>\n",
      "\n",
      "<h3>\n",
      "<label for=\"searchInput\">Search</label>\n",
      "</h3>\n",
      "\n",
      "<h3 id=\"p-navigation-label\">\n",
      "<span>Navigation</span>\n",
      "</h3>\n",
      "\n",
      "<h3 id=\"p-interaction-label\">\n",
      "<span>Contribute</span>\n",
      "</h3>\n",
      "\n",
      "<h3 id=\"p-tb-label\">\n",
      "<span>Tools</span>\n",
      "</h3>\n",
      "\n",
      "<h3 id=\"p-coll-print_export-label\">\n",
      "<span>Print/export</span>\n",
      "</h3>\n",
      "\n",
      "<h3 id=\"p-wikibase-otherprojects-label\">\n",
      "<span>In other projects</span>\n",
      "</h3>\n",
      "\n",
      "<h3 id=\"p-lang-label\">\n",
      "<span>Languages</span>\n",
      "</h3>\n"
     ]
    }
   ],
   "source": [
    "html = urlopen('https://en.wikipedia.org/wiki/Main_Page')\n",
    "bs = BeautifulSoup(html, \"html.parser\")\n",
    "titles = bs.find_all(['h1', 'h2','h3','h4','h5','h6'])\n",
    "print('List all the header tags :', *titles, sep='\\n\\n')\n"
   ]
  },
  {
   "cell_type": "markdown",
   "metadata": {},
   "source": [
    "Write a python program to display IMDB’s Top rated 100 movies’ data(i.e. Name, IMDB rating, duration,\n",
    "director, star cast - 10 main characters)"
   ]
  },
  {
   "cell_type": "code",
   "execution_count": 4,
   "metadata": {},
   "outputs": [
    {
     "name": "stdout",
     "output_type": "stream",
     "text": [
      "1 - The Shawshank Redemption (1994) - Starring: Frank Darabont (dir.), Tim Robbins, Morgan Freeman\n",
      "2 - The Godfather (1972) - Starring: Francis Ford Coppola (dir.), Marlon Brando, Al Pacino\n",
      "3 - The Godfather: Part II (1974) - Starring: Francis Ford Coppola (dir.), Al Pacino, Robert De Niro\n",
      "4 - The Dark Knight (2008) - Starring: Christopher Nolan (dir.), Christian Bale, Heath Ledger\n",
      "5 - 12 Angry Men (1957) - Starring: Sidney Lumet (dir.), Henry Fonda, Lee J. Cobb\n",
      "6 - Schindler's List (1993) - Starring: Steven Spielberg (dir.), Liam Neeson, Ralph Fiennes\n",
      "7 - The Lord of the Rings: The Return of the King (2003) - Starring: Peter Jackson (dir.), Elijah Wood, Viggo Mortensen\n",
      "8 - Pulp Fiction (1994) - Starring: Quentin Tarantino (dir.), John Travolta, Uma Thurman\n",
      "9 - Il buono, il brutto, il cattivo (1966) - Starring: Sergio Leone (dir.), Clint Eastwood, Eli Wallach\n",
      "1 -  The Lord of the Rings: The Fellowship of the Ring (2001) - Starring: Peter Jackson (dir.), Elijah Wood, Ian McKellen\n",
      "11 - Fight Club (1999) - Starring: David Fincher (dir.), Brad Pitt, Edward Norton\n",
      "12 - Forrest Gump (1994) - Starring: Robert Zemeckis (dir.), Tom Hanks, Robin Wright\n",
      "13 - Inception (2010) - Starring: Christopher Nolan (dir.), Leonardo DiCaprio, Joseph Gordon-Levitt\n",
      "14 - The Lord of the Rings: The Two Towers (2002) - Starring: Peter Jackson (dir.), Elijah Wood, Ian McKellen\n",
      "15 - Star Wars: Episode V - The Empire Strikes Back (1980) - Starring: Irvin Kershner (dir.), Mark Hamill, Harrison Ford\n",
      "16 - The Matrix (1999) - Starring: Lana Wachowski (dir.), Keanu Reeves, Laurence Fishburne\n",
      "17 - Goodfellas (1990) - Starring: Martin Scorsese (dir.), Robert De Niro, Ray Liotta\n",
      "18 - One Flew Over the Cuckoo's Nest (1975) - Starring: Milos Forman (dir.), Jack Nicholson, Louise Fletcher\n",
      "19 - Shichinin no samurai (1954) - Starring: Akira Kurosawa (dir.), Toshirô Mifune, Takashi Shimura\n",
      "20 - Se7en (1995) - Starring: David Fincher (dir.), Morgan Freeman, Brad Pitt\n",
      "21 - La vita è bella (1997) - Starring: Roberto Benigni (dir.), Roberto Benigni, Nicoletta Braschi\n",
      "22 - Cidade de Deus (2002) - Starring: Fernando Meirelles (dir.), Alexandre Rodrigues, Leandro Firmino\n",
      "23 - The Silence of the Lambs (1991) - Starring: Jonathan Demme (dir.), Jodie Foster, Anthony Hopkins\n",
      "24 - It's a Wonderful Life (1946) - Starring: Frank Capra (dir.), James Stewart, Donna Reed\n",
      "25 - Star Wars (1977) - Starring: George Lucas (dir.), Mark Hamill, Harrison Ford\n",
      "26 - Saving Private Ryan (1998) - Starring: Steven Spielberg (dir.), Tom Hanks, Matt Damon\n",
      "27 - Sen to Chihiro no kamikakushi (2001) - Starring: Hayao Miyazaki (dir.), Daveigh Chase, Suzanne Pleshette\n",
      "28 - The Green Mile (1999) - Starring: Frank Darabont (dir.), Tom Hanks, Michael Clarke Duncan\n",
      "29 - Gisaengchung (2019) - Starring: Bong Joon Ho (dir.), Kang-ho Song, Sun-kyun Lee\n",
      "30 - Interstellar (2014) - Starring: Christopher Nolan (dir.), Matthew McConaughey, Anne Hathaway\n",
      "31 - Léon (1994) - Starring: Luc Besson (dir.), Jean Reno, Gary Oldman\n",
      "32 - The Usual Suspects (1995) - Starring: Bryan Singer (dir.), Kevin Spacey, Gabriel Byrne\n",
      "33 - Seppuku (1962) - Starring: Masaki Kobayashi (dir.), Tatsuya Nakadai, Akira Ishihama\n",
      "34 - The Lion King (1994) - Starring: Roger Allers (dir.), Matthew Broderick, Jeremy Irons\n",
      "35 - Back to the Future (1985) - Starring: Robert Zemeckis (dir.), Michael J. Fox, Christopher Lloyd\n",
      "36 - The Pianist (2002) - Starring: Roman Polanski (dir.), Adrien Brody, Thomas Kretschmann\n",
      "37 - Terminator 2: Judgment Day (1991) - Starring: James Cameron (dir.), Arnold Schwarzenegger, Linda Hamilton\n",
      "38 - American History X (1998) - Starring: Tony Kaye (dir.), Edward Norton, Edward Furlong\n",
      "39 - Modern Times (1936) - Starring: Charles Chaplin (dir.), Charles Chaplin, Paulette Goddard\n",
      "40 - Psycho (1960) - Starring: Alfred Hitchcock (dir.), Anthony Perkins, Janet Leigh\n",
      "41 - Gladiator (2000) - Starring: Ridley Scott (dir.), Russell Crowe, Joaquin Phoenix\n",
      "42 - City Lights (1931) - Starring: Charles Chaplin (dir.), Charles Chaplin, Virginia Cherrill\n",
      "43 - The Departed (2006) - Starring: Martin Scorsese (dir.), Leonardo DiCaprio, Matt Damon\n",
      "44 - Hamilton (2020) - Starring: Thomas Kail (dir.), Lin-Manuel Miranda, Phillipa Soo\n",
      "45 - The Intouchables (2011) - Starring: Olivier Nakache (dir.), François Cluzet, Omar Sy\n",
      "46 - Whiplash (2014) - Starring: Damien Chazelle (dir.), Miles Teller, J.K. Simmons\n",
      "47 - The Prestige (2006) - Starring: Christopher Nolan (dir.), Christian Bale, Hugh Jackman\n",
      "48 - Hotaru no haka (1988) - Starring: Isao Takahata (dir.), Tsutomu Tatsumi, Ayano Shiraishi\n",
      "49 - Once Upon a Time in the West (1968) - Starring: Sergio Leone (dir.), Henry Fonda, Charles Bronson\n",
      "50 - Casablanca (1942) - Starring: Michael Curtiz (dir.), Humphrey Bogart, Ingrid Bergman\n",
      "51 - Nuovo Cinema Paradiso (1988) - Starring: Giuseppe Tornatore (dir.), Philippe Noiret, Enzo Cannavale\n",
      "52 - Rear Window (1954) - Starring: Alfred Hitchcock (dir.), James Stewart, Grace Kelly\n",
      "53 - Alien (1979) - Starring: Ridley Scott (dir.), Sigourney Weaver, Tom Skerritt\n",
      "54 - Apocalypse Now (1979) - Starring: Francis Ford Coppola (dir.), Martin Sheen, Marlon Brando\n",
      "55 - Memento (2000) - Starring: Christopher Nolan (dir.), Guy Pearce, Carrie-Anne Moss\n",
      "56 - Raiders of the Lost Ark (1981) - Starring: Steven Spielberg (dir.), Harrison Ford, Karen Allen\n",
      "57 - The Great Dictator (1940) - Starring: Charles Chaplin (dir.), Charles Chaplin, Paulette Goddard\n",
      "58 - Django Unchained (2012) - Starring: Quentin Tarantino (dir.), Jamie Foxx, Christoph Waltz\n",
      "59 - The Lives of Others (2006) - Starring: Florian Henckel von Donnersmarck (dir.), Ulrich Mühe, Martina Gedeck\n",
      "60 - Joker (2019) - Starring: Todd Phillips (dir.), Joaquin Phoenix, Robert De Niro\n",
      "61 - Paths of Glory (1957) - Starring: Stanley Kubrick (dir.), Kirk Douglas, Ralph Meeker\n",
      "62 - WALL·E (2008) - Starring: Andrew Stanton (dir.), Ben Burtt, Elissa Knight\n",
      "63 - The Shining (1980) - Starring: Stanley Kubrick (dir.), Jack Nicholson, Shelley Duvall\n",
      "64 - Avengers: Infinity War (2018) - Starring: Anthony Russo (dir.), Robert Downey Jr., Chris Hemsworth\n",
      "65 - Sunset Blvd (1950) - Starring: Billy Wilder (dir.), William Holden, Gloria Swanson\n",
      "66 - Witness for the Prosecution (1957) - Starring: Billy Wilder (dir.), Tyrone Power, Marlene Dietrich\n",
      "67 - Spider-Man: Into the Spider-Verse (2018) - Starring: Bob Persichetti (dir.), Shameik Moore, Jake Johnson\n",
      "68 - Oldeuboi (2003) - Starring: Chan-wook Park (dir.), Min-sik Choi, Ji-Tae Yoo\n",
      "69 - Mononoke-hime (1997) - Starring: Hayao Miyazaki (dir.), Yôji Matsuda, Yuriko Ishida\n",
      "70 - Dr Strangelove or: How I Learned to Stop Worrying and Love the Bomb (1964) - Starring: Stanley Kubrick (dir.), Peter Sellers, George C. Scott\n",
      "71 - The Dark Knight Rises (2012) - Starring: Christopher Nolan (dir.), Christian Bale, Tom Hardy\n",
      "72 - Once Upon a Time in America (1984) - Starring: Sergio Leone (dir.), Robert De Niro, James Woods\n",
      "73 - Aliens (1986) - Starring: James Cameron (dir.), Sigourney Weaver, Michael Biehn\n",
      "74 - Kimi no na wa (2016) - Starring: Makoto Shinkai (dir.), Ryûnosuke Kamiki, Mone Kamishiraishi\n",
      "75 - Avengers: Endgame (2019) - Starring: Anthony Russo (dir.), Robert Downey Jr., Chris Evans\n",
      "76 - Coco (2017) - Starring: Lee Unkrich (dir.), Anthony Gonzalez, Gael García Bernal\n",
      "77 - American Beauty (1999) - Starring: Sam Mendes (dir.), Kevin Spacey, Annette Bening\n",
      "78 - Braveheart (1995) - Starring: Mel Gibson (dir.), Mel Gibson, Sophie Marceau\n",
      "79 - 3 Idiots (2009) - Starring: Rajkumar Hirani (dir.), Aamir Khan, Madhavan\n",
      "80 - Das Boot (1981) - Starring: Wolfgang Petersen (dir.), Jürgen Prochnow, Herbert Grönemeyer\n",
      "81 - Toy Story (1995) - Starring: John Lasseter (dir.), Tom Hanks, Tim Allen\n",
      "82 - Tengoku to jigoku (1963) - Starring: Akira Kurosawa (dir.), Toshirô Mifune, Yutaka Sada\n",
      "83 - Amadeus (1984) - Starring: Milos Forman (dir.), F. Murray Abraham, Tom Hulce\n",
      "84 - Capharnaüm (2018) - Starring: Nadine Labaki (dir.), Zain Al Rafeea, Yordanos Shiferaw\n",
      "85 - Taare Zameen Par (2007) - Starring: Aamir Khan (dir.), Darsheel Safary, Aamir Khan\n",
      "86 - Star Wars: Episode VI - Return of the Jedi (1983) - Starring: Richard Marquand (dir.), Mark Hamill, Harrison Ford\n",
      "87 - Inglourious Basterds (2009) - Starring: Quentin Tarantino (dir.), Brad Pitt, Diane Kruger\n",
      "88 - Reservoir Dogs (1992) - Starring: Quentin Tarantino (dir.), Harvey Keitel, Tim Roth\n",
      "89 - Good Will Hunting (1997) - Starring: Gus Van Sant (dir.), Robin Williams, Matt Damon\n",
      "90 - 2001: A Space Odyssey (1968) - Starring: Stanley Kubrick (dir.), Keir Dullea, Gary Lockwood\n",
      "91 - Requiem for a Dream (2000) - Starring: Darren Aronofsky (dir.), Ellen Burstyn, Jared Leto\n",
      "92 - Vertigo (1958) - Starring: Alfred Hitchcock (dir.), James Stewart, Kim Novak\n",
      "93 - M - Eine Stadt sucht einen Mörder (1931) - Starring: Fritz Lang (dir.), Peter Lorre, Ellen Widmann\n",
      "94 - Dangal (2016) - Starring: Nitesh Tiwari (dir.), Aamir Khan, Sakshi Tanwar\n",
      "95 - Eternal Sunshine of the Spotless Mind (2004) - Starring: Michel Gondry (dir.), Jim Carrey, Kate Winslet\n",
      "96 - Jagten (2012) - Starring: Thomas Vinterberg (dir.), Mads Mikkelsen, Thomas Bo Larsen\n",
      "97 - Citizen Kane (1941) - Starring: Orson Welles (dir.), Orson Welles, Joseph Cotten\n",
      "98 - 1917 (2019) - Starring: Sam Mendes (dir.), Dean-Charles Chapman, George MacKay\n",
      "99 - Full Metal Jacket (1987) - Starring: Stanley Kubrick (dir.), Matthew Modine, R. Lee Ermey\n",
      "10 -  Ladri di biciclette (1948) - Starring: Vittorio De Sica (dir.), Lamberto Maggiorani, Enzo Staiola\n"
     ]
    }
   ],
   "source": [
    "#https://bit.ly/2NyxdAG\n",
    "from bs4 import BeautifulSoup\n",
    "import requests\n",
    "import re\n",
    "\n",
    "# Download IMDB's Top 250 data\n",
    "url = 'http://www.imdb.com/chart/top'\n",
    "response = requests.get(url)\n",
    "soup = BeautifulSoup(response.text, 'lxml')\n",
    "\n",
    "movies = soup.select('td.titleColumn')\n",
    "links = [a.attrs.get('href') for a in soup.select('td.titleColumn a')]\n",
    "crew = [a.attrs.get('title') for a in soup.select('td.titleColumn a')]\n",
    "ratings = [b.attrs.get('data-value') for b in soup.select('td.posterColumn span[name=ir]')]\n",
    "votes = [b.attrs.get('data-value') for b in soup.select('td.ratingColumn strong')]\n",
    "\n",
    "imdb = []\n",
    "\n",
    "# Store each item into dictionary (data), then put those into a list (imdb)\n",
    "for index in range(0, len(movies)):\n",
    "    # Seperate movie into: 'place', 'title', 'year'\n",
    "    movie_string = movies[index].get_text()\n",
    "    movie = (' '.join(movie_string.split()).replace('.', ''))\n",
    "    movie_title = movie[len(str(index))+1:-7]\n",
    "    year = re.search('\\((.*?)\\)', movie_string).group(1)\n",
    "    place = movie[:len(str(index))-(len(movie))]\n",
    "    data = {\"movie_title\": movie_title,\n",
    "            \"year\": year,\n",
    "            \"place\": place,\n",
    "            \"star_cast\": crew[index],\n",
    "            \"rating\": ratings[index],\n",
    "            \"vote\": votes[index],\n",
    "            \"link\": links[index]}\n",
    "    imdb.append(data)\n",
    "\n",
    "for item in imdb[:100]:\n",
    "    print(item['place'], '-', item['movie_title'], '('+item['year']+') -', 'Starring:', item['star_cast'])\n",
    "  "
   ]
  },
  {
   "cell_type": "markdown",
   "metadata": {},
   "source": [
    "5. Write a python program to scrap cricket rankings from ‘www.icc-cricket.com’. You have to scrap:\n",
    "i) Top 10 ODI teams.\n",
    "ii) Top 10 ODI Batsmen\n",
    "iii) Top 10 ODI bowlers "
   ]
  },
  {
   "cell_type": "code",
   "execution_count": 9,
   "metadata": {},
   "outputs": [],
   "source": [
    "from selenium import webdriver\n",
    "import os \n",
    "import shutil\n",
    "import requests\n",
    "import pandas as pd\n",
    "import numpy as np"
   ]
  },
  {
   "cell_type": "code",
   "execution_count": 38,
   "metadata": {},
   "outputs": [],
   "source": [
    "Driver_path =r'C:\\Users\\Fahad Ehtesham\\Desktop\\data Trained\\FLIP ROBO\\Web Scrapping\\chromedriver.exe'\n",
    "driver=webdriver.Chrome(executable_path=Driver_path)\n",
    "current_page_url =driver.get('https://www.icc-cricket.com/rankings/mens/team-rankings/odi')"
   ]
  },
  {
   "cell_type": "code",
   "execution_count": 39,
   "metadata": {},
   "outputs": [],
   "source": [
    "Team=driver.find_elements_by_xpath(\"//span[@class='u-hide-phablet']\")"
   ]
  },
  {
   "cell_type": "code",
   "execution_count": 40,
   "metadata": {},
   "outputs": [
    {
     "name": "stdout",
     "output_type": "stream",
     "text": [
      "['England', 'India', 'New Zealand', 'Australia', 'South Africa', 'Pakistan', 'Bangladesh', 'Sri Lanka', 'West Indies', 'Afghanistan']\n"
     ]
    }
   ],
   "source": [
    "Teams=[]\n",
    "for i in Team[:10]:\n",
    "    Teams.append(i.text)\n",
    "print(Teams)"
   ]
  },
  {
   "cell_type": "code",
   "execution_count": 41,
   "metadata": {},
   "outputs": [],
   "source": [
    "Driver_path =r'C:\\Users\\Fahad Ehtesham\\Desktop\\data Trained\\FLIP ROBO\\Web Scrapping\\chromedriver.exe'\n",
    "driver=webdriver.Chrome(executable_path=Driver_path)\n",
    "current_page_url =driver.get('https://www.icc-cricket.com/rankings/mens/player-rankings/odi')\n"
   ]
  },
  {
   "cell_type": "code",
   "execution_count": 42,
   "metadata": {},
   "outputs": [],
   "source": [
    "Player=driver.find_elements_by_xpath(\"//td[@class='table-body__cell name']\")"
   ]
  },
  {
   "cell_type": "code",
   "execution_count": 43,
   "metadata": {},
   "outputs": [
    {
     "name": "stdout",
     "output_type": "stream",
     "text": [
      "['Rohit Sharma', 'Babar Azam', 'Ross Taylor', 'Francois du Plessis', 'Kane Williamson', 'Aaron Finch', 'David Warner', 'Quinton de Kock', 'Jonny Bairstow']\n",
      "['Jasprit Bumrah', 'Mujeeb Ur Rahman', 'Chris Woakes', 'Kagiso Rabada', 'Pat Cummins', 'Mohammad Amir', 'Josh Hazlewood', 'Matt Henry', 'Jofra Archer', 'Chris Woakes']\n"
     ]
    }
   ],
   "source": [
    "Batsman=[]\n",
    "Bowler=[]\n",
    "for i in Player[:9]:\n",
    "    Batsman.append(i.text)\n",
    "for i in Player[9:19]:\n",
    "    Bowler.append(i.text) \n",
    "print(Batsman)\n",
    "print(Bowler)"
   ]
  },
  {
   "cell_type": "code",
   "execution_count": 49,
   "metadata": {},
   "outputs": [],
   "source": [
    "Top_Bat_Bowler=driver.find_elements_by_xpath(\"//div[@class='rankings-block__banner--name']\")[:2]"
   ]
  },
  {
   "cell_type": "code",
   "execution_count": 50,
   "metadata": {},
   "outputs": [
    {
     "data": {
      "text/plain": [
       "[<selenium.webdriver.remote.webelement.WebElement (session=\"e22420c2b0b4299c550643edc8d991fa\", element=\"0.53251191686343-55\")>,\n",
       " <selenium.webdriver.remote.webelement.WebElement (session=\"e22420c2b0b4299c550643edc8d991fa\", element=\"0.53251191686343-56\")>]"
      ]
     },
     "execution_count": 50,
     "metadata": {},
     "output_type": "execute_result"
    }
   ],
   "source": [
    "Top_Bat_Bowler"
   ]
  },
  {
   "cell_type": "code",
   "execution_count": 54,
   "metadata": {},
   "outputs": [
    {
     "data": {
      "text/plain": [
       "'Virat Kohli'"
      ]
     },
     "execution_count": 54,
     "metadata": {},
     "output_type": "execute_result"
    }
   ],
   "source": [
    "Top_Bat_Bowler[0].text"
   ]
  },
  {
   "cell_type": "code",
   "execution_count": 55,
   "metadata": {},
   "outputs": [],
   "source": [
    "Batsman.insert(0,Top_Bat_Bowler[0].text)"
   ]
  },
  {
   "cell_type": "code",
   "execution_count": 56,
   "metadata": {},
   "outputs": [],
   "source": [
    "Bowler.insert(0,Top_Bat_Bowler[1].text)"
   ]
  },
  {
   "cell_type": "code",
   "execution_count": 52,
   "metadata": {},
   "outputs": [
    {
     "data": {
      "text/plain": [
       "['Virat Kohli', 'Trent Boult']"
      ]
     },
     "execution_count": 52,
     "metadata": {},
     "output_type": "execute_result"
    }
   ],
   "source": [
    "Top_player.append()"
   ]
  },
  {
   "cell_type": "code",
   "execution_count": 57,
   "metadata": {},
   "outputs": [
    {
     "name": "stdout",
     "output_type": "stream",
     "text": [
      "['Virat Kohli', 'Rohit Sharma', 'Babar Azam', 'Ross Taylor', 'Francois du Plessis', 'Kane Williamson', 'Aaron Finch', 'David Warner', 'Quinton de Kock', 'Jonny Bairstow']\n",
      "['Trent Boult', 'Jasprit Bumrah', 'Mujeeb Ur Rahman', 'Chris Woakes', 'Kagiso Rabada', 'Pat Cummins', 'Mohammad Amir', 'Josh Hazlewood', 'Matt Henry', 'Jofra Archer', 'Chris Woakes']\n"
     ]
    }
   ],
   "source": [
    "print(Batsman)\n",
    "print(Bowler)"
   ]
  }
 ],
 "metadata": {
  "kernelspec": {
   "display_name": "Python 3",
   "language": "python",
   "name": "python3"
  },
  "language_info": {
   "codemirror_mode": {
    "name": "ipython",
    "version": 3
   },
   "file_extension": ".py",
   "mimetype": "text/x-python",
   "name": "python",
   "nbconvert_exporter": "python",
   "pygments_lexer": "ipython3",
   "version": "3.6.5"
  }
 },
 "nbformat": 4,
 "nbformat_minor": 2
}
