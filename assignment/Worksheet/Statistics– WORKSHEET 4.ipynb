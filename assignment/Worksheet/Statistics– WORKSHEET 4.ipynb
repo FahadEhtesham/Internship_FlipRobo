{
 "cells": [
  {
   "cell_type": "markdown",
   "metadata": {},
   "source": [
    "# Statistics– WORKSHEET 4"
   ]
  },
  {
   "cell_type": "markdown",
   "metadata": {},
   "source": [
    "1_A\n",
    "\n",
    "2)A\n",
    "\n",
    "3)B\n",
    "\n",
    "4) D\n",
    "\n",
    "5) C\n",
    "\n",
    "6)A\n",
    "\n",
    "7)b\n",
    "\n",
    "8)A\n",
    "\n",
    "9)C\n"
   ]
  },
  {
   "cell_type": "markdown",
   "metadata": {},
   "source": [
    "10. What do you understand by the term Normal Distribution?\n",
    "\n",
    "The normal distribution is a probability function that describes how the values of a variable are distributed. It is a symmetric distribution where most of the observations cluster around the central peak and the probabilities for values further away from the mean taper off equally in both directions."
   ]
  },
  {
   "cell_type": "markdown",
   "metadata": {},
   "source": [
    "11. How do you handle missing data? What imputation techniques do you recommend?\n",
    "\n",
    "Ans - Missing values are imputated using mean , median and mode . If the feature is cataegorical, we usually go for mode , median and if the values are real , we gor for mean.\n",
    "Label enccoder helps in doing that\n"
   ]
  },
  {
   "cell_type": "markdown",
   "metadata": {},
   "source": [
    "12. What is A/B testing\n",
    "\n",
    "A/B testing is a common and powerful marketing technique. Before sending out a marketing message, a marketer would send \"test\" versions to a portion of audience members to see which performs better.\n",
    "\n",
    "Using an A/B test gives you an idea of what delights your customers the most. For example, if you're using a promoted tweet campaign to support a new product launch, you might test different versions of that tweet using automated software, so you can tell how to market to your audience.\n",
    "\n",
    "After seeing which tweet had the most clicks, you can then use that version in marketing messages, as well as a template for the duration of the campaign. That way, engagement is more of a guarantee."
   ]
  },
  {
   "cell_type": "markdown",
   "metadata": {},
   "source": [
    "13. Is mean imputation of missing data acceptable practice?\n",
    "\n",
    "Ans- It depend on cases , It can be accepted when there is a low missing data , not very very high , , it will not work for cataegorical data\n",
    "Mean imputation can only be taken into consideration when the missing value is not so large\n"
   ]
  },
  {
   "cell_type": "markdown",
   "metadata": {},
   "source": [
    "14.What is linear regression in statistics?\n",
    "\n",
    "In statistics, linear regression is a linear approach to modeling the relationship between a scalar response (or dependent variable) and one or more explanatory variables (or independent variables).For more than one explanatory variable, the process is called multiple linear regression."
   ]
  },
  {
   "cell_type": "markdown",
   "metadata": {},
   "source": [
    "15. What are the various branches of statistics?\n",
    "\n",
    "The two main branches of statistics are descriptive statistics and inferential statistics. Both of these are employed in scientific analysis of data and both are equally important for the student of statistics"
   ]
  },
  {
   "cell_type": "code",
   "execution_count": null,
   "metadata": {},
   "outputs": [],
   "source": []
  }
 ],
 "metadata": {
  "kernelspec": {
   "display_name": "Python 3",
   "language": "python",
   "name": "python3"
  },
  "language_info": {
   "codemirror_mode": {
    "name": "ipython",
    "version": 3
   },
   "file_extension": ".py",
   "mimetype": "text/x-python",
   "name": "python",
   "nbconvert_exporter": "python",
   "pygments_lexer": "ipython3",
   "version": "3.6.5"
  }
 },
 "nbformat": 4,
 "nbformat_minor": 2
}
