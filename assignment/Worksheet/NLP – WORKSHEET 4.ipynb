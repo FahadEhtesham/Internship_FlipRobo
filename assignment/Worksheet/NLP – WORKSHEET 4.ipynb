{
 "cells": [
  {
   "cell_type": "markdown",
   "metadata": {},
   "source": [
    "#                        NLP – WORKSHEET 4\n",
    "\n",
    "1] ABC\n",
    "\n",
    "2] D\n",
    "\n",
    "3] ABCD\n",
    "\n",
    "4] A\n",
    "\n",
    "5] ABC\n",
    "\n",
    "6] A D\n",
    "\n",
    "7] ABC\n",
    "\n",
    "8] ABCD\n",
    "\n",
    "9] ABCD\n",
    "\n",
    "10]ABC\n",
    "\n",
    "11] AB\n",
    "\n",
    "12] D\n",
    "\n",
    "14 ]ACD\n",
    "\n",
    "15]ABD\n",
    "\n",
    "\n"
   ]
  },
  {
   "cell_type": "code",
   "execution_count": null,
   "metadata": {},
   "outputs": [],
   "source": []
  }
 ],
 "metadata": {
  "kernelspec": {
   "display_name": "Python 3",
   "language": "python",
   "name": "python3"
  },
  "language_info": {
   "codemirror_mode": {
    "name": "ipython",
    "version": 3
   },
   "file_extension": ".py",
   "mimetype": "text/x-python",
   "name": "python",
   "nbconvert_exporter": "python",
   "pygments_lexer": "ipython3",
   "version": "3.6.5"
  }
 },
 "nbformat": 4,
 "nbformat_minor": 2
}
