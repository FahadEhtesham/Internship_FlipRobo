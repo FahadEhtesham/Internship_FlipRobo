{
 "cells": [
  {
   "cell_type": "code",
   "execution_count": 1,
   "metadata": {},
   "outputs": [],
   "source": [
    "from selenium import webdriver\n",
    "import os \n",
    "import shutil\n",
    "import requests\n",
    "import pandas as pd\n",
    "import numpy as np"
   ]
  },
  {
   "cell_type": "code",
   "execution_count": 2,
   "metadata": {},
   "outputs": [
    {
     "name": "stdout",
     "output_type": "stream",
     "text": [
      "SearchFlip Robo\n"
     ]
    }
   ],
   "source": [
    "query=input(\"Search\") \n",
    "Driver_path =r'C:\\Users\\Fahad Ehtesham\\Desktop\\data Trained\\FLIP ROBO\\Web Scrapping\\chromedriver.exe'\n",
    "browser = webdriver.Chrome(executable_path=Driver_path)"
   ]
  },
  {
   "cell_type": "code",
   "execution_count": 3,
   "metadata": {},
   "outputs": [],
   "source": [
    "# accesing only page 1\n",
    "for i in range(1): \n",
    "    matched_elements = browser.get(\"https://www.google.com/search?q=\" +\n",
    "                                     query + \"&start=\" + str(i)) \n"
   ]
  },
  {
   "cell_type": "markdown",
   "metadata": {},
   "source": [
    "# Conclusion :\n",
    "In this project we have taken search query as input from users and using selenium we have coded to access the search query and search bar and accessed the first page of the query."
   ]
  },
  {
   "cell_type": "code",
   "execution_count": null,
   "metadata": {},
   "outputs": [],
   "source": []
  }
 ],
 "metadata": {
  "kernelspec": {
   "display_name": "Python 3",
   "language": "python",
   "name": "python3"
  },
  "language_info": {
   "codemirror_mode": {
    "name": "ipython",
    "version": 3
   },
   "file_extension": ".py",
   "mimetype": "text/x-python",
   "name": "python",
   "nbconvert_exporter": "python",
   "pygments_lexer": "ipython3",
   "version": "3.6.5"
  }
 },
 "nbformat": 4,
 "nbformat_minor": 2
}
