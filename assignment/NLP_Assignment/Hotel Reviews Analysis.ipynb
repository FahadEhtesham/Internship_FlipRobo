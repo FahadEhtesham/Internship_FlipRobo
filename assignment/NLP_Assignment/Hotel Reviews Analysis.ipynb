{
 "cells": [
  {
   "cell_type": "markdown",
   "metadata": {},
   "source": [
    "# Hotel Reviews Analysis"
   ]
  },
  {
   "cell_type": "markdown",
   "metadata": {},
   "source": [
    "The Hotel Reviews dataset consists of Description(Reviews) of Hotel by the customers\n",
    "\n",
    "Number of Attributes/Columns in data: 5\n",
    "\n",
    "Attribute Information:\n",
    "\n",
    "User_ID :-Unique Id for the customer\n",
    "    \n",
    "Description-Reviews given by the customer\n",
    "\n",
    "Browser_Used-The browser used for giving review\n",
    "\n",
    "Device_Used- The device used for the review\n",
    "\n",
    "Is_Response- This consists of two values - Happy and not Happy\n",
    "\n",
    "\n",
    "\n",
    "\n",
    "\n",
    "\n",
    "\n"
   ]
  },
  {
   "cell_type": "markdown",
   "metadata": {},
   "source": [
    "# Objective:\n",
    "Given a review, determine whether the review is positive or  negative "
   ]
  },
  {
   "cell_type": "markdown",
   "metadata": {},
   "source": [
    "# Importing all the required Libraries"
   ]
  },
  {
   "cell_type": "code",
   "execution_count": 1,
   "metadata": {},
   "outputs": [],
   "source": [
    "%matplotlib inline\n",
    "import warnings\n",
    "warnings.filterwarnings(\"ignore\")\n",
    "import pandas as pd\n",
    "import numpy as np\n",
    "import nltk\n",
    "import matplotlib.pyplot as plt\n",
    "import seaborn as sns\n",
    "\n",
    "from sklearn.feature_extraction.text import CountVectorizer\n",
    "from sklearn.metrics import confusion_matrix\n",
    "from sklearn import metrics\n",
    "from sklearn.metrics import roc_curve, auc\n",
    "from nltk.stem.porter import PorterStemmer\n",
    "\n",
    "import re\n",
    "import string\n",
    "from nltk.corpus import stopwords\n",
    "from nltk.stem import PorterStemmer\n",
    "from nltk.stem.wordnet import WordNetLemmatizer\n",
    "\n",
    "import pickle\n",
    "\n",
    "import os"
   ]
  },
  {
   "cell_type": "markdown",
   "metadata": {},
   "source": [
    "# Importing Train Dataset "
   ]
  },
  {
   "cell_type": "code",
   "execution_count": 2,
   "metadata": {},
   "outputs": [],
   "source": [
    "data=pd.read_csv('train.csv')"
   ]
  },
  {
   "cell_type": "code",
   "execution_count": 3,
   "metadata": {},
   "outputs": [
    {
     "data": {
      "text/html": [
       "<div>\n",
       "<style scoped>\n",
       "    .dataframe tbody tr th:only-of-type {\n",
       "        vertical-align: middle;\n",
       "    }\n",
       "\n",
       "    .dataframe tbody tr th {\n",
       "        vertical-align: top;\n",
       "    }\n",
       "\n",
       "    .dataframe thead th {\n",
       "        text-align: right;\n",
       "    }\n",
       "</style>\n",
       "<table border=\"1\" class=\"dataframe\">\n",
       "  <thead>\n",
       "    <tr style=\"text-align: right;\">\n",
       "      <th></th>\n",
       "      <th>User_ID</th>\n",
       "      <th>Description</th>\n",
       "      <th>Browser_Used</th>\n",
       "      <th>Device_Used</th>\n",
       "      <th>Is_Response</th>\n",
       "    </tr>\n",
       "  </thead>\n",
       "  <tbody>\n",
       "    <tr>\n",
       "      <td>0</td>\n",
       "      <td>id10326</td>\n",
       "      <td>The room was kind of clean but had a VERY stro...</td>\n",
       "      <td>Edge</td>\n",
       "      <td>Mobile</td>\n",
       "      <td>not happy</td>\n",
       "    </tr>\n",
       "    <tr>\n",
       "      <td>1</td>\n",
       "      <td>id10327</td>\n",
       "      <td>I stayed at the Crown Plaza April -- - April -...</td>\n",
       "      <td>Internet Explorer</td>\n",
       "      <td>Mobile</td>\n",
       "      <td>not happy</td>\n",
       "    </tr>\n",
       "    <tr>\n",
       "      <td>2</td>\n",
       "      <td>id10328</td>\n",
       "      <td>I booked this hotel through Hotwire at the low...</td>\n",
       "      <td>Mozilla</td>\n",
       "      <td>Tablet</td>\n",
       "      <td>not happy</td>\n",
       "    </tr>\n",
       "    <tr>\n",
       "      <td>3</td>\n",
       "      <td>id10329</td>\n",
       "      <td>Stayed here with husband and sons on the way t...</td>\n",
       "      <td>InternetExplorer</td>\n",
       "      <td>Desktop</td>\n",
       "      <td>happy</td>\n",
       "    </tr>\n",
       "    <tr>\n",
       "      <td>4</td>\n",
       "      <td>id10330</td>\n",
       "      <td>My girlfriends and I stayed here to celebrate ...</td>\n",
       "      <td>Edge</td>\n",
       "      <td>Tablet</td>\n",
       "      <td>not happy</td>\n",
       "    </tr>\n",
       "  </tbody>\n",
       "</table>\n",
       "</div>"
      ],
      "text/plain": [
       "   User_ID                                        Description  \\\n",
       "0  id10326  The room was kind of clean but had a VERY stro...   \n",
       "1  id10327  I stayed at the Crown Plaza April -- - April -...   \n",
       "2  id10328  I booked this hotel through Hotwire at the low...   \n",
       "3  id10329  Stayed here with husband and sons on the way t...   \n",
       "4  id10330  My girlfriends and I stayed here to celebrate ...   \n",
       "\n",
       "        Browser_Used Device_Used Is_Response  \n",
       "0               Edge      Mobile   not happy  \n",
       "1  Internet Explorer      Mobile   not happy  \n",
       "2            Mozilla      Tablet   not happy  \n",
       "3   InternetExplorer     Desktop       happy  \n",
       "4               Edge      Tablet   not happy  "
      ]
     },
     "execution_count": 3,
     "metadata": {},
     "output_type": "execute_result"
    }
   ],
   "source": [
    "data.head()"
   ]
  },
  {
   "cell_type": "code",
   "execution_count": 4,
   "metadata": {},
   "outputs": [
    {
     "data": {
      "text/plain": [
       "(38932, 5)"
      ]
     },
     "execution_count": 4,
     "metadata": {},
     "output_type": "execute_result"
    }
   ],
   "source": [
    "data.shape"
   ]
  },
  {
   "cell_type": "markdown",
   "metadata": {},
   "source": [
    "# Null/Missing Value Analysis"
   ]
  },
  {
   "cell_type": "code",
   "execution_count": 5,
   "metadata": {},
   "outputs": [
    {
     "data": {
      "text/plain": [
       "User_ID         0\n",
       "Description     0\n",
       "Browser_Used    0\n",
       "Device_Used     0\n",
       "Is_Response     0\n",
       "dtype: int64"
      ]
     },
     "execution_count": 5,
     "metadata": {},
     "output_type": "execute_result"
    }
   ],
   "source": [
    "data.isnull().sum()"
   ]
  },
  {
   "cell_type": "markdown",
   "metadata": {},
   "source": [
    "This data set does not have any null or missing values "
   ]
  },
  {
   "cell_type": "code",
   "execution_count": 6,
   "metadata": {},
   "outputs": [
    {
     "data": {
      "text/plain": [
       "happy        26521\n",
       "not happy    12411\n",
       "Name: Is_Response, dtype: int64"
      ]
     },
     "execution_count": 6,
     "metadata": {},
     "output_type": "execute_result"
    }
   ],
   "source": [
    "data.Is_Response.value_counts()"
   ]
  },
  {
   "cell_type": "markdown",
   "metadata": {},
   "source": [
    "# Label Encoding of the features"
   ]
  },
  {
   "cell_type": "code",
   "execution_count": 7,
   "metadata": {},
   "outputs": [],
   "source": [
    "#Label coding 0 and 1\n",
    "data.Is_Response.replace({'not happy':0,'happy':1},inplace=True)"
   ]
  },
  {
   "cell_type": "markdown",
   "metadata": {},
   "source": [
    "The response  values are label encoded : 0 will represent not happy and 1 will represent happy "
   ]
  },
  {
   "cell_type": "code",
   "execution_count": 8,
   "metadata": {},
   "outputs": [
    {
     "data": {
      "text/plain": [
       "Firefox              7367\n",
       "Edge                 7134\n",
       "Google Chrome        4659\n",
       "InternetExplorer     4588\n",
       "Mozilla Firefox      4328\n",
       "Mozilla              3092\n",
       "Chrome               2470\n",
       "IE                   2439\n",
       "Internet Explorer    2103\n",
       "Safari                390\n",
       "Opera                 362\n",
       "Name: Browser_Used, dtype: int64"
      ]
     },
     "execution_count": 8,
     "metadata": {},
     "output_type": "execute_result"
    }
   ],
   "source": [
    "data.Browser_Used.value_counts()"
   ]
  },
  {
   "cell_type": "code",
   "execution_count": 9,
   "metadata": {},
   "outputs": [],
   "source": [
    "data.Browser_Used.replace({'Firefox':0,'Edge':1,'Google Chrome':2,'InternetExplorer':3,'Mozilla Firefox':4\n",
    "                         ,'Mozilla':5,'Chrome':6,'IE':7,'Internet Explorer':8,'Safari':9,'Opera':10},inplace=True)"
   ]
  },
  {
   "cell_type": "code",
   "execution_count": 10,
   "metadata": {},
   "outputs": [
    {
     "data": {
      "text/plain": [
       "Desktop    15026\n",
       "Mobile     14976\n",
       "Tablet      8930\n",
       "Name: Device_Used, dtype: int64"
      ]
     },
     "execution_count": 10,
     "metadata": {},
     "output_type": "execute_result"
    }
   ],
   "source": [
    "data.Device_Used.value_counts()"
   ]
  },
  {
   "cell_type": "code",
   "execution_count": 11,
   "metadata": {},
   "outputs": [],
   "source": [
    "data.Device_Used.replace({'Desktop':0,'Mobile':1,'Tablet':2},inplace=True)"
   ]
  },
  {
   "cell_type": "markdown",
   "metadata": {},
   "source": [
    "The  categorical features like Browser_Used , Device_Used are also changed to numerical value "
   ]
  },
  {
   "cell_type": "code",
   "execution_count": 12,
   "metadata": {},
   "outputs": [
    {
     "data": {
      "text/html": [
       "<div>\n",
       "<style scoped>\n",
       "    .dataframe tbody tr th:only-of-type {\n",
       "        vertical-align: middle;\n",
       "    }\n",
       "\n",
       "    .dataframe tbody tr th {\n",
       "        vertical-align: top;\n",
       "    }\n",
       "\n",
       "    .dataframe thead th {\n",
       "        text-align: right;\n",
       "    }\n",
       "</style>\n",
       "<table border=\"1\" class=\"dataframe\">\n",
       "  <thead>\n",
       "    <tr style=\"text-align: right;\">\n",
       "      <th></th>\n",
       "      <th>User_ID</th>\n",
       "      <th>Description</th>\n",
       "      <th>Browser_Used</th>\n",
       "      <th>Device_Used</th>\n",
       "      <th>Is_Response</th>\n",
       "    </tr>\n",
       "  </thead>\n",
       "  <tbody>\n",
       "    <tr>\n",
       "      <td>0</td>\n",
       "      <td>id10326</td>\n",
       "      <td>The room was kind of clean but had a VERY stro...</td>\n",
       "      <td>1</td>\n",
       "      <td>1</td>\n",
       "      <td>0</td>\n",
       "    </tr>\n",
       "    <tr>\n",
       "      <td>1</td>\n",
       "      <td>id10327</td>\n",
       "      <td>I stayed at the Crown Plaza April -- - April -...</td>\n",
       "      <td>8</td>\n",
       "      <td>1</td>\n",
       "      <td>0</td>\n",
       "    </tr>\n",
       "    <tr>\n",
       "      <td>2</td>\n",
       "      <td>id10328</td>\n",
       "      <td>I booked this hotel through Hotwire at the low...</td>\n",
       "      <td>5</td>\n",
       "      <td>2</td>\n",
       "      <td>0</td>\n",
       "    </tr>\n",
       "    <tr>\n",
       "      <td>3</td>\n",
       "      <td>id10329</td>\n",
       "      <td>Stayed here with husband and sons on the way t...</td>\n",
       "      <td>3</td>\n",
       "      <td>0</td>\n",
       "      <td>1</td>\n",
       "    </tr>\n",
       "    <tr>\n",
       "      <td>4</td>\n",
       "      <td>id10330</td>\n",
       "      <td>My girlfriends and I stayed here to celebrate ...</td>\n",
       "      <td>1</td>\n",
       "      <td>2</td>\n",
       "      <td>0</td>\n",
       "    </tr>\n",
       "  </tbody>\n",
       "</table>\n",
       "</div>"
      ],
      "text/plain": [
       "   User_ID                                        Description  Browser_Used  \\\n",
       "0  id10326  The room was kind of clean but had a VERY stro...             1   \n",
       "1  id10327  I stayed at the Crown Plaza April -- - April -...             8   \n",
       "2  id10328  I booked this hotel through Hotwire at the low...             5   \n",
       "3  id10329  Stayed here with husband and sons on the way t...             3   \n",
       "4  id10330  My girlfriends and I stayed here to celebrate ...             1   \n",
       "\n",
       "   Device_Used  Is_Response  \n",
       "0            1            0  \n",
       "1            1            0  \n",
       "2            2            0  \n",
       "3            0            1  \n",
       "4            2            0  "
      ]
     },
     "execution_count": 12,
     "metadata": {},
     "output_type": "execute_result"
    }
   ],
   "source": [
    "data.head()"
   ]
  },
  {
   "cell_type": "code",
   "execution_count": 13,
   "metadata": {},
   "outputs": [],
   "source": [
    "#dropping the User_ID column \n",
    "data.drop('User_ID',axis=1,inplace=True)"
   ]
  },
  {
   "cell_type": "markdown",
   "metadata": {},
   "source": [
    "# Preprocessing Description "
   ]
  },
  {
   "cell_type": "markdown",
   "metadata": {},
   "source": [
    "In the Preprocessing phase we do the following in the order below:-\n",
    "\n",
    "a) Begin by removing the html tags\n",
    "\n",
    "b) Remove any punctuations or limited set of special characters like , or . or # etc.\n",
    "\n",
    "c) Check if the word is made up of english letters and is not alpha-numeric\n",
    "\n",
    "d) Check to see if the length of the word is greater than 2 (as it was researched that there is no adjective in 2-letters)\n",
    "\n",
    "e) Convert the word to lowercase\n",
    "\n",
    "f) Remove Stopwords"
   ]
  },
  {
   "cell_type": "code",
   "execution_count": 14,
   "metadata": {},
   "outputs": [
    {
     "data": {
      "text/html": [
       "<div>\n",
       "<style scoped>\n",
       "    .dataframe tbody tr th:only-of-type {\n",
       "        vertical-align: middle;\n",
       "    }\n",
       "\n",
       "    .dataframe tbody tr th {\n",
       "        vertical-align: top;\n",
       "    }\n",
       "\n",
       "    .dataframe thead th {\n",
       "        text-align: right;\n",
       "    }\n",
       "</style>\n",
       "<table border=\"1\" class=\"dataframe\">\n",
       "  <thead>\n",
       "    <tr style=\"text-align: right;\">\n",
       "      <th></th>\n",
       "      <th>Description</th>\n",
       "      <th>Browser_Used</th>\n",
       "      <th>Device_Used</th>\n",
       "      <th>Is_Response</th>\n",
       "    </tr>\n",
       "  </thead>\n",
       "  <tbody>\n",
       "    <tr>\n",
       "      <td>0</td>\n",
       "      <td>The room was kind of clean but had a VERY stro...</td>\n",
       "      <td>1</td>\n",
       "      <td>1</td>\n",
       "      <td>0</td>\n",
       "    </tr>\n",
       "    <tr>\n",
       "      <td>1</td>\n",
       "      <td>I stayed at the Crown Plaza April -- - April -...</td>\n",
       "      <td>8</td>\n",
       "      <td>1</td>\n",
       "      <td>0</td>\n",
       "    </tr>\n",
       "    <tr>\n",
       "      <td>2</td>\n",
       "      <td>I booked this hotel through Hotwire at the low...</td>\n",
       "      <td>5</td>\n",
       "      <td>2</td>\n",
       "      <td>0</td>\n",
       "    </tr>\n",
       "    <tr>\n",
       "      <td>3</td>\n",
       "      <td>Stayed here with husband and sons on the way t...</td>\n",
       "      <td>3</td>\n",
       "      <td>0</td>\n",
       "      <td>1</td>\n",
       "    </tr>\n",
       "    <tr>\n",
       "      <td>4</td>\n",
       "      <td>My girlfriends and I stayed here to celebrate ...</td>\n",
       "      <td>1</td>\n",
       "      <td>2</td>\n",
       "      <td>0</td>\n",
       "    </tr>\n",
       "    <tr>\n",
       "      <td>...</td>\n",
       "      <td>...</td>\n",
       "      <td>...</td>\n",
       "      <td>...</td>\n",
       "      <td>...</td>\n",
       "    </tr>\n",
       "    <tr>\n",
       "      <td>38927</td>\n",
       "      <td>We arrived late at night and walked in to a ch...</td>\n",
       "      <td>1</td>\n",
       "      <td>0</td>\n",
       "      <td>1</td>\n",
       "    </tr>\n",
       "    <tr>\n",
       "      <td>38928</td>\n",
       "      <td>The only positive impression is location and p...</td>\n",
       "      <td>3</td>\n",
       "      <td>1</td>\n",
       "      <td>0</td>\n",
       "    </tr>\n",
       "    <tr>\n",
       "      <td>38929</td>\n",
       "      <td>Traveling with friends for shopping and a show...</td>\n",
       "      <td>0</td>\n",
       "      <td>1</td>\n",
       "      <td>0</td>\n",
       "    </tr>\n",
       "    <tr>\n",
       "      <td>38930</td>\n",
       "      <td>The experience was just ok. We paid extra for ...</td>\n",
       "      <td>6</td>\n",
       "      <td>0</td>\n",
       "      <td>0</td>\n",
       "    </tr>\n",
       "    <tr>\n",
       "      <td>38931</td>\n",
       "      <td>The Westin is a wonderfully restored grande da...</td>\n",
       "      <td>5</td>\n",
       "      <td>0</td>\n",
       "      <td>1</td>\n",
       "    </tr>\n",
       "  </tbody>\n",
       "</table>\n",
       "<p>38932 rows × 4 columns</p>\n",
       "</div>"
      ],
      "text/plain": [
       "                                             Description  Browser_Used  \\\n",
       "0      The room was kind of clean but had a VERY stro...             1   \n",
       "1      I stayed at the Crown Plaza April -- - April -...             8   \n",
       "2      I booked this hotel through Hotwire at the low...             5   \n",
       "3      Stayed here with husband and sons on the way t...             3   \n",
       "4      My girlfriends and I stayed here to celebrate ...             1   \n",
       "...                                                  ...           ...   \n",
       "38927  We arrived late at night and walked in to a ch...             1   \n",
       "38928  The only positive impression is location and p...             3   \n",
       "38929  Traveling with friends for shopping and a show...             0   \n",
       "38930  The experience was just ok. We paid extra for ...             6   \n",
       "38931  The Westin is a wonderfully restored grande da...             5   \n",
       "\n",
       "       Device_Used  Is_Response  \n",
       "0                1            0  \n",
       "1                1            0  \n",
       "2                2            0  \n",
       "3                0            1  \n",
       "4                2            0  \n",
       "...            ...          ...  \n",
       "38927            0            1  \n",
       "38928            1            0  \n",
       "38929            1            0  \n",
       "38930            0            0  \n",
       "38931            0            1  \n",
       "\n",
       "[38932 rows x 4 columns]"
      ]
     },
     "execution_count": 14,
     "metadata": {},
     "output_type": "execute_result"
    }
   ],
   "source": [
    "data"
   ]
  },
  {
   "cell_type": "code",
   "execution_count": 15,
   "metadata": {},
   "outputs": [
    {
     "name": "stdout",
     "output_type": "stream",
     "text": [
      "The room was kind of clean but had a VERY strong smell of dogs. Generally below average but ok for a overnight stay if you're not too fussy. Would consider staying again if the price was right. Breakfast was free and just about better than nothing.\n",
      "==================================================\n",
      "I agree, not fancy. But everything we needed. Breakfast, pool & hot tub were nice, shuttle to airport, later check-out time. We did have a noise issue which was tough to sleep through. It's been awhile, so I forget if it was a noisy door nearby, or noisy guests. I complained to management through a later email and, to their credit, they comp'd us MORE than the amount we had requested! We would return.\n",
      "====================================================================================================\n",
      "Booked this hotel on a special deal, stay - nights and get - free. Also offered $-- credit towards breakfast each day, which was advertised as \"\"\"\"\"\"\"\"\"\"\"\"\"\"\"\"\"\"\"\"\"\"\"\"\"\"\"\"\"\"\"\"free breakfast\"\"\"\"\"\"\"\"\"\"\"\"\"\"\"\"\"\"\"\"\"\"\"\"\"\"\"\"\"\"\"\" as well as free unlimited mini bar in room, free wifi, etc. Most of that was great, hotel was very nice and clean as well as updated, the staff was extremely courteous and knowledgeable. Only issues we had were on the deal we booked as there seemed to be a catch to each of the offerings... perhaps their marketing was a little bit more generous than the actual offerings were in reality. - night free was great, except that they charge you for that night anyway upfront then credit back to you several days after you leave... not the best if you didn't plan on taking that money out of your wallet on a family trip (we booked - rooms, so the extra charge was $---). Breakfast credit sounded great except that a \"\"\"\"\"\"\"\"\"\"\"\"\"\"\"\"\"\"\"\"\"\"\"\"\"\"\"\"\"\"\"\"hot\"\"\"\"\"\"\"\"\"\"\"\"\"\"\"\"\"\"\"\"\"\"\"\"\"\"\"\"\"\"\"\" buffet was $-- for one person and if you ordered a la carte it was still going to add up to roughly $-- each. We had - total people, - adults, - kids and it was all we could do to keep the bill under $--- each morning for breakfast. If the breakfast was actually good I wouldn't have minded but it was lacking to say the least. Matter of fact the free items in the lobby were just as good and FREE! lol. I do not recommend eating here if you're staying, complete rip off. Mini bar in the room was a nice touch, everything but the alcohol was free. It's not \"\"\"\"\"\"\"\"\"\"\"\"\"\"\"\"\"\"\"\"\"\"\"\"\"\"\"\"\"\"\"\"unlimited\"\"\"\"\"\"\"\"\"\"\"\"\"\"\"\"\"\"\"\"\"\"\"\"\"\"\"\"\"\"\"\" as they advertise, they restock once for each day so use it wisely. Other than that, the rest was good. Rooms do offer limited privacy in the bathroom area though as the toilet glass door is mirrored but the shower door has no frosting or mirror to block spectators. Good if you're with your spouse, bad if you have kids in the room. :)\n",
      "Overall I'd recommend it if you can get it for the rates we did as it's nice and in a good location on Wall and Water. And yes, read other reviews on the location... this hotel is really on Water St, not Wall if you're trying to drive to it.\n",
      "==================================================\n"
     ]
    }
   ],
   "source": [
    "# printing some random reviews\n",
    "desc_0 = data['Description'].values[0]\n",
    "print(desc_0)\n",
    "print('='*50)\n",
    "\n",
    "desc_50 = data['Description'].values[50]\n",
    "print(desc_50)\n",
    "print('='*100)\n",
    "\n",
    "desc_100 = data['Description'].values[100]\n",
    "print(desc_100)\n",
    "print('='*50)\n",
    "\n",
    "\n"
   ]
  },
  {
   "cell_type": "code",
   "execution_count": 16,
   "metadata": {},
   "outputs": [
    {
     "name": "stdout",
     "output_type": "stream",
     "text": [
      "Booked this hotel on a special deal, stay - nights and get - free. Also offered $-- credit towards breakfast each day, which was advertised as \"\"\"\"\"\"\"\"\"\"\"\"\"\"\"\"\"\"\"\"\"\"\"\"\"\"\"\"\"\"\"\"free breakfast\"\"\"\"\"\"\"\"\"\"\"\"\"\"\"\"\"\"\"\"\"\"\"\"\"\"\"\"\"\"\"\" as well as free unlimited mini bar in room, free wifi, etc. Most of that was great, hotel was very nice and clean as well as updated, the staff was extremely courteous and knowledgeable. Only issues we had were on the deal we booked as there seemed to be a catch to each of the offerings... perhaps their marketing was a little bit more generous than the actual offerings were in reality. - night free was great, except that they charge you for that night anyway upfront then credit back to you several days after you leave... not the best if you didn't plan on taking that money out of your wallet on a family trip (we booked - rooms, so the extra charge was $---). Breakfast credit sounded great except that a \"\"\"\"\"\"\"\"\"\"\"\"\"\"\"\"\"\"\"\"\"\"\"\"\"\"\"\"\"\"\"\"hot\"\"\"\"\"\"\"\"\"\"\"\"\"\"\"\"\"\"\"\"\"\"\"\"\"\"\"\"\"\"\"\" buffet was $-- for one person and if you ordered a la carte it was still going to add up to roughly $-- each. We had - total people, - adults, - kids and it was all we could do to keep the bill under $--- each morning for breakfast. If the breakfast was actually good I wouldn't have minded but it was lacking to say the least. Matter of fact the free items in the lobby were just as good and FREE! lol. I do not recommend eating here if you're staying, complete rip off. Mini bar in the room was a nice touch, everything but the alcohol was free. It's not \"\"\"\"\"\"\"\"\"\"\"\"\"\"\"\"\"\"\"\"\"\"\"\"\"\"\"\"\"\"\"\"unlimited\"\"\"\"\"\"\"\"\"\"\"\"\"\"\"\"\"\"\"\"\"\"\"\"\"\"\"\"\"\"\"\" as they advertise, they restock once for each day so use it wisely. Other than that, the rest was good. Rooms do offer limited privacy in the bathroom area though as the toilet glass door is mirrored but the shower door has no frosting or mirror to block spectators. Good if you're with your spouse, bad if you have kids in the room. :)\n",
      "Overall I'd recommend it if you can get it for the rates we did as it's nice and in a good location on Wall and Water. And yes, read other reviews on the location... this hotel is really on Water St, not Wall if you're trying to drive to it.\n",
      "==================================================\n"
     ]
    }
   ],
   "source": [
    "from bs4 import BeautifulSoup\n",
    "\n",
    "soup = BeautifulSoup(desc_100, 'lxml')\n",
    "text = soup.get_text()\n",
    "print(text)\n",
    "print(\"=\"*50)"
   ]
  },
  {
   "cell_type": "code",
   "execution_count": 17,
   "metadata": {},
   "outputs": [],
   "source": [
    "import re\n",
    "\n",
    "def decontracted(phrase):\n",
    "    # specific\n",
    "    phrase = re.sub(r\"won't\", \"will not\", phrase)\n",
    "    phrase = re.sub(r\"can\\'t\", \"can not\", phrase)\n",
    "\n",
    "    # general\n",
    "    phrase = re.sub(r\"n\\'t\", \" not\", phrase)\n",
    "    phrase = re.sub(r\"\\'re\", \" are\", phrase)\n",
    "    phrase = re.sub(r\"\\'s\", \" is\", phrase)\n",
    "    phrase = re.sub(r\"\\'d\", \" would\", phrase)\n",
    "    phrase = re.sub(r\"\\'ll\", \" will\", phrase)\n",
    "    phrase = re.sub(r\"\\'t\", \" not\", phrase)\n",
    "    phrase = re.sub(r\"\\'ve\", \" have\", phrase)\n",
    "    phrase = re.sub(r\"\\'m\", \" am\", phrase)\n",
    "    return phrase"
   ]
  },
  {
   "cell_type": "code",
   "execution_count": 18,
   "metadata": {},
   "outputs": [
    {
     "name": "stdout",
     "output_type": "stream",
     "text": [
      "Booked this hotel on a special deal, stay - nights and get - free. Also offered $-- credit towards breakfast each day, which was advertised as \"\"\"\"\"\"\"\"\"\"\"\"\"\"\"\"\"\"\"\"\"\"\"\"\"\"\"\"\"\"\"\"free breakfast\"\"\"\"\"\"\"\"\"\"\"\"\"\"\"\"\"\"\"\"\"\"\"\"\"\"\"\"\"\"\"\" as well as free unlimited mini bar in room, free wifi, etc. Most of that was great, hotel was very nice and clean as well as updated, the staff was extremely courteous and knowledgeable. Only issues we had were on the deal we booked as there seemed to be a catch to each of the offerings... perhaps their marketing was a little bit more generous than the actual offerings were in reality. - night free was great, except that they charge you for that night anyway upfront then credit back to you several days after you leave... not the best if you did not plan on taking that money out of your wallet on a family trip (we booked - rooms, so the extra charge was $---). Breakfast credit sounded great except that a \"\"\"\"\"\"\"\"\"\"\"\"\"\"\"\"\"\"\"\"\"\"\"\"\"\"\"\"\"\"\"\"hot\"\"\"\"\"\"\"\"\"\"\"\"\"\"\"\"\"\"\"\"\"\"\"\"\"\"\"\"\"\"\"\" buffet was $-- for one person and if you ordered a la carte it was still going to add up to roughly $-- each. We had - total people, - adults, - kids and it was all we could do to keep the bill under $--- each morning for breakfast. If the breakfast was actually good I would not have minded but it was lacking to say the least. Matter of fact the free items in the lobby were just as good and FREE! lol. I do not recommend eating here if you are staying, complete rip off. Mini bar in the room was a nice touch, everything but the alcohol was free. It is not \"\"\"\"\"\"\"\"\"\"\"\"\"\"\"\"\"\"\"\"\"\"\"\"\"\"\"\"\"\"\"\"unlimited\"\"\"\"\"\"\"\"\"\"\"\"\"\"\"\"\"\"\"\"\"\"\"\"\"\"\"\"\"\"\"\" as they advertise, they restock once for each day so use it wisely. Other than that, the rest was good. Rooms do offer limited privacy in the bathroom area though as the toilet glass door is mirrored but the shower door has no frosting or mirror to block spectators. Good if you are with your spouse, bad if you have kids in the room. :)\n",
      "Overall I would recommend it if you can get it for the rates we did as it is nice and in a good location on Wall and Water. And yes, read other reviews on the location... this hotel is really on Water St, not Wall if you are trying to drive to it.\n",
      "==================================================\n"
     ]
    }
   ],
   "source": [
    "desc_100 = decontracted(desc_100)\n",
    "print(desc_100)\n",
    "print(\"=\"*50)"
   ]
  },
  {
   "cell_type": "code",
   "execution_count": 19,
   "metadata": {},
   "outputs": [
    {
     "name": "stdout",
     "output_type": "stream",
     "text": [
      "Booked this hotel on a special deal, stay - nights and get - free. Also offered $-- credit towards breakfast each day, which was advertised as \"\"\"\"\"\"\"\"\"\"\"\"\"\"\"\"\"\"\"\"\"\"\"\"\"\"\"\"\"\"\"\"free breakfast\"\"\"\"\"\"\"\"\"\"\"\"\"\"\"\"\"\"\"\"\"\"\"\"\"\"\"\"\"\"\"\" as well as free unlimited mini bar in room, free wifi, etc. Most of that was great, hotel was very nice and clean as well as updated, the staff was extremely courteous and knowledgeable. Only issues we had were on the deal we booked as there seemed to be a catch to each of the offerings... perhaps their marketing was a little bit more generous than the actual offerings were in reality. - night free was great, except that they charge you for that night anyway upfront then credit back to you several days after you leave... not the best if you did not plan on taking that money out of your wallet on a family trip (we booked - rooms, so the extra charge was $---). Breakfast credit sounded great except that a \"\"\"\"\"\"\"\"\"\"\"\"\"\"\"\"\"\"\"\"\"\"\"\"\"\"\"\"\"\"\"\"hot\"\"\"\"\"\"\"\"\"\"\"\"\"\"\"\"\"\"\"\"\"\"\"\"\"\"\"\"\"\"\"\" buffet was $-- for one person and if you ordered a la carte it was still going to add up to roughly $-- each. We had - total people, - adults, - kids and it was all we could do to keep the bill under $--- each morning for breakfast. If the breakfast was actually good I would not have minded but it was lacking to say the least. Matter of fact the free items in the lobby were just as good and FREE! lol. I do not recommend eating here if you are staying, complete rip off. Mini bar in the room was a nice touch, everything but the alcohol was free. It is not \"\"\"\"\"\"\"\"\"\"\"\"\"\"\"\"\"\"\"\"\"\"\"\"\"\"\"\"\"\"\"\"unlimited\"\"\"\"\"\"\"\"\"\"\"\"\"\"\"\"\"\"\"\"\"\"\"\"\"\"\"\"\"\"\"\" as they advertise, they restock once for each day so use it wisely. Other than that, the rest was good. Rooms do offer limited privacy in the bathroom area though as the toilet glass door is mirrored but the shower door has no frosting or mirror to block spectators. Good if you are with your spouse, bad if you have kids in the room. :)\n",
      "Overall I would recommend it if you can get it for the rates we did as it is nice and in a good location on Wall and Water. And yes, read other reviews on the location... this hotel is really on Water St, not Wall if you are trying to drive to it.\n"
     ]
    }
   ],
   "source": [
    "#remove words with numbers \n",
    "desc_100 = re.sub(\"\\S*\\d\\S*\", \"\", desc_100).strip()\n",
    "print(desc_100)"
   ]
  },
  {
   "cell_type": "code",
   "execution_count": 20,
   "metadata": {},
   "outputs": [
    {
     "name": "stdout",
     "output_type": "stream",
     "text": [
      "Booked this hotel on a special deal stay nights and get free Also offered credit towards breakfast each day which was advertised as free breakfast as well as free unlimited mini bar in room free wifi etc Most of that was great hotel was very nice and clean as well as updated the staff was extremely courteous and knowledgeable Only issues we had were on the deal we booked as there seemed to be a catch to each of the offerings perhaps their marketing was a little bit more generous than the actual offerings were in reality night free was great except that they charge you for that night anyway upfront then credit back to you several days after you leave not the best if you did not plan on taking that money out of your wallet on a family trip we booked rooms so the extra charge was Breakfast credit sounded great except that a hot buffet was for one person and if you ordered a la carte it was still going to add up to roughly each We had total people adults kids and it was all we could do to keep the bill under each morning for breakfast If the breakfast was actually good I would not have minded but it was lacking to say the least Matter of fact the free items in the lobby were just as good and FREE lol I do not recommend eating here if you are staying complete rip off Mini bar in the room was a nice touch everything but the alcohol was free It is not unlimited as they advertise they restock once for each day so use it wisely Other than that the rest was good Rooms do offer limited privacy in the bathroom area though as the toilet glass door is mirrored but the shower door has no frosting or mirror to block spectators Good if you are with your spouse bad if you have kids in the room Overall I would recommend it if you can get it for the rates we did as it is nice and in a good location on Wall and Water And yes read other reviews on the location this hotel is really on Water St not Wall if you are trying to drive to it \n"
     ]
    }
   ],
   "source": [
    "#remove spacial character\n",
    "desc_100 = re.sub('[^A-Za-z0-9]+', ' ', desc_100)\n",
    "print(desc_100)"
   ]
  },
  {
   "cell_type": "code",
   "execution_count": 21,
   "metadata": {},
   "outputs": [],
   "source": [
    "stopwords= set(['br', 'the', 'i', 'me', 'my', 'myself', 'we', 'our', 'ours', 'ourselves', 'you', \"you're\", \"you've\",\\\n",
    "            \"you'll\", \"you'd\", 'your', 'yours', 'yourself', 'yourselves', 'he', 'him', 'his', 'himself', \\\n",
    "            'she', \"she's\", 'her', 'hers', 'herself', 'it', \"it's\", 'its', 'itself', 'they', 'them', 'their',\\\n",
    "            'theirs', 'themselves', 'what', 'which', 'who', 'whom', 'this', 'that', \"that'll\", 'these', 'those', \\\n",
    "            'am', 'is', 'are', 'was', 'were', 'be', 'been', 'being', 'have', 'has', 'had', 'having', 'do', 'does', \\\n",
    "            'did', 'doing', 'a', 'an', 'the', 'and', 'but', 'if', 'or', 'because', 'as', 'until', 'while', 'of', \\\n",
    "            'at', 'by', 'for', 'with', 'about', 'against', 'between', 'into', 'through', 'during', 'before', 'after',\\\n",
    "            'above', 'below', 'to', 'from', 'up', 'down', 'in', 'out', 'on', 'off', 'over', 'under', 'again', 'further',\\\n",
    "            'then', 'once', 'here', 'there', 'when', 'where', 'why', 'how', 'all', 'any', 'both', 'each', 'few', 'more',\\\n",
    "            'most', 'other', 'some', 'such', 'only', 'own', 'same', 'so', 'than', 'too', 'very', \\\n",
    "            's', 't', 'can', 'will', 'just', 'don', \"don't\", 'should', \"should've\", 'now', 'd', 'll', 'm', 'o', 're', \\\n",
    "            've', 'y', 'ain', 'aren', \"aren't\", 'couldn', \"couldn't\", 'didn', \"didn't\", 'doesn', \"doesn't\", 'hadn',\\\n",
    "            \"hadn't\", 'hasn', \"hasn't\", 'haven', \"haven't\", 'isn', \"isn't\", 'ma', 'mightn', \"mightn't\", 'mustn',\\\n",
    "            \"mustn't\", 'needn', \"needn't\", 'shan', \"shan't\", 'shouldn', \"shouldn't\", 'wasn', \"wasn't\", 'weren', \"weren't\", \\\n",
    "            'won', \"won't\", 'wouldn', \"wouldn't\"])"
   ]
  },
  {
   "cell_type": "code",
   "execution_count": 22,
   "metadata": {},
   "outputs": [
    {
     "name": "stderr",
     "output_type": "stream",
     "text": [
      "100%|██████████████████████████████████████████████████████████████████████████████████████████████████████████████████████████████| 38932/38932 [00:23<00:00, 1677.13it/s]\n"
     ]
    }
   ],
   "source": [
    "# Combining all \n",
    "from tqdm import tqdm\n",
    "preprocessed_reviews = []\n",
    "# tqdm is for printing the status bar\n",
    "for sentance in tqdm(data['Description'].values):\n",
    "    sentance = re.sub(r\"http\\S+\", \"\", sentance)\n",
    "    sentance = BeautifulSoup(sentance, 'lxml').get_text()\n",
    "    sentance = decontracted(sentance)\n",
    "    sentance = re.sub(\"\\S*\\d\\S*\", \"\", sentance).strip()\n",
    "    sentance = re.sub('[^A-Za-z]+', ' ', sentance)\n",
    "    sentance = ' '.join(e.lower() for e in sentance.split() if e.lower() not in stopwords)\n",
    "    preprocessed_reviews.append(sentance.strip())"
   ]
  },
  {
   "cell_type": "code",
   "execution_count": 23,
   "metadata": {},
   "outputs": [
    {
     "data": {
      "text/plain": [
       "'husband stayed guest room queen bed historic hotel people form teddy roosevelt beatles staying disappointed room guess hotel whole expected something little glamorous hotel high rating little walk th street mall see like miles denver cold enjoyed hotel monaco much'"
      ]
     },
     "execution_count": 23,
     "metadata": {},
     "output_type": "execute_result"
    }
   ],
   "source": [
    "#Printing a sample review after the preprocessing and cleaning of the text.\n",
    "preprocessed_reviews[500]"
   ]
  },
  {
   "cell_type": "markdown",
   "metadata": {},
   "source": [
    "Building  a model using variuos classification  models by featurizing the preprocessed review in BOW . This activity would inculde hyper parameter tuning , computation of AUC , and confusion matrix"
   ]
  },
  {
   "cell_type": "code",
   "execution_count": 24,
   "metadata": {},
   "outputs": [],
   "source": [
    "# Here for our activity preprocessed review will be taken as our X and response will taken as Y \n",
    "#Imported train_test_split for spliiting the data set\n",
    "from sklearn.model_selection import train_test_split\n",
    "#imported Count Vectorizer in order to fit and transform the data into Bag of words\n",
    "from sklearn.feature_extraction.text import CountVectorizer\n",
    "#######################################################################################################\n",
    "Y = data['Is_Response'].values  # taken  Response of the final data set after preprocessing\n",
    "X = np.array(preprocessed_reviews)# converted into numpy array as shape cannot be obtained on list\n",
    "\n",
    "  "
   ]
  },
  {
   "cell_type": "markdown",
   "metadata": {},
   "source": [
    "# Train Test Split"
   ]
  },
  {
   "cell_type": "code",
   "execution_count": 25,
   "metadata": {},
   "outputs": [
    {
     "name": "stdout",
     "output_type": "stream",
     "text": [
      "Checking the shape of each data set\n",
      "(26084,) (26084,)\n",
      "(12848,) (12848,)\n",
      "--------------------------------------------------\n"
     ]
    }
   ],
   "source": [
    "#SPLITTING THE DATA SET INTO TRAIN ,TEST DATA\n",
    "#Note:-Here in order to prevent the data leakage I have splitted the data in train , test repectively before transforming into Bow\n",
    "X_train, X_test, y_train, y_test = train_test_split(X, Y, test_size=0.33 ,random_state =42) # this is random splitting\n",
    "#Checking the shape of each data set\n",
    "print(\"Checking the shape of each data set\")\n",
    "print(X_train.shape, y_train.shape)\n",
    "print(X_test.shape, y_test.shape)\n",
    "print(\"-\"*50)"
   ]
  },
  {
   "cell_type": "markdown",
   "metadata": {},
   "source": [
    "# Featurization in BAG OF WORDS"
   ]
  },
  {
   "cell_type": "code",
   "execution_count": 26,
   "metadata": {},
   "outputs": [],
   "source": [
    "#Now taking our Train , Test data to transform into BoW\n",
    "vectorizer = CountVectorizer()\n",
    "vectorizer.fit(X_train) # Fit is used to create the vocabulary of the words \n",
    "X_train_bow = vectorizer.transform(X_train) # converted the text into numerical vector in the form of BOW for the train data\n",
    "X_test_bow = vectorizer.transform(X_test)#converted the text into numerical vector in the form of BOW for the test data"
   ]
  },
  {
   "cell_type": "code",
   "execution_count": 27,
   "metadata": {},
   "outputs": [
    {
     "name": "stdout",
     "output_type": "stream",
     "text": [
      "After vectorizations\n",
      "(26084, 38230) (26084,)\n",
      "(12848, 38230) (12848,)\n",
      "====================================================================================================\n"
     ]
    }
   ],
   "source": [
    "#Checking the shape after Vectorization\n",
    "print(\"After vectorizations\")\n",
    "print(X_train_bow.shape, y_train.shape)\n",
    "print(X_test_bow.shape, y_test.shape)\n",
    "print(\"=\"*100) "
   ]
  },
  {
   "cell_type": "markdown",
   "metadata": {},
   "source": [
    "# Importing all the required libraries for modelling."
   ]
  },
  {
   "cell_type": "code",
   "execution_count": 28,
   "metadata": {},
   "outputs": [],
   "source": [
    "from sklearn.linear_model import LogisticRegression\n",
    "from sklearn.svm import SVC\n",
    "from sklearn.neighbors import KNeighborsClassifier\n",
    "from sklearn.tree import DecisionTreeClassifier\n",
    "from sklearn.naive_bayes import GaussianNB\n",
    "from sklearn.metrics import confusion_matrix\n",
    "from sklearn.metrics import classification_report\n",
    "from sklearn.model_selection import train_test_split\n",
    "from sklearn.metrics import accuracy_score\n",
    "from sklearn.model_selection import GridSearchCV\n",
    "import warnings\n",
    "warnings.filterwarnings('ignore')"
   ]
  },
  {
   "cell_type": "markdown",
   "metadata": {},
   "source": [
    "# Defining function to print the accuracy of the Model"
   ]
  },
  {
   "cell_type": "code",
   "execution_count": 29,
   "metadata": {},
   "outputs": [],
   "source": [
    "def accuracy_of_model(model,X_train_bow,y_train,X_test_bow,y_test):\n",
    "    model.fit(X_train_bow,y_train)\n",
    "    pred = model.predict(X_test_bow)\n",
    "    print('The accuracy  is {}'.format(accuracy_score(y_test,pred)))\n",
    "    #return accuracy_score(test_y,pred)\n",
    "    "
   ]
  },
  {
   "cell_type": "markdown",
   "metadata": {},
   "source": [
    "# Defining function to plot the train , test AUC and print the confusion matrix."
   ]
  },
  {
   "cell_type": "code",
   "execution_count": 30,
   "metadata": {},
   "outputs": [],
   "source": [
    "from sklearn import metrics\n",
    "from sklearn.metrics import roc_auc_score\n",
    "def roc_curve(model):\n",
    "    fpr_tr,tpr_tr,threshold = metrics.roc_curve(y_train,model.predict_proba(X_train_bow)[:,1])\n",
    "    fpr_test,tpr_test,threshold = metrics.roc_curve(y_test,model.predict_proba(X_test_bow)[:,1])\n",
    "    plt.plot(fpr_tr,tpr_tr ,label=\"train AUC =\"+str(metrics.auc(fpr_tr,tpr_tr)))\n",
    "    plt.plot(fpr_test,tpr_test ,label=\"test AUC =\"+str(metrics.auc(fpr_test,tpr_test)))\n",
    "    plt.title('ROC curve')\n",
    "    plt.xlabel('FPR')\n",
    "    plt.ylabel('TPR')\n",
    "    plt.legend()\n",
    "    plt.show()\n",
    "    pred=model.predict(X_test_bow)\n",
    "    sns.heatmap(confusion_matrix(y_test,pred),annot=True)\n",
    "    print(confusion_matrix(y_test,pred))"
   ]
  },
  {
   "cell_type": "markdown",
   "metadata": {},
   "source": [
    "# Performing various classification models"
   ]
  },
  {
   "cell_type": "markdown",
   "metadata": {},
   "source": [
    "Note :- The performance of the models will compared at the end with the help of Pretty table"
   ]
  },
  {
   "cell_type": "markdown",
   "metadata": {},
   "source": [
    "# 1.DecisionTreeClassifier"
   ]
  },
  {
   "cell_type": "code",
   "execution_count": 37,
   "metadata": {},
   "outputs": [
    {
     "data": {
      "text/plain": [
       "{'max_depth': 10, 'min_samples_split': 100}"
      ]
     },
     "execution_count": 37,
     "metadata": {},
     "output_type": "execute_result"
    }
   ],
   "source": [
    "#max_depth = np.arange(30)\n",
    "parameter={'max_depth':[1, 5, 10, 50, 100, 500, 1000],'min_samples_split':[5, 10,50, 100, 500,1000]}\n",
    "DT=DecisionTreeClassifier()\n",
    "gs=GridSearchCV(DT,parameter,cv=5)\n",
    "gs.fit(X_train_bow,y_train)\n",
    "gs.best_params_"
   ]
  },
  {
   "cell_type": "code",
   "execution_count": 45,
   "metadata": {},
   "outputs": [
    {
     "name": "stdout",
     "output_type": "stream",
     "text": [
      "The accuracy  is 0.7788760896637609\n"
     ]
    }
   ],
   "source": [
    "DT=DecisionTreeClassifier(max_depth=10,min_samples_split=100)\n",
    "accuracy=accuracy_of_model(DT,X_train_bow,y_train,X_test_bow,y_test)"
   ]
  },
  {
   "cell_type": "code",
   "execution_count": 51,
   "metadata": {},
   "outputs": [
    {
     "data": {
      "image/png": "[encoded data removed]",
      "text/plain": [
       "<Figure size 432x288 with 1 Axes>"
      ]
     },
     "metadata": {},
     "output_type": "display_data"
    },
    {
     "name": "stdout",
     "output_type": "stream",
     "text": [
      "[[2281 1806]\n",
      " [1035 7726]]\n"
     ]
    },
    {
     "data": {
      "image/png": "[encoded data removed]",
      "text/plain": [
       "<Figure size 432x288 with 2 Axes>"
      ]
     },
     "metadata": {},
     "output_type": "display_data"
    }
   ],
   "source": [
    "roc_curve(DT)"
   ]
  },
  {
   "cell_type": "markdown",
   "metadata": {},
   "source": [
    "# 2.Naive Bayes"
   ]
  },
  {
   "cell_type": "code",
   "execution_count": 56,
   "metadata": {},
   "outputs": [
    {
     "data": {
      "text/plain": [
       "{'alpha': 1}"
      ]
     },
     "execution_count": 56,
     "metadata": {},
     "output_type": "execute_result"
    }
   ],
   "source": [
    "from sklearn.naive_bayes import MultinomialNB\n",
    "parameter={'alpha': [0.000001,0.00001,0.0001,0.001,0.01,1,10,100,1000,10000,100000]}\n",
    "NB=MultinomialNB()\n",
    "gs=GridSearchCV(NB,parameter,cv=5)\n",
    "gs.fit(X_train_bow,y_train)\n",
    "gs.best_params_"
   ]
  },
  {
   "cell_type": "code",
   "execution_count": 58,
   "metadata": {},
   "outputs": [
    {
     "name": "stdout",
     "output_type": "stream",
     "text": [
      "The accuracy  is 0.8669831880448319\n"
     ]
    }
   ],
   "source": [
    "NB=MultinomialNB(alpha=1)\n",
    "accuracy=accuracy_of_model(NB,X_train_bow,y_train,X_test_bow,y_test)"
   ]
  },
  {
   "cell_type": "code",
   "execution_count": 59,
   "metadata": {},
   "outputs": [
    {
     "data": {
      "image/png": "[encoded data removed]",
      "text/plain": [
       "<Figure size 432x288 with 1 Axes>"
      ]
     },
     "metadata": {},
     "output_type": "display_data"
    },
    {
     "name": "stdout",
     "output_type": "stream",
     "text": [
      "[[3032 1055]\n",
      " [ 654 8107]]\n"
     ]
    },
    {
     "data": {
      "image/png": "[encoded data removed]",
      "text/plain": [
       "<Figure size 432x288 with 2 Axes>"
      ]
     },
     "metadata": {},
     "output_type": "display_data"
    }
   ],
   "source": [
    "roc_curve(NB)"
   ]
  },
  {
   "cell_type": "markdown",
   "metadata": {},
   "source": [
    "# 3.Logistic Regression"
   ]
  },
  {
   "cell_type": "code",
   "execution_count": 34,
   "metadata": {},
   "outputs": [
    {
     "data": {
      "text/plain": [
       "{'C': 0.01, 'penalty': 'l2'}"
      ]
     },
     "execution_count": 34,
     "metadata": {},
     "output_type": "execute_result"
    }
   ],
   "source": [
    "param={'C':[10**-4, 10**-2, 10**0, 10**2, 10**4],'penalty':['l1', 'l2', 'elasticnet']}\n",
    "log=LogisticRegression()\n",
    "gs=GridSearchCV(log,param,cv=5)\n",
    "gs.fit(X_train_bow,y_train)\n",
    "gs.best_params_"
   ]
  },
  {
   "cell_type": "code",
   "execution_count": 35,
   "metadata": {},
   "outputs": [
    {
     "name": "stdout",
     "output_type": "stream",
     "text": [
      "The accuracy  is 0.8730541718555417\n"
     ]
    }
   ],
   "source": [
    "log=LogisticRegression(C=0.01,penalty='l2')\n",
    "accuracy=accuracy_of_model(log,X_train_bow,y_train,X_test_bow,y_test)"
   ]
  },
  {
   "cell_type": "code",
   "execution_count": 36,
   "metadata": {},
   "outputs": [
    {
     "data": {
      "image/png": "[encoded data removed]",
      "text/plain": [
       "<Figure size 432x288 with 1 Axes>"
      ]
     },
     "metadata": {},
     "output_type": "display_data"
    },
    {
     "name": "stdout",
     "output_type": "stream",
     "text": [
      "[[2919 1168]\n",
      " [ 463 8298]]\n"
     ]
    },
    {
     "data": {
      "image/png": "[encoded data removed]",
      "text/plain": [
       "<Figure size 432x288 with 2 Axes>"
      ]
     },
     "metadata": {},
     "output_type": "display_data"
    }
   ],
   "source": [
    "roc_curve(log)"
   ]
  },
  {
   "cell_type": "markdown",
   "metadata": {},
   "source": [
    "# 4.RandomForestClassifier"
   ]
  },
  {
   "cell_type": "code",
   "execution_count": 32,
   "metadata": {},
   "outputs": [
    {
     "data": {
      "text/plain": [
       "{'max_depth': 1000, 'n_estimators': 1000}"
      ]
     },
     "execution_count": 32,
     "metadata": {},
     "output_type": "execute_result"
    }
   ],
   "source": [
    "from sklearn.ensemble import RandomForestClassifier\n",
    "parameters={'n_estimators':[10,50,100,500,1000],'max_depth':[1, 5, 10, 50, 100, 500, 1000]}\n",
    "RF=RandomForestClassifier()\n",
    "gs=GridSearchCV(RF,parameters,cv=5)\n",
    "gs.fit(X_train_bow,y_train)\n",
    "gs.best_params_ "
   ]
  },
  {
   "cell_type": "code",
   "execution_count": 33,
   "metadata": {},
   "outputs": [
    {
     "name": "stdout",
     "output_type": "stream",
     "text": [
      "The accuracy  is 0.8423100871731009\n"
     ]
    }
   ],
   "source": [
    "RF=RandomForestClassifier(n_estimators=1000,max_depth=1000)\n",
    "accuracy=accuracy_of_model(RF,X_train_bow,y_train,X_test_bow,y_test)"
   ]
  },
  {
   "cell_type": "code",
   "execution_count": 34,
   "metadata": {},
   "outputs": [
    {
     "data": {
      "image/png": "[encoded data removed]",
      "text/plain": [
       "<Figure size 432x288 with 1 Axes>"
      ]
     },
     "metadata": {},
     "output_type": "display_data"
    },
    {
     "name": "stdout",
     "output_type": "stream",
     "text": [
      "[[2253 1834]\n",
      " [ 192 8569]]\n"
     ]
    },
    {
     "data": {
      "image/png": "[encoded data removed]",
      "text/plain": [
       "<Figure size 432x288 with 2 Axes>"
      ]
     },
     "metadata": {},
     "output_type": "display_data"
    }
   ],
   "source": [
    "roc_curve(RF)"
   ]
  },
  {
   "cell_type": "code",
   "execution_count": 2,
   "metadata": {},
   "outputs": [
    {
     "name": "stdout",
     "output_type": "stream",
     "text": [
      "+------------+---------------------+----------+-----------+----------+\n",
      "| Vectorizer |        Model        | Accuracy | Train AUC | Test AUC |\n",
      "+------------+---------------------+----------+-----------+----------+\n",
      "|    BOW     |    Decision Tree    |   0.77   |    0.84   |   0.79   |\n",
      "|    BOW     |     Naive Bayes     |   0.86   |    0.94   |   0.9    |\n",
      "|    BOW     | Logistic Regression |   0.87   |    0.95   |   0.92   |\n",
      "|    BOW     |     RandomForest    |   0.84   |    1.0    |   0.91   |\n",
      "+------------+---------------------+----------+-----------+----------+\n"
     ]
    }
   ],
   "source": [
    "# Please compare all your models using Prettytable library\n",
    "from prettytable import PrettyTable\n",
    "x = PrettyTable()\n",
    "x.field_names = [\"Vectorizer\", \"Model\",\"Accuracy\", \"Train AUC\", 'Test AUC']\n",
    "x.add_row([\"BOW\",\"Decision Tree\",0.77,0.84,0.79])\n",
    "x.add_row([\"BOW\",\"Naive Bayes\",0.86,0.94,0.90])\n",
    "x.add_row([\"BOW\",\"Logistic Regression\",0.87,0.95,0.92])\n",
    "x.add_row([\"BOW\",\"RandomForest\",0.84,1.0,0.91])\n",
    "\n",
    "print(x)"
   ]
  },
  {
   "cell_type": "markdown",
   "metadata": {},
   "source": [
    "After comparing the model performance it has been observed that Logistic Regression is leading the race as it giving the best performance \n",
    "with accuracy of 87% , AUC of 92% without overfitting , hence Logistic regression is selected as our final Model.\n",
    "\n",
    "Now in the next phase of our model , we will be predicting the response (positive/negative) of the customers using Logistic Regression on  the unseen dataset and at last \n",
    "we will be printing some words that are contributing to positive response and negative response respectively."
   ]
  },
  {
   "cell_type": "markdown",
   "metadata": {},
   "source": [
    "# Importing the test(Unseen) data set "
   ]
  },
  {
   "cell_type": "code",
   "execution_count": 35,
   "metadata": {},
   "outputs": [],
   "source": [
    "data_test=pd.read_csv('test.csv')"
   ]
  },
  {
   "cell_type": "code",
   "execution_count": 36,
   "metadata": {},
   "outputs": [
    {
     "data": {
      "text/html": [
       "<div>\n",
       "<style scoped>\n",
       "    .dataframe tbody tr th:only-of-type {\n",
       "        vertical-align: middle;\n",
       "    }\n",
       "\n",
       "    .dataframe tbody tr th {\n",
       "        vertical-align: top;\n",
       "    }\n",
       "\n",
       "    .dataframe thead th {\n",
       "        text-align: right;\n",
       "    }\n",
       "</style>\n",
       "<table border=\"1\" class=\"dataframe\">\n",
       "  <thead>\n",
       "    <tr style=\"text-align: right;\">\n",
       "      <th></th>\n",
       "      <th>User_ID</th>\n",
       "      <th>Description</th>\n",
       "      <th>Browser_Used</th>\n",
       "      <th>Device_Used</th>\n",
       "    </tr>\n",
       "  </thead>\n",
       "  <tbody>\n",
       "    <tr>\n",
       "      <td>0</td>\n",
       "      <td>id80132</td>\n",
       "      <td>Looking for a motel in close proximity to TV t...</td>\n",
       "      <td>Firefox</td>\n",
       "      <td>Mobile</td>\n",
       "    </tr>\n",
       "    <tr>\n",
       "      <td>1</td>\n",
       "      <td>id80133</td>\n",
       "      <td>Walking distance to Madison Square Garden and ...</td>\n",
       "      <td>InternetExplorer</td>\n",
       "      <td>Desktop</td>\n",
       "    </tr>\n",
       "    <tr>\n",
       "      <td>2</td>\n",
       "      <td>id80134</td>\n",
       "      <td>Visited Seattle on business. Spent - nights in...</td>\n",
       "      <td>IE</td>\n",
       "      <td>Tablet</td>\n",
       "    </tr>\n",
       "    <tr>\n",
       "      <td>3</td>\n",
       "      <td>id80135</td>\n",
       "      <td>This hotel location is excellent and the rooms...</td>\n",
       "      <td>Edge</td>\n",
       "      <td>Mobile</td>\n",
       "    </tr>\n",
       "    <tr>\n",
       "      <td>4</td>\n",
       "      <td>id80136</td>\n",
       "      <td>This hotel is awesome I love the service Antho...</td>\n",
       "      <td>Mozilla</td>\n",
       "      <td>Mobile</td>\n",
       "    </tr>\n",
       "  </tbody>\n",
       "</table>\n",
       "</div>"
      ],
      "text/plain": [
       "   User_ID                                        Description  \\\n",
       "0  id80132  Looking for a motel in close proximity to TV t...   \n",
       "1  id80133  Walking distance to Madison Square Garden and ...   \n",
       "2  id80134  Visited Seattle on business. Spent - nights in...   \n",
       "3  id80135  This hotel location is excellent and the rooms...   \n",
       "4  id80136  This hotel is awesome I love the service Antho...   \n",
       "\n",
       "       Browser_Used Device_Used  \n",
       "0           Firefox      Mobile  \n",
       "1  InternetExplorer     Desktop  \n",
       "2                IE      Tablet  \n",
       "3              Edge      Mobile  \n",
       "4           Mozilla      Mobile  "
      ]
     },
     "execution_count": 36,
     "metadata": {},
     "output_type": "execute_result"
    }
   ],
   "source": [
    "data_test.head()"
   ]
  },
  {
   "cell_type": "markdown",
   "metadata": {},
   "source": [
    "# Null/Missing Value Analysis"
   ]
  },
  {
   "cell_type": "code",
   "execution_count": 38,
   "metadata": {},
   "outputs": [
    {
     "data": {
      "text/plain": [
       "User_ID         0\n",
       "Description     0\n",
       "Browser_Used    0\n",
       "Device_Used     0\n",
       "dtype: int64"
      ]
     },
     "execution_count": 38,
     "metadata": {},
     "output_type": "execute_result"
    }
   ],
   "source": [
    "data_test.isnull().sum()"
   ]
  },
  {
   "cell_type": "markdown",
   "metadata": {},
   "source": [
    "# Preprocessing the Test Reviews "
   ]
  },
  {
   "cell_type": "code",
   "execution_count": 39,
   "metadata": {},
   "outputs": [
    {
     "name": "stderr",
     "output_type": "stream",
     "text": [
      "100%|██████████████████████████████████████████████████████████████████████████████████████████████████████████████████████████████| 29404/29404 [00:20<00:00, 1454.44it/s]\n"
     ]
    }
   ],
   "source": [
    "# Combining all \n",
    "from tqdm import tqdm\n",
    "test_reviews = []\n",
    "# tqdm is for printing the status bar\n",
    "for sentance in tqdm(data_test['Description'].values):\n",
    "    sentance = re.sub(r\"http\\S+\", \"\", sentance)\n",
    "    sentance = BeautifulSoup(sentance, 'lxml').get_text()\n",
    "    sentance = decontracted(sentance)\n",
    "    sentance = re.sub(\"\\S*\\d\\S*\", \"\", sentance).strip()\n",
    "    sentance = re.sub('[^A-Za-z]+', ' ', sentance)\n",
    "    sentance = ' '.join(e.lower() for e in sentance.split() if e.lower() not in stopwords)\n",
    "    test_reviews.append(sentance.strip())"
   ]
  },
  {
   "cell_type": "markdown",
   "metadata": {},
   "source": [
    "# Featurisation of the test reviews"
   ]
  },
  {
   "cell_type": "code",
   "execution_count": 40,
   "metadata": {},
   "outputs": [],
   "source": [
    "test_review_bow = vectorizer.transform(test_reviews)"
   ]
  },
  {
   "cell_type": "markdown",
   "metadata": {},
   "source": [
    "# Applyinng  Logistic Regression on the Test Reviews"
   ]
  },
  {
   "cell_type": "code",
   "execution_count": 43,
   "metadata": {},
   "outputs": [
    {
     "name": "stdout",
     "output_type": "stream",
     "text": [
      "The accuracy  is 0.8730541718555417\n"
     ]
    }
   ],
   "source": [
    "log=LogisticRegression(C=0.01,penalty='l2')\n",
    "accuracy=accuracy_of_model(log,X_train_bow,y_train,X_test_bow,y_test)"
   ]
  },
  {
   "cell_type": "code",
   "execution_count": 44,
   "metadata": {},
   "outputs": [
    {
     "data": {
      "image/png": "[encoded data removed]",
      "text/plain": [
       "<Figure size 432x288 with 1 Axes>"
      ]
     },
     "metadata": {},
     "output_type": "display_data"
    },
    {
     "name": "stdout",
     "output_type": "stream",
     "text": [
      "[[2919 1168]\n",
      " [ 463 8298]]\n"
     ]
    },
    {
     "data": {
      "image/png": "[encoded data removed]",
      "text/plain": [
       "<Figure size 432x288 with 2 Axes>"
      ]
     },
     "metadata": {},
     "output_type": "display_data"
    }
   ],
   "source": [
    "roc_curve(log)"
   ]
  },
  {
   "cell_type": "markdown",
   "metadata": {},
   "source": [
    "# Predicting the Response of the Test (Unseen) Reviews"
   ]
  },
  {
   "cell_type": "code",
   "execution_count": 45,
   "metadata": {},
   "outputs": [],
   "source": [
    "pred = log.predict(test_review_bow)"
   ]
  },
  {
   "cell_type": "markdown",
   "metadata": {},
   "source": [
    "# Saving the review and predicted response on a dictionary"
   ]
  },
  {
   "cell_type": "code",
   "execution_count": 49,
   "metadata": {},
   "outputs": [],
   "source": [
    "dict={'Reviews':data_test['Description'],'Response':pred}"
   ]
  },
  {
   "cell_type": "markdown",
   "metadata": {},
   "source": [
    "# Converting the dictionary into Data Frame"
   ]
  },
  {
   "cell_type": "code",
   "execution_count": 50,
   "metadata": {},
   "outputs": [],
   "source": [
    "predicted_response=pd.DataFrame(dict)"
   ]
  },
  {
   "cell_type": "markdown",
   "metadata": {},
   "source": [
    "Converting back the reposnse from numerical values to words : 0:'Not Happy',1:'Happy'"
   ]
  },
  {
   "cell_type": "code",
   "execution_count": 52,
   "metadata": {},
   "outputs": [],
   "source": [
    "predicted_response.replace({0:'Not Happy',1:'Happy'},inplace=True)"
   ]
  },
  {
   "cell_type": "markdown",
   "metadata": {},
   "source": [
    "# Printing the Final Predicted Response"
   ]
  },
  {
   "cell_type": "code",
   "execution_count": 53,
   "metadata": {},
   "outputs": [
    {
     "data": {
      "text/html": [
       "<div>\n",
       "<style scoped>\n",
       "    .dataframe tbody tr th:only-of-type {\n",
       "        vertical-align: middle;\n",
       "    }\n",
       "\n",
       "    .dataframe tbody tr th {\n",
       "        vertical-align: top;\n",
       "    }\n",
       "\n",
       "    .dataframe thead th {\n",
       "        text-align: right;\n",
       "    }\n",
       "</style>\n",
       "<table border=\"1\" class=\"dataframe\">\n",
       "  <thead>\n",
       "    <tr style=\"text-align: right;\">\n",
       "      <th></th>\n",
       "      <th>Reviews</th>\n",
       "      <th>Response</th>\n",
       "    </tr>\n",
       "  </thead>\n",
       "  <tbody>\n",
       "    <tr>\n",
       "      <td>0</td>\n",
       "      <td>Looking for a motel in close proximity to TV t...</td>\n",
       "      <td>Not Happy</td>\n",
       "    </tr>\n",
       "    <tr>\n",
       "      <td>1</td>\n",
       "      <td>Walking distance to Madison Square Garden and ...</td>\n",
       "      <td>Happy</td>\n",
       "    </tr>\n",
       "    <tr>\n",
       "      <td>2</td>\n",
       "      <td>Visited Seattle on business. Spent - nights in...</td>\n",
       "      <td>Happy</td>\n",
       "    </tr>\n",
       "    <tr>\n",
       "      <td>3</td>\n",
       "      <td>This hotel location is excellent and the rooms...</td>\n",
       "      <td>Not Happy</td>\n",
       "    </tr>\n",
       "    <tr>\n",
       "      <td>4</td>\n",
       "      <td>This hotel is awesome I love the service Antho...</td>\n",
       "      <td>Happy</td>\n",
       "    </tr>\n",
       "    <tr>\n",
       "      <td>...</td>\n",
       "      <td>...</td>\n",
       "      <td>...</td>\n",
       "    </tr>\n",
       "    <tr>\n",
       "      <td>29399</td>\n",
       "      <td>I stayed at the hotel and towers for a confere...</td>\n",
       "      <td>Happy</td>\n",
       "    </tr>\n",
       "    <tr>\n",
       "      <td>29400</td>\n",
       "      <td>Trying to stay within the Marriott family and ...</td>\n",
       "      <td>Happy</td>\n",
       "    </tr>\n",
       "    <tr>\n",
       "      <td>29401</td>\n",
       "      <td>We stayed for - nights with our little dog,ver...</td>\n",
       "      <td>Happy</td>\n",
       "    </tr>\n",
       "    <tr>\n",
       "      <td>29402</td>\n",
       "      <td>Stayed at the Yotel over the weekend and was v...</td>\n",
       "      <td>Happy</td>\n",
       "    </tr>\n",
       "    <tr>\n",
       "      <td>29403</td>\n",
       "      <td>The Blakely is is comfortable is every way: th...</td>\n",
       "      <td>Happy</td>\n",
       "    </tr>\n",
       "  </tbody>\n",
       "</table>\n",
       "<p>29404 rows × 2 columns</p>\n",
       "</div>"
      ],
      "text/plain": [
       "                                                 Reviews   Response\n",
       "0      Looking for a motel in close proximity to TV t...  Not Happy\n",
       "1      Walking distance to Madison Square Garden and ...      Happy\n",
       "2      Visited Seattle on business. Spent - nights in...      Happy\n",
       "3      This hotel location is excellent and the rooms...  Not Happy\n",
       "4      This hotel is awesome I love the service Antho...      Happy\n",
       "...                                                  ...        ...\n",
       "29399  I stayed at the hotel and towers for a confere...      Happy\n",
       "29400  Trying to stay within the Marriott family and ...      Happy\n",
       "29401  We stayed for - nights with our little dog,ver...      Happy\n",
       "29402  Stayed at the Yotel over the weekend and was v...      Happy\n",
       "29403  The Blakely is is comfortable is every way: th...      Happy\n",
       "\n",
       "[29404 rows x 2 columns]"
      ]
     },
     "execution_count": 53,
     "metadata": {},
     "output_type": "execute_result"
    }
   ],
   "source": [
    "predicted_response"
   ]
  },
  {
   "cell_type": "markdown",
   "metadata": {},
   "source": [
    "# Top 50 important features of positive class "
   ]
  },
  {
   "cell_type": "code",
   "execution_count": 56,
   "metadata": {},
   "outputs": [],
   "source": [
    "#print(top_50_positive)\n",
    "weight=log.coef_[0, :].argsort()\n",
    "weight_sorted=weight[ : : -1]\n",
    "positive_Features=np.take(vectorizer.get_feature_names(), weight_sorted[:50])\n",
    "\n",
    "\n"
   ]
  },
  {
   "cell_type": "code",
   "execution_count": 60,
   "metadata": {},
   "outputs": [
    {
     "data": {
      "text/plain": [
       "array(['perfect', 'excellent', 'wonderful', 'loved', 'great',\n",
       "       'definitely', 'quiet', 'comfortable', 'amazing', 'spacious',\n",
       "       'highly', 'enjoyed', 'fantastic', 'modern', 'happy', 'beautiful',\n",
       "       'everything', 'helpful', 'pleased', 'love', 'recommend', 'always',\n",
       "       'everyone', 'outstanding', 'lovely', 'comfy', 'complaint',\n",
       "       'thanks', 'clean', 'thank', 'appointed', 'friendly', 'nicely',\n",
       "       'large', 'awesome', 'ride', 'home', 'beat', 'nice', 'king',\n",
       "       'professional', 'plenty', 'best', 'nyc', 'spotless', 'super',\n",
       "       'negative', 'perfectly', 'cool', 'works'], dtype='<U28')"
      ]
     },
     "execution_count": 60,
     "metadata": {},
     "output_type": "execute_result"
    }
   ],
   "source": [
    "positive_Features"
   ]
  },
  {
   "cell_type": "markdown",
   "metadata": {},
   "source": [
    "# Top 50 important features of negative class"
   ]
  },
  {
   "cell_type": "code",
   "execution_count": 65,
   "metadata": {},
   "outputs": [
    {
     "data": {
      "text/plain": [
       "array(['dirty', 'worst', 'rude', 'ok', 'old', 'average', 'terrible',\n",
       "       'poor', 'nothing', 'walls', 'broken', 'horrible', 'smell', 'okay',\n",
       "       'told', 'dated', 'money', 'uncomfortable', 'carpet', 'however',\n",
       "       'no', 'stains', 'worn', 'disappointed', 'noisy', 'bad', 'tiny',\n",
       "       'elsewhere', 'trying', 'not', 'outdated', 'motel', 'pay', 'filthy',\n",
       "       'disappointing', 'dark', 'basic', 'never', 'sleep', 'furniture',\n",
       "       'overpriced', 'disgusting', 'awful', 'needs', 'loud', 'somewhere',\n",
       "       'smelled', 'musty', 'barely', 'better'], dtype='<U28')"
      ]
     },
     "execution_count": 65,
     "metadata": {},
     "output_type": "execute_result"
    }
   ],
   "source": [
    "#print(top_50_negative)\n",
    "weight=log.coef_[0, :].argsort()\n",
    "weight_sorted=weight[ : : 1]\n",
    "negative_Features=np.take(vectorizer.get_feature_names(), weight_sorted[:50])\n",
    "negative_Features\n",
    "\n",
    "\n"
   ]
  },
  {
   "cell_type": "markdown",
   "metadata": {},
   "source": [
    "# Conclusion \n",
    "In this project we have worked on the hotel review dataset and predicted the response(Happy/Not Happy) of the customer.\n",
    "\n",
    "The project has been divided into several parts as below :-\n",
    "     \n",
    "a) Initially after  importing the required dataset , we have worked on EDA and preprocessing of the dataset. In this step the review \n",
    "of the customer is preprocessed by cleaning the text and making it suitable for the modelling .\n",
    "\n",
    "b)In the next part of project , after cleaning we have featurized the description and vectorized the cleaned text to numerical vector for the prediction \n",
    "\n",
    "c) In this part of the project we have taken featurized text into several models for the classification and we have selected logistic regression as our final model.\n",
    "\n",
    "d)In the last part of the project as we have already selected the logistic regression as our final model based on the performance ,\n",
    "we have input the unseen reviews of the hotel to the model and predicted the response , and at last we have also displayed the top 50 features  for positive and negative response.\n"
   ]
  }
 ],
 "metadata": {
  "kernelspec": {
   "display_name": "Python 3",
   "language": "python",
   "name": "python3"
  },
  "language_info": {
   "codemirror_mode": {
    "name": "ipython",
    "version": 3
   },
   "file_extension": ".py",
   "mimetype": "text/x-python",
   "name": "python",
   "nbconvert_exporter": "python",
   "pygments_lexer": "ipython3",
   "version": "3.6.5"
  }
 },
 "nbformat": 4,
 "nbformat_minor": 2
}
