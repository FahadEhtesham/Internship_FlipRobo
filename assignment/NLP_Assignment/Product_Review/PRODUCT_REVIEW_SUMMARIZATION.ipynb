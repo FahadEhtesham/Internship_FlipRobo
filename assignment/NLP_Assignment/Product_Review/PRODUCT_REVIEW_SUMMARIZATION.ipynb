{
  "nbformat": 4,
  "nbformat_minor": 0,
  "metadata": {
    "colab": {
      "name": "PRODUCT REVIEW SUMMARIZATION.ipynb",
      "provenance": [],
      "collapsed_sections": []
    },
    "kernelspec": {
      "name": "python3",
      "display_name": "Python 3"
    }
  },
  "cells": [
    {
      "cell_type": "markdown",
      "metadata": {
        "id": "0G1gczU5CzKA"
      },
      "source": [
        " **INTRODUCTION:**\n",
        "Talking about the past decade, online shopping market has reached new heights. The e-commerce industry has\n",
        "grown at a rapid pace in this period and now days it’s an essential part of human lives all over the world. Online\n",
        "shopping now has a vast variety of products which are being purchased on a simple web application hassle free.\n",
        "The continuous improvement in the whole process by use of growing technology has brought a wide range of\n",
        "services to give the customer real time shopping experience. One of these services include customer reviews\n",
        "which are found to be very helpful in providing a full-fledged information of the product. Not only the images,\n",
        "prices, specifications but the reviews also are a part of a product catalogue now days. In this project we will\n",
        "focus on improving review readability for the customer using Natural Language Processing Techniques."
      ]
    },
    {
      "cell_type": "markdown",
      "metadata": {
        "id": "ECGzVTN9Di_W"
      },
      "source": [
        "PROBLEM STATEMENT:\n",
        "In this project we have to build a system which summarizes the customer reviews of a particular product into a\n",
        "bunch of keywords, so that when a customer goes to a product page, he/she doesn’t have to read long reviews.\n",
        "Instead he/she can make up his/her mind based on the product average rating and summarized keywords of the\n",
        "review.\n",
        "For this problem you may use any tools and techniques you like. The data consists of reviews and ratings\n",
        "information of the products which are being sold by the client via online website. The data description is as\n",
        "follows:\n"
      ]
    },
    {
      "cell_type": "markdown",
      "metadata": {
        "id": "3ogXBFKZEJtN"
      },
      "source": [
        "**DATA DESCRIPTION:**\n",
        "\n",
        "1_ IC – Item Code of the product, e.g. B016MF3P3K\n",
        "\n",
        "2) Reviewer_Name - Name of the reviewer\n",
        "\n",
        "3) Useful- Number of useful votes (upvotes) of the review\n",
        "\n",
        "4) Prod_meta- a dictionary of the product metadata. It contains only additional information about the\n",
        "product, if any available.\n",
        "\n",
        "5) Review- text of the review\n",
        "\n",
        "\n",
        "6)Rating- rating given to the product by the reviewer.\n",
        "\n",
        "7)Rev_summ- summary of the review\n",
        "\n",
        "8) Review_timestamp- time when the review has been posted (unix time format)\n",
        "\n",
        "9) Review_Date- Date when the review has been posted\n",
        "\n",
        "10)Prod_img- images that users post after they have received the \n",
        "product\n",
        "\n",
        "11) Rev_verify- Flag to represent whether the review has been verified or not. (True/False)"
      ]
    },
    {
      "cell_type": "markdown",
      "metadata": {
        "id": "Aj3HzgM6EwTg"
      },
      "source": [
        "***Mounting Drive***\n"
      ]
    },
    {
      "cell_type": "code",
      "metadata": {
        "id": "J-_YlgRi3ssF",
        "outputId": "3fd08b67-41bc-4432-919b-6919d0516712",
        "colab": {
          "base_uri": "https://localhost:8080/",
          "height": 34
        }
      },
      "source": [
        "from google.colab import drive\n",
        "drive.mount('/content/gdrive')"
      ],
      "execution_count": 1,
      "outputs": [
        {
          "output_type": "stream",
          "text": [
            "Mounted at /content/gdrive\n"
          ],
          "name": "stdout"
        }
      ]
    },
    {
      "cell_type": "markdown",
      "metadata": {
        "id": "PLQFa8_jE0mc"
      },
      "source": [
        "**Importing the Data**"
      ]
    },
    {
      "cell_type": "code",
      "metadata": {
        "id": "1rZI5z8o62fy"
      },
      "source": [
        "import pandas as pd\n",
        "data= pd.read_json('/content/gdrive/My Drive/Cell_Phones_and_Accessories.json')"
      ],
      "execution_count": 4,
      "outputs": []
    },
    {
      "cell_type": "code",
      "metadata": {
        "id": "g6inBW647Jja",
        "outputId": "3d5909b6-a0dd-430f-e4a5-19a707fb6251",
        "colab": {
          "base_uri": "https://localhost:8080/",
          "height": 471
        }
      },
      "source": [
        "data.head(5)"
      ],
      "execution_count": 5,
      "outputs": [
        {
          "output_type": "execute_result",
          "data": {
            "text/html": [
              "<div>\n",
              "<style scoped>\n",
              "    .dataframe tbody tr th:only-of-type {\n",
              "        vertical-align: middle;\n",
              "    }\n",
              "\n",
              "    .dataframe tbody tr th {\n",
              "        vertical-align: top;\n",
              "    }\n",
              "\n",
              "    .dataframe thead th {\n",
              "        text-align: right;\n",
              "    }\n",
              "</style>\n",
              "<table border=\"1\" class=\"dataframe\">\n",
              "  <thead>\n",
              "    <tr style=\"text-align: right;\">\n",
              "      <th></th>\n",
              "      <th>Rating</th>\n",
              "      <th>Rev_verify</th>\n",
              "      <th>Review_Date</th>\n",
              "      <th>IC</th>\n",
              "      <th>Prod_meta</th>\n",
              "      <th>Reviewer_Name</th>\n",
              "      <th>Review</th>\n",
              "      <th>Rev_summ</th>\n",
              "      <th>Review_timestamp</th>\n",
              "      <th>Useful</th>\n",
              "      <th>Prod_img</th>\n",
              "    </tr>\n",
              "  </thead>\n",
              "  <tbody>\n",
              "    <tr>\n",
              "      <th>0</th>\n",
              "      <td>5</td>\n",
              "      <td>True</td>\n",
              "      <td>09 1, 2015</td>\n",
              "      <td>B009XD5TPQ</td>\n",
              "      <td>None</td>\n",
              "      <td>Sunny  Zoeller</td>\n",
              "      <td>Bought it for my husband. He's very happy with it</td>\n",
              "      <td>He's very happy with</td>\n",
              "      <td>1441065600</td>\n",
              "      <td>None</td>\n",
              "      <td>None</td>\n",
              "    </tr>\n",
              "    <tr>\n",
              "      <th>1</th>\n",
              "      <td>5</td>\n",
              "      <td>True</td>\n",
              "      <td>01 9, 2016</td>\n",
              "      <td>B016MF3P3K</td>\n",
              "      <td>None</td>\n",
              "      <td>Denise Lesley</td>\n",
              "      <td>Great screen protector.  Doesn't even seem as ...</td>\n",
              "      <td>Five Stars</td>\n",
              "      <td>1452297600</td>\n",
              "      <td>None</td>\n",
              "      <td>None</td>\n",
              "    </tr>\n",
              "    <tr>\n",
              "      <th>2</th>\n",
              "      <td>5</td>\n",
              "      <td>True</td>\n",
              "      <td>04 21, 2013</td>\n",
              "      <td>B008DC8N5G</td>\n",
              "      <td>None</td>\n",
              "      <td>Emir</td>\n",
              "      <td>Saved me lots of money! it's not gorilla glass...</td>\n",
              "      <td>As long as you know how to put it on!</td>\n",
              "      <td>1366502400</td>\n",
              "      <td>None</td>\n",
              "      <td>None</td>\n",
              "    </tr>\n",
              "    <tr>\n",
              "      <th>3</th>\n",
              "      <td>3</td>\n",
              "      <td>True</td>\n",
              "      <td>02 27, 2013</td>\n",
              "      <td>B0089CH3TM</td>\n",
              "      <td>{'Color:': ' Green'}</td>\n",
              "      <td>Alyse</td>\n",
              "      <td>The material and fit is very nice, but the col...</td>\n",
              "      <td>Good case overall</td>\n",
              "      <td>1361923200</td>\n",
              "      <td>3</td>\n",
              "      <td>None</td>\n",
              "    </tr>\n",
              "    <tr>\n",
              "      <th>4</th>\n",
              "      <td>4</td>\n",
              "      <td>True</td>\n",
              "      <td>12 19, 2013</td>\n",
              "      <td>B00AKZWGAC</td>\n",
              "      <td>None</td>\n",
              "      <td>TechGuy</td>\n",
              "      <td>This last me about 3 days till i have to charg...</td>\n",
              "      <td>Awesome Battery</td>\n",
              "      <td>1387411200</td>\n",
              "      <td>None</td>\n",
              "      <td>None</td>\n",
              "    </tr>\n",
              "  </tbody>\n",
              "</table>\n",
              "</div>"
            ],
            "text/plain": [
              "   Rating  Rev_verify  Review_Date  ... Review_timestamp Useful Prod_img\n",
              "0       5        True   09 1, 2015  ...       1441065600   None     None\n",
              "1       5        True   01 9, 2016  ...       1452297600   None     None\n",
              "2       5        True  04 21, 2013  ...       1366502400   None     None\n",
              "3       3        True  02 27, 2013  ...       1361923200      3     None\n",
              "4       4        True  12 19, 2013  ...       1387411200   None     None\n",
              "\n",
              "[5 rows x 11 columns]"
            ]
          },
          "metadata": {
            "tags": []
          },
          "execution_count": 5
        }
      ]
    },
    {
      "cell_type": "markdown",
      "metadata": {
        "id": "nxZ6QP_rFWOE"
      },
      "source": [
        "**Famliarisation with the Dataset**"
      ]
    },
    {
      "cell_type": "code",
      "metadata": {
        "id": "uaBwUQdL91ZZ",
        "outputId": "64c59583-4cdf-4bbb-db32-b2238dd13304",
        "colab": {
          "base_uri": "https://localhost:8080/",
          "height": 34
        }
      },
      "source": [
        "data.shape"
      ],
      "execution_count": 6,
      "outputs": [
        {
          "output_type": "execute_result",
          "data": {
            "text/plain": [
              "(760450, 11)"
            ]
          },
          "metadata": {
            "tags": []
          },
          "execution_count": 6
        }
      ]
    },
    {
      "cell_type": "code",
      "metadata": {
        "id": "q5f-Dndw7N8-",
        "outputId": "3c3f3a61-7cb5-45bf-dc13-0d171f5b752b",
        "colab": {
          "base_uri": "https://localhost:8080/",
          "height": 87
        }
      },
      "source": [
        "data.columns"
      ],
      "execution_count": 7,
      "outputs": [
        {
          "output_type": "execute_result",
          "data": {
            "text/plain": [
              "Index(['Rating', 'Rev_verify', 'Review_Date', 'IC', 'Prod_meta',\n",
              "       'Reviewer_Name', 'Review', 'Rev_summ', 'Review_timestamp', 'Useful',\n",
              "       'Prod_img'],\n",
              "      dtype='object')"
            ]
          },
          "metadata": {
            "tags": []
          },
          "execution_count": 7
        }
      ]
    },
    {
      "cell_type": "code",
      "metadata": {
        "id": "p6z1MRHo7r4k",
        "outputId": "5acb87a7-6be6-4d1b-f417-588a32dba3d1",
        "colab": {
          "base_uri": "https://localhost:8080/",
          "height": 228
        }
      },
      "source": [
        "data.dtypes"
      ],
      "execution_count": 8,
      "outputs": [
        {
          "output_type": "execute_result",
          "data": {
            "text/plain": [
              "Rating               int64\n",
              "Rev_verify            bool\n",
              "Review_Date         object\n",
              "IC                  object\n",
              "Prod_meta           object\n",
              "Reviewer_Name       object\n",
              "Review              object\n",
              "Rev_summ            object\n",
              "Review_timestamp     int64\n",
              "Useful              object\n",
              "Prod_img            object\n",
              "dtype: object"
            ]
          },
          "metadata": {
            "tags": []
          },
          "execution_count": 8
        }
      ]
    },
    {
      "cell_type": "markdown",
      "metadata": {
        "id": "NsNBmAenFpf4"
      },
      "source": [
        "***Converting rating in 0 and 1 to get the counts of bad and good review *** "
      ]
    },
    {
      "cell_type": "code",
      "metadata": {
        "id": "5dNCyVUv7cco",
        "outputId": "dfc99664-58b7-4ac4-b428-9bd8855e62c7",
        "colab": {
          "base_uri": "https://localhost:8080/",
          "height": 326
        }
      },
      "source": [
        "# Give reviews with rating>3 a positive rating(1), and reviews with a rating<3 a negative rating(0).\n",
        "def partition(x):\n",
        "    if x < 3:\n",
        "        return 0\n",
        "    return 1\n",
        "\n",
        "#changing reviews with rating less than 3 to be positive and vice-versa\n",
        "actualScore = data['Rating']\n",
        "positiveNegative = actualScore.map(partition) \n",
        "data['Rating'] = positiveNegative\n",
        "print(\"Number of data points in our data\", data.shape)\n",
        "data.head(3)"
      ],
      "execution_count": 9,
      "outputs": [
        {
          "output_type": "stream",
          "text": [
            "Number of data points in our data (760450, 11)\n"
          ],
          "name": "stdout"
        },
        {
          "output_type": "execute_result",
          "data": {
            "text/html": [
              "<div>\n",
              "<style scoped>\n",
              "    .dataframe tbody tr th:only-of-type {\n",
              "        vertical-align: middle;\n",
              "    }\n",
              "\n",
              "    .dataframe tbody tr th {\n",
              "        vertical-align: top;\n",
              "    }\n",
              "\n",
              "    .dataframe thead th {\n",
              "        text-align: right;\n",
              "    }\n",
              "</style>\n",
              "<table border=\"1\" class=\"dataframe\">\n",
              "  <thead>\n",
              "    <tr style=\"text-align: right;\">\n",
              "      <th></th>\n",
              "      <th>Rating</th>\n",
              "      <th>Rev_verify</th>\n",
              "      <th>Review_Date</th>\n",
              "      <th>IC</th>\n",
              "      <th>Prod_meta</th>\n",
              "      <th>Reviewer_Name</th>\n",
              "      <th>Review</th>\n",
              "      <th>Rev_summ</th>\n",
              "      <th>Review_timestamp</th>\n",
              "      <th>Useful</th>\n",
              "      <th>Prod_img</th>\n",
              "    </tr>\n",
              "  </thead>\n",
              "  <tbody>\n",
              "    <tr>\n",
              "      <th>0</th>\n",
              "      <td>1</td>\n",
              "      <td>True</td>\n",
              "      <td>09 1, 2015</td>\n",
              "      <td>B009XD5TPQ</td>\n",
              "      <td>None</td>\n",
              "      <td>Sunny  Zoeller</td>\n",
              "      <td>Bought it for my husband. He's very happy with it</td>\n",
              "      <td>He's very happy with</td>\n",
              "      <td>1441065600</td>\n",
              "      <td>None</td>\n",
              "      <td>None</td>\n",
              "    </tr>\n",
              "    <tr>\n",
              "      <th>1</th>\n",
              "      <td>1</td>\n",
              "      <td>True</td>\n",
              "      <td>01 9, 2016</td>\n",
              "      <td>B016MF3P3K</td>\n",
              "      <td>None</td>\n",
              "      <td>Denise Lesley</td>\n",
              "      <td>Great screen protector.  Doesn't even seem as ...</td>\n",
              "      <td>Five Stars</td>\n",
              "      <td>1452297600</td>\n",
              "      <td>None</td>\n",
              "      <td>None</td>\n",
              "    </tr>\n",
              "    <tr>\n",
              "      <th>2</th>\n",
              "      <td>1</td>\n",
              "      <td>True</td>\n",
              "      <td>04 21, 2013</td>\n",
              "      <td>B008DC8N5G</td>\n",
              "      <td>None</td>\n",
              "      <td>Emir</td>\n",
              "      <td>Saved me lots of money! it's not gorilla glass...</td>\n",
              "      <td>As long as you know how to put it on!</td>\n",
              "      <td>1366502400</td>\n",
              "      <td>None</td>\n",
              "      <td>None</td>\n",
              "    </tr>\n",
              "  </tbody>\n",
              "</table>\n",
              "</div>"
            ],
            "text/plain": [
              "   Rating  Rev_verify  Review_Date  ... Review_timestamp Useful Prod_img\n",
              "0       1        True   09 1, 2015  ...       1441065600   None     None\n",
              "1       1        True   01 9, 2016  ...       1452297600   None     None\n",
              "2       1        True  04 21, 2013  ...       1366502400   None     None\n",
              "\n",
              "[3 rows x 11 columns]"
            ]
          },
          "metadata": {
            "tags": []
          },
          "execution_count": 9
        }
      ]
    },
    {
      "cell_type": "code",
      "metadata": {
        "id": "1WiGCeGK_Di8",
        "outputId": "dfc669a9-5b47-46c2-8b34-603903566208",
        "colab": {
          "base_uri": "https://localhost:8080/",
          "height": 52
        }
      },
      "source": [
        "print(data[data['Rating']==1].shape)\n",
        "print(data[data['Rating']==0].shape)\n",
        "\n"
      ],
      "execution_count": 10,
      "outputs": [
        {
          "output_type": "stream",
          "text": [
            "(666989, 11)\n",
            "(93461, 11)\n"
          ],
          "name": "stdout"
        }
      ]
    },
    {
      "cell_type": "markdown",
      "metadata": {
        "id": "0Dk0cAB8F5Bg"
      },
      "source": [
        "From the above data we can say that count of the  bad reviewed products are lesser"
      ]
    },
    {
      "cell_type": "code",
      "metadata": {
        "id": "b8vw_9Q0qKZn",
        "outputId": "1cac1b74-7123-41e4-b36e-6186061ebd26",
        "colab": {
          "base_uri": "https://localhost:8080/",
          "height": 300
        }
      },
      "source": [
        "import seaborn as sns\n",
        "sns.countplot(x=\"Rating\", data=data)"
      ],
      "execution_count": 11,
      "outputs": [
        {
          "output_type": "execute_result",
          "data": {
            "text/plain": [
              "<matplotlib.axes._subplots.AxesSubplot at 0x7fa4aebcd588>"
            ]
          },
          "metadata": {
            "tags": []
          },
          "execution_count": 11
        },
        {
          "output_type": "display_data",
          "data": {
            "image/png": "[encoded data removed]",
            "text/plain": [
              "<Figure size 432x288 with 1 Axes>"
            ]
          },
          "metadata": {
            "tags": [],
            "needs_background": "light"
          }
        }
      ]
    },
    {
      "cell_type": "markdown",
      "metadata": {
        "id": "rbbcmPqiG3Uu"
      },
      "source": [
        "*Combining review and summary features*"
      ]
    },
    {
      "cell_type": "code",
      "metadata": {
        "id": "iYbcHnR9EbpU"
      },
      "source": [
        "data['Review_summ']=data['Review']+ '  ' + data['Rev_summ']"
      ],
      "execution_count": 12,
      "outputs": []
    },
    {
      "cell_type": "markdown",
      "metadata": {
        "id": "TknhiOIoHJpi"
      },
      "source": [
        "***Null/missing value Analysis***"
      ]
    },
    {
      "cell_type": "code",
      "metadata": {
        "id": "HF3DPr2L-fdA",
        "outputId": "2c14b09d-8cae-4c3b-bd47-a24eaaa9c1d1",
        "colab": {
          "base_uri": "https://localhost:8080/",
          "height": 157
        }
      },
      "source": [
        "data.isnull().sum()[data.isnull().sum()>0]"
      ],
      "execution_count": 13,
      "outputs": [
        {
          "output_type": "execute_result",
          "data": {
            "text/plain": [
              "Prod_meta        352624\n",
              "Reviewer_Name        91\n",
              "Review              530\n",
              "Rev_summ            355\n",
              "Useful           698250\n",
              "Prod_img         742256\n",
              "Review_summ         848\n",
              "dtype: int64"
            ]
          },
          "metadata": {
            "tags": []
          },
          "execution_count": 13
        }
      ]
    },
    {
      "cell_type": "markdown",
      "metadata": {
        "id": "6DnYqAIsHRQE"
      },
      "source": [
        "*Our main focus will be review_summ column , therefore we can see that there are 848 columns which have no review in it ,so these will be dropped*"
      ]
    },
    {
      "cell_type": "markdown",
      "metadata": {
        "id": "LP05FwlHHtOV"
      },
      "source": [
        "**Dropping Null Valued Review_summ rows**"
      ]
    },
    {
      "cell_type": "code",
      "metadata": {
        "id": "cc3na7wCEDG3"
      },
      "source": [
        "df = data.dropna(axis=0, subset=['Review_summ'])"
      ],
      "execution_count": 15,
      "outputs": []
    },
    {
      "cell_type": "code",
      "metadata": {
        "id": "AjWun7MHq6kw",
        "outputId": "f8b4fea8-3132-4208-8ee2-ec349055cb23",
        "colab": {
          "base_uri": "https://localhost:8080/",
          "height": 34
        }
      },
      "source": [
        "df.shape"
      ],
      "execution_count": 17,
      "outputs": [
        {
          "output_type": "execute_result",
          "data": {
            "text/plain": [
              "(759602, 12)"
            ]
          },
          "metadata": {
            "tags": []
          },
          "execution_count": 17
        }
      ]
    },
    {
      "cell_type": "markdown",
      "metadata": {
        "id": "2HEYVVK2IBa-"
      },
      "source": [
        "**Exploring the Unique number of product**"
      ]
    },
    {
      "cell_type": "code",
      "metadata": {
        "id": "H4YAC5ixSFPK",
        "outputId": "16b76344-1ddb-4776-933f-6f408017a398",
        "colab": {
          "base_uri": "https://localhost:8080/",
          "height": 34
        }
      },
      "source": [
        "data.IC.nunique(dropna = True)"
      ],
      "execution_count": 19,
      "outputs": [
        {
          "output_type": "execute_result",
          "data": {
            "text/plain": [
              "48134"
            ]
          },
          "metadata": {
            "tags": []
          },
          "execution_count": 19
        }
      ]
    },
    {
      "cell_type": "markdown",
      "metadata": {
        "id": "99JNZnZAIMVF"
      },
      "source": [
        "There are 48134 unique products in the dataset"
      ]
    },
    {
      "cell_type": "markdown",
      "metadata": {
        "id": "tTLGPANeJl8P"
      },
      "source": [
        "**Preprocessing Description**\n",
        "\n",
        "In the Preprocessing phase we do the following in the order below:-\n",
        "\n",
        "a) Begin by removing the html tags\n",
        "\n",
        "b) Remove any punctuations or limited set of special characters like , or . or # etc.\n",
        "\n",
        "c) Check if the word is made up of english letters and is not alpha-numeric\n",
        "\n",
        "d) Check to see if the length of the word is greater than 2 (as it was researched that there is no adjective in 2-letters)\n",
        "\n",
        "e) Convert the word to lowercase\n",
        "\n",
        "f) Remove Stopwords"
      ]
    },
    {
      "cell_type": "code",
      "metadata": {
        "id": "H4Yx1wK6pYB2",
        "outputId": "d85e459c-075b-49d1-ad87-7ae8bc799ee4",
        "colab": {
          "base_uri": "https://localhost:8080/",
          "height": 142
        }
      },
      "source": [
        "# printing some random reviews\n",
        "rev_0 = df['Review_summ'].values[0]\n",
        "print(rev_0)\n",
        "print('='*50)\n",
        "\n",
        "rev_50 = df['Review_summ'].values[50]\n",
        "print(rev_50)\n",
        "print('='*100)\n",
        "\n",
        "rev_100 = df['Review_summ'].values[100]\n",
        "print(rev_100)\n",
        "print('='*50)"
      ],
      "execution_count": 20,
      "outputs": [
        {
          "output_type": "stream",
          "text": [
            "Bought it for my husband. He's very happy with it  He's very happy with\n",
            "==================================================\n",
            "great  Five Stars\n",
            "====================================================================================================\n",
            "Very good and superior quality, looks great. My wife has been using it from last couple of months and its still almost intact. The call pick up feature while the top cover is on is not that great, it hardly worked but we were not looking for it anyhow. As a case, this is probably way better then a lot out in the market. We will for sure buy it again as we look for a replacement in future.  Very nice and good quality!!!\n",
            "==================================================\n"
          ],
          "name": "stdout"
        }
      ]
    },
    {
      "cell_type": "code",
      "metadata": {
        "id": "snrbVECGr8Sk",
        "outputId": "df68ec4b-0101-4ebe-8291-48bf02e28e53",
        "colab": {
          "base_uri": "https://localhost:8080/",
          "height": 52
        }
      },
      "source": [
        "from bs4 import BeautifulSoup\n",
        "\n",
        "soup = BeautifulSoup(rev_0, 'lxml')\n",
        "text = soup.get_text()\n",
        "print(text)\n",
        "print(\"=\"*50)"
      ],
      "execution_count": 21,
      "outputs": [
        {
          "output_type": "stream",
          "text": [
            "Bought it for my husband. He's very happy with it  He's very happy with\n",
            "==================================================\n"
          ],
          "name": "stdout"
        }
      ]
    },
    {
      "cell_type": "code",
      "metadata": {
        "id": "yZfDrqcwsMlC"
      },
      "source": [
        "import re\n",
        "\n",
        "def decontracted(phrase):\n",
        "    # specific\n",
        "    phrase = re.sub(r\"won't\", \"will not\", phrase)\n",
        "    phrase = re.sub(r\"can\\'t\", \"can not\", phrase)\n",
        "\n",
        "    # general\n",
        "    phrase = re.sub(r\"n\\'t\", \" not\", phrase)\n",
        "    phrase = re.sub(r\"\\'re\", \" are\", phrase)\n",
        "    phrase = re.sub(r\"\\'s\", \" is\", phrase)\n",
        "    phrase = re.sub(r\"\\'d\", \" would\", phrase)\n",
        "    phrase = re.sub(r\"\\'ll\", \" will\", phrase)\n",
        "    phrase = re.sub(r\"\\'t\", \" not\", phrase)\n",
        "    phrase = re.sub(r\"\\'ve\", \" have\", phrase)\n",
        "    phrase = re.sub(r\"\\'m\", \" am\", phrase)\n",
        "    return phrase"
      ],
      "execution_count": 22,
      "outputs": []
    },
    {
      "cell_type": "code",
      "metadata": {
        "id": "L24_BFHxsRsN",
        "outputId": "9813aa5f-dbdb-4edc-aaaa-8e27b3c1748c",
        "colab": {
          "base_uri": "https://localhost:8080/",
          "height": 72
        }
      },
      "source": [
        "rev_100 = decontracted(rev_100)\n",
        "print(rev_100)\n",
        "print(\"=\"*50)"
      ],
      "execution_count": 23,
      "outputs": [
        {
          "output_type": "stream",
          "text": [
            "Very good and superior quality, looks great. My wife has been using it from last couple of months and its still almost intact. The call pick up feature while the top cover is on is not that great, it hardly worked but we were not looking for it anyhow. As a case, this is probably way better then a lot out in the market. We will for sure buy it again as we look for a replacement in future.  Very nice and good quality!!!\n",
            "==================================================\n"
          ],
          "name": "stdout"
        }
      ]
    },
    {
      "cell_type": "code",
      "metadata": {
        "id": "nVYGY4cYseA6"
      },
      "source": [
        "stopwords= set(['br', 'the', 'i', 'me', 'my', 'myself', 'we', 'our', 'ours', 'ourselves', 'you', \"you're\", \"you've\",\\\n",
        "            \"you'll\", \"you'd\", 'your', 'yours', 'yourself', 'yourselves', 'he', 'him', 'his', 'himself', \\\n",
        "            'she', \"she's\", 'her', 'hers', 'herself', 'it', \"it's\", 'its', 'itself', 'they', 'them', 'their',\\\n",
        "            'theirs', 'themselves', 'what', 'which', 'who', 'whom', 'this', 'that', \"that'll\", 'these', 'those', \\\n",
        "            'am', 'is', 'are', 'was', 'were', 'be', 'been', 'being', 'have', 'has', 'had', 'having', 'do', 'does', \\\n",
        "            'did', 'doing', 'a', 'an', 'the', 'and', 'but', 'if', 'or', 'because', 'as', 'until', 'while', 'of', \\\n",
        "            'at', 'by', 'for', 'with', 'about', 'against', 'between', 'into', 'through', 'during', 'before', 'after',\\\n",
        "            'above', 'below', 'to', 'from', 'up', 'down', 'in', 'out', 'on', 'off', 'over', 'under', 'again', 'further',\\\n",
        "            'then', 'once', 'here', 'there', 'when', 'where', 'why', 'how', 'all', 'any', 'both', 'each', 'few', 'more',\\\n",
        "            'most', 'other', 'some', 'such', 'only', 'own', 'same', 'so', 'than', 'too', 'very', \\\n",
        "            's', 't', 'can', 'will', 'just', 'don', \"don't\", 'should', \"should've\", 'now', 'd', 'll', 'm', 'o', 're', \\\n",
        "            've', 'y', 'ain', 'aren', \"aren't\", 'couldn', \"couldn't\", 'didn', \"didn't\", 'doesn', \"doesn't\", 'hadn',\\\n",
        "            \"hadn't\", 'hasn', \"hasn't\", 'haven', \"haven't\", 'isn', \"isn't\", 'ma', 'mightn', \"mightn't\", 'mustn',\\\n",
        "            \"mustn't\", 'needn', \"needn't\", 'shan', \"shan't\", 'shouldn', \"shouldn't\", 'wasn', \"wasn't\", 'weren', \"weren't\", \\\n",
        "            'won', \"won't\", 'wouldn', \"wouldn't\"])"
      ],
      "execution_count": 24,
      "outputs": []
    },
    {
      "cell_type": "code",
      "metadata": {
        "id": "GTZMepm5spNr",
        "outputId": "1d7de97d-2cba-45a6-e76a-24f799debdec",
        "colab": {
          "base_uri": "https://localhost:8080/",
          "height": 34
        }
      },
      "source": [
        "# Combining all \n",
        "from tqdm import tqdm\n",
        "preprocessed_reviews = []\n",
        "# tqdm is for printing the status bar\n",
        "for sentance in tqdm(df['Review_summ'].values):\n",
        "    sentance = re.sub(r\"http\\S+\", \"\", sentance)\n",
        "    sentance = BeautifulSoup(sentance, 'lxml').get_text()\n",
        "    sentance = decontracted(sentance)\n",
        "    sentance = re.sub(\"\\S*\\d\\S*\", \"\", sentance).strip()\n",
        "    sentance = re.sub('[^A-Za-z]+', ' ', sentance)\n",
        "    sentance = ' '.join(e.lower() for e in sentance.split() if e.lower() not in stopwords)\n",
        "    preprocessed_reviews.append(sentance.strip())"
      ],
      "execution_count": 25,
      "outputs": [
        {
          "output_type": "stream",
          "text": [
            "100%|██████████| 759602/759602 [03:32<00:00, 3572.53it/s]\n"
          ],
          "name": "stderr"
        }
      ]
    },
    {
      "cell_type": "code",
      "metadata": {
        "id": "2Zb3BnQIs3Mh",
        "outputId": "0091c72b-cfe5-4e0d-85d0-0913bc4296ae",
        "colab": {
          "base_uri": "https://localhost:8080/",
          "height": 53
        }
      },
      "source": [
        " #Printing a sample review after the preprocessing and cleaning of the text.\n",
        "preprocessed_reviews[100]"
      ],
      "execution_count": 27,
      "outputs": [
        {
          "output_type": "execute_result",
          "data": {
            "application/vnd.google.colaboratory.intrinsic+json": {
              "type": "string"
            },
            "text/plain": [
              "'good superior quality looks great wife using last couple months still almost intact call pick feature top cover not great hardly worked not looking anyhow case probably way better lot market sure buy look replacement future nice good quality'"
            ]
          },
          "metadata": {
            "tags": []
          },
          "execution_count": 27
        }
      ]
    },
    {
      "cell_type": "code",
      "metadata": {
        "id": "WqTPIkmogo2x",
        "outputId": "6869bbd7-7cfe-413a-e9cd-f4de0a59b915",
        "colab": {
          "base_uri": "https://localhost:8080/",
          "height": 142
        }
      },
      "source": [
        "df['preprocessed_reviews']=preprocessed_reviews"
      ],
      "execution_count": 26,
      "outputs": [
        {
          "output_type": "stream",
          "text": [
            "/usr/local/lib/python3.6/dist-packages/ipykernel_launcher.py:1: SettingWithCopyWarning: \n",
            "A value is trying to be set on a copy of a slice from a DataFrame.\n",
            "Try using .loc[row_indexer,col_indexer] = value instead\n",
            "\n",
            "See the caveats in the documentation: https://pandas.pydata.org/pandas-docs/stable/user_guide/indexing.html#returning-a-view-versus-a-copy\n",
            "  \"\"\"Entry point for launching an IPython kernel.\n"
          ],
          "name": "stderr"
        }
      ]
    },
    {
      "cell_type": "code",
      "metadata": {
        "id": "qHNYB8fag3Qf",
        "outputId": "c8dc8fdf-f688-4bb1-c03d-fca4f5534657",
        "colab": {
          "base_uri": "https://localhost:8080/",
          "height": 447
        }
      },
      "source": [
        "df.head(3)"
      ],
      "execution_count": 28,
      "outputs": [
        {
          "output_type": "execute_result",
          "data": {
            "text/html": [
              "<div>\n",
              "<style scoped>\n",
              "    .dataframe tbody tr th:only-of-type {\n",
              "        vertical-align: middle;\n",
              "    }\n",
              "\n",
              "    .dataframe tbody tr th {\n",
              "        vertical-align: top;\n",
              "    }\n",
              "\n",
              "    .dataframe thead th {\n",
              "        text-align: right;\n",
              "    }\n",
              "</style>\n",
              "<table border=\"1\" class=\"dataframe\">\n",
              "  <thead>\n",
              "    <tr style=\"text-align: right;\">\n",
              "      <th></th>\n",
              "      <th>Rating</th>\n",
              "      <th>Rev_verify</th>\n",
              "      <th>Review_Date</th>\n",
              "      <th>IC</th>\n",
              "      <th>Prod_meta</th>\n",
              "      <th>Reviewer_Name</th>\n",
              "      <th>Review</th>\n",
              "      <th>Rev_summ</th>\n",
              "      <th>Review_timestamp</th>\n",
              "      <th>Useful</th>\n",
              "      <th>Prod_img</th>\n",
              "      <th>Review_summ</th>\n",
              "      <th>preprocessed_reviews</th>\n",
              "    </tr>\n",
              "  </thead>\n",
              "  <tbody>\n",
              "    <tr>\n",
              "      <th>0</th>\n",
              "      <td>1</td>\n",
              "      <td>True</td>\n",
              "      <td>09 1, 2015</td>\n",
              "      <td>B009XD5TPQ</td>\n",
              "      <td>None</td>\n",
              "      <td>Sunny  Zoeller</td>\n",
              "      <td>Bought it for my husband. He's very happy with it</td>\n",
              "      <td>He's very happy with</td>\n",
              "      <td>1441065600</td>\n",
              "      <td>None</td>\n",
              "      <td>None</td>\n",
              "      <td>Bought it for my husband. He's very happy with...</td>\n",
              "      <td>bought husband happy happy</td>\n",
              "    </tr>\n",
              "    <tr>\n",
              "      <th>1</th>\n",
              "      <td>1</td>\n",
              "      <td>True</td>\n",
              "      <td>01 9, 2016</td>\n",
              "      <td>B016MF3P3K</td>\n",
              "      <td>None</td>\n",
              "      <td>Denise Lesley</td>\n",
              "      <td>Great screen protector.  Doesn't even seem as ...</td>\n",
              "      <td>Five Stars</td>\n",
              "      <td>1452297600</td>\n",
              "      <td>None</td>\n",
              "      <td>None</td>\n",
              "      <td>Great screen protector.  Doesn't even seem as ...</td>\n",
              "      <td>great screen protector not even seem though fi...</td>\n",
              "    </tr>\n",
              "    <tr>\n",
              "      <th>2</th>\n",
              "      <td>1</td>\n",
              "      <td>True</td>\n",
              "      <td>04 21, 2013</td>\n",
              "      <td>B008DC8N5G</td>\n",
              "      <td>None</td>\n",
              "      <td>Emir</td>\n",
              "      <td>Saved me lots of money! it's not gorilla glass...</td>\n",
              "      <td>As long as you know how to put it on!</td>\n",
              "      <td>1366502400</td>\n",
              "      <td>None</td>\n",
              "      <td>None</td>\n",
              "      <td>Saved me lots of money! it's not gorilla glass...</td>\n",
              "      <td>saved lots money not gorilla glass careful sub...</td>\n",
              "    </tr>\n",
              "  </tbody>\n",
              "</table>\n",
              "</div>"
            ],
            "text/plain": [
              "   Rating  ...                               preprocessed_reviews\n",
              "0       1  ...                         bought husband happy happy\n",
              "1       1  ...  great screen protector not even seem though fi...\n",
              "2       1  ...  saved lots money not gorilla glass careful sub...\n",
              "\n",
              "[3 rows x 13 columns]"
            ]
          },
          "metadata": {
            "tags": []
          },
          "execution_count": 28
        }
      ]
    },
    {
      "cell_type": "markdown",
      "metadata": {
        "id": "H81yJZrLJwF7"
      },
      "source": [
        "*Preparing a list of all the unique products in order to have further analysis*"
      ]
    },
    {
      "cell_type": "code",
      "metadata": {
        "id": "bstoq8oZLreU"
      },
      "source": [
        "IC_unique=df['IC'].unique().tolist()"
      ],
      "execution_count": 29,
      "outputs": []
    },
    {
      "cell_type": "code",
      "metadata": {
        "id": "j_WOJtEUbkp0",
        "outputId": "364bf14c-340d-4aa6-eee3-e15cc15b9f15",
        "colab": {
          "base_uri": "https://localhost:8080/",
          "height": 34
        }
      },
      "source": [
        "len(IC_unique)"
      ],
      "execution_count": 30,
      "outputs": [
        {
          "output_type": "execute_result",
          "data": {
            "text/plain": [
              "48133"
            ]
          },
          "metadata": {
            "tags": []
          },
          "execution_count": 30
        }
      ]
    },
    {
      "cell_type": "markdown",
      "metadata": {
        "id": "Tqjv_Nr7KCKG"
      },
      "source": [
        "**Review Combination for each product**"
      ]
    },
    {
      "cell_type": "code",
      "metadata": {
        "id": "DsjlUn6dluwf"
      },
      "source": [
        "rev=[]\n",
        "for i in range(0,len(IC_unique)):\n",
        "  v=df[df['IC']==IC_unique[i]].preprocessed_reviews\n",
        "  v = [' '.join(v[:])]\n",
        "  rev.append(v)\n",
        "\n"
      ],
      "execution_count": 31,
      "outputs": []
    },
    {
      "cell_type": "markdown",
      "metadata": {
        "id": "DeueV0tIKGmP"
      },
      "source": [
        "**Creating New Data Frame for products and its combined Reviews**"
      ]
    },
    {
      "cell_type": "code",
      "metadata": {
        "id": "cn9qxA85xHs9"
      },
      "source": [
        "df_new = pd.DataFrame(list(zip(IC_unique, rev)), \n",
        "               columns =['IC', 'review'])"
      ],
      "execution_count": 32,
      "outputs": []
    },
    {
      "cell_type": "code",
      "metadata": {
        "id": "nIhkx1Gd8bmM",
        "outputId": "321fbae1-4188-414b-f8a6-c0563717df1c",
        "colab": {
          "base_uri": "https://localhost:8080/",
          "height": 169
        }
      },
      "source": [
        "df_new.head(4)\n"
      ],
      "execution_count": 33,
      "outputs": [
        {
          "output_type": "execute_result",
          "data": {
            "text/html": [
              "<div>\n",
              "<style scoped>\n",
              "    .dataframe tbody tr th:only-of-type {\n",
              "        vertical-align: middle;\n",
              "    }\n",
              "\n",
              "    .dataframe tbody tr th {\n",
              "        vertical-align: top;\n",
              "    }\n",
              "\n",
              "    .dataframe thead th {\n",
              "        text-align: right;\n",
              "    }\n",
              "</style>\n",
              "<table border=\"1\" class=\"dataframe\">\n",
              "  <thead>\n",
              "    <tr style=\"text-align: right;\">\n",
              "      <th></th>\n",
              "      <th>IC</th>\n",
              "      <th>review</th>\n",
              "    </tr>\n",
              "  </thead>\n",
              "  <tbody>\n",
              "    <tr>\n",
              "      <th>0</th>\n",
              "      <td>B009XD5TPQ</td>\n",
              "      <td>[bought husband happy happy good product exact...</td>\n",
              "    </tr>\n",
              "    <tr>\n",
              "      <th>1</th>\n",
              "      <td>B016MF3P3K</td>\n",
              "      <td>[great screen protector not even seem though f...</td>\n",
              "    </tr>\n",
              "    <tr>\n",
              "      <th>2</th>\n",
              "      <td>B008DC8N5G</td>\n",
              "      <td>[saved lots money not gorilla glass careful su...</td>\n",
              "    </tr>\n",
              "    <tr>\n",
              "      <th>3</th>\n",
              "      <td>B0089CH3TM</td>\n",
              "      <td>[material fit nice color neon green expected w...</td>\n",
              "    </tr>\n",
              "  </tbody>\n",
              "</table>\n",
              "</div>"
            ],
            "text/plain": [
              "           IC                                             review\n",
              "0  B009XD5TPQ  [bought husband happy happy good product exact...\n",
              "1  B016MF3P3K  [great screen protector not even seem though f...\n",
              "2  B008DC8N5G  [saved lots money not gorilla glass careful su...\n",
              "3  B0089CH3TM  [material fit nice color neon green expected w..."
            ]
          },
          "metadata": {
            "tags": []
          },
          "execution_count": 33
        }
      ]
    },
    {
      "cell_type": "code",
      "metadata": {
        "id": "0HK_Q9cPtGxo",
        "outputId": "f6582d8e-a5e2-4a9e-b8dd-d972cfe5a2cc",
        "colab": {
          "base_uri": "https://localhost:8080/",
          "height": 54
        }
      },
      "source": [
        "df_new.review[0]"
      ],
      "execution_count": 34,
      "outputs": [
        {
          "output_type": "execute_result",
          "data": {
            "text/plain": [
              "['bought husband happy happy good product exactly description says recommend buying product leather case holder nice case medium larger smartphones droid razor maxx fits nicely belt clip strong spring steel magnetic clasp holds well magnetic design nice leather smartphone case appears excellent product fits phone nicely even hard shell back phone like fact belt loop well clip slides belt loop ensures case not come belt yet option using clip quickly remove phone time tell concerning durability price hard beat exceptional value great fit iphone protective case yes read correctly needed belt clip hold iphone thin protective case already works perfectly price good works iphone ballistic quality case feels nice solid complaint little larger support protective cases phone since not use one lot extra room phone move around nice solid case phone large enough support protective cases good phone holster belt loops clip phone fits well appearance described good phone holster reasonable price july picked body glove dropsuit rugged case motorola droid razr maxx hd pack retail packaging black seller realized awesome since phone not fit hedocell case phone body glove not used case pouch contributing factor smelled high heaven opened package today month later smell much less detectable weeks whew prepared not use right away kept try istretch fit razr maxx hd body glove would nice belt update nearly year later still sits shelf body glove saved several times takes priority case would not recommend buy using something like body glove protect razr maxx tight raxr maxx hd inside dropsuit without stretching oh smells better would expect using daily months no issues far holding great motorola droid hd maxx fits perfectly small protective cover really nice case case explained however not enough room hold droid razr maxx hd another cover phone otterbox phone ordered smaller case hopefully cover fit inside holster really like look holster one elastic bands side seems tad loose time tell new case fits inside holster holster holds thus far fan time tell case quite durable excellent price arrived time excellent condition goes belt loop magnetic closer droid phone case happy husband five stars']"
            ]
          },
          "metadata": {
            "tags": []
          },
          "execution_count": 34
        }
      ]
    },
    {
      "cell_type": "markdown",
      "metadata": {
        "id": "fAFgMC5MKZQB"
      },
      "source": [
        "**Saving the new Data Frame**"
      ]
    },
    {
      "cell_type": "code",
      "metadata": {
        "id": "e1KdWl9ldVxE"
      },
      "source": [
        "df_new.to_csv('review_data.csv') "
      ],
      "execution_count": 35,
      "outputs": []
    },
    {
      "cell_type": "code",
      "metadata": {
        "id": "7Qb1hzmyIGwN",
        "outputId": "4fff4ab9-b930-46d5-fdaf-55a0a7032315",
        "colab": {
          "base_uri": "https://localhost:8080/",
          "height": 34
        }
      },
      "source": [
        "df_new.shape"
      ],
      "execution_count": 36,
      "outputs": [
        {
          "output_type": "execute_result",
          "data": {
            "text/plain": [
              "(48133, 2)"
            ]
          },
          "metadata": {
            "tags": []
          },
          "execution_count": 36
        }
      ]
    },
    {
      "cell_type": "markdown",
      "metadata": {
        "id": "CpzTK4DGKsR4"
      },
      "source": [
        "**Tfidf Featurisation**"
      ]
    },
    {
      "cell_type": "code",
      "metadata": {
        "id": "DW4Xs_aOeiBW"
      },
      "source": [
        "#Vectorizing using tfidf\n",
        "from sklearn.feature_extraction.text import TfidfTransformer\n",
        "from sklearn.feature_extraction.text import TfidfVectorizer\n",
        "keywords=[]\n",
        "top_n = 30\n",
        "for i in df_new['review']:\n",
        "  tf_idf_vect = TfidfVectorizer()\n",
        "  tf_idf_vect.fit(i)\n",
        "  Tf_idf_doc = tf_idf_vect.transform(i)\n",
        "  indices = np.argsort(tf_idf_vect.idf_)[::-1]\n",
        "  features = tf_idf_vect.get_feature_names()\n",
        "  features = [features[i] for i in indices[:top_n]]\n",
        "  keywords.append(features)"
      ],
      "execution_count": 79,
      "outputs": []
    },
    {
      "cell_type": "markdown",
      "metadata": {
        "id": "BvbXHiQJLaiN"
      },
      "source": [
        "*In the above block we have  one by one featurised each review on tfidf  and selected top 30 top scored words , which we have called keywords and lastly we have appended all in a list .*"
      ]
    },
    {
      "cell_type": "markdown",
      "metadata": {
        "id": "uJ8VlZJiL4NP"
      },
      "source": [
        "**Function to convert the list into string for each data in review , review keywords**"
      ]
    },
    {
      "cell_type": "code",
      "metadata": {
        "id": "qq3nN8gTr0We"
      },
      "source": [
        "def listToString(s):  \n",
        "    \n",
        "    # initialize an empty string \n",
        "    str1 = \" \" \n",
        "     \n",
        "    # return string   \n",
        "    return (str1.join(s)) \n",
        "        \n",
        "        \n",
        "\n",
        "\n"
      ],
      "execution_count": 38,
      "outputs": []
    },
    {
      "cell_type": "code",
      "metadata": {
        "id": "NIUVf0f5uRMY"
      },
      "source": [
        "s=[]\n",
        "for i in range(len(df_new['review'])):\n",
        "  s.append(listToString(df_new['review'][i]))\n",
        "df_new['review']=s"
      ],
      "execution_count": 86,
      "outputs": []
    },
    {
      "cell_type": "code",
      "metadata": {
        "id": "bJQGv8twBabC"
      },
      "source": [
        "s=[]\n",
        "for i in range(len(df_new['Review_Keywords'])):\n",
        "  s.append(listToString(df_new['Review_Keywords'][i]))\n",
        "df_new['Review_Keywords']=s"
      ],
      "execution_count": 84,
      "outputs": []
    },
    {
      "cell_type": "markdown",
      "metadata": {
        "id": "ou-X1-VOMJ2S"
      },
      "source": [
        "***Below is the final DataFrame which has product details in IC , combined review in review and keywords from that review in Review_Keywords columns***"
      ]
    },
    {
      "cell_type": "code",
      "metadata": {
        "id": "0jIEsEy1AhCh",
        "outputId": "7ac52ead-6c09-4292-beaf-1447cc9cf991",
        "colab": {
          "base_uri": "https://localhost:8080/",
          "height": 199
        }
      },
      "source": [
        "df_new.head(5)"
      ],
      "execution_count": 87,
      "outputs": [
        {
          "output_type": "execute_result",
          "data": {
            "text/html": [
              "<div>\n",
              "<style scoped>\n",
              "    .dataframe tbody tr th:only-of-type {\n",
              "        vertical-align: middle;\n",
              "    }\n",
              "\n",
              "    .dataframe tbody tr th {\n",
              "        vertical-align: top;\n",
              "    }\n",
              "\n",
              "    .dataframe thead th {\n",
              "        text-align: right;\n",
              "    }\n",
              "</style>\n",
              "<table border=\"1\" class=\"dataframe\">\n",
              "  <thead>\n",
              "    <tr style=\"text-align: right;\">\n",
              "      <th></th>\n",
              "      <th>IC</th>\n",
              "      <th>review</th>\n",
              "      <th>Review_Keywords</th>\n",
              "    </tr>\n",
              "  </thead>\n",
              "  <tbody>\n",
              "    <tr>\n",
              "      <th>0</th>\n",
              "      <td>B009XD5TPQ</td>\n",
              "      <td>bought husband happy happy good product exactl...</td>\n",
              "      <td>yet explained holding holder hold high hedocel...</td>\n",
              "    </tr>\n",
              "    <tr>\n",
              "      <th>1</th>\n",
              "      <td>B016MF3P3K</td>\n",
              "      <td>great screen protector not even seem though fi...</td>\n",
              "      <td>wrong galaxy four free friction front frustrat...</td>\n",
              "    </tr>\n",
              "    <tr>\n",
              "      <th>2</th>\n",
              "      <td>B008DC8N5G</td>\n",
              "      <td>saved lots money not gorilla glass careful sub...</td>\n",
              "      <td>youtube frame glue gloves glasses glass giving...</td>\n",
              "    </tr>\n",
              "    <tr>\n",
              "      <th>3</th>\n",
              "      <td>B0089CH3TM</td>\n",
              "      <td>material fit nice color neon green expected wo...</td>\n",
              "      <td>yellow front fits five fixed flash flat flexib...</td>\n",
              "    </tr>\n",
              "    <tr>\n",
              "      <th>4</th>\n",
              "      <td>B00AKZWGAC</td>\n",
              "      <td>last days till charge take forever charge make...</td>\n",
              "      <td>zl friend frustratingly front frilly friggin f...</td>\n",
              "    </tr>\n",
              "  </tbody>\n",
              "</table>\n",
              "</div>"
            ],
            "text/plain": [
              "           IC  ...                                    Review_Keywords\n",
              "0  B009XD5TPQ  ...  yet explained holding holder hold high hedocel...\n",
              "1  B016MF3P3K  ...  wrong galaxy four free friction front frustrat...\n",
              "2  B008DC8N5G  ...  youtube frame glue gloves glasses glass giving...\n",
              "3  B0089CH3TM  ...  yellow front fits five fixed flash flat flexib...\n",
              "4  B00AKZWGAC  ...  zl friend frustratingly front frilly friggin f...\n",
              "\n",
              "[5 rows x 3 columns]"
            ]
          },
          "metadata": {
            "tags": []
          },
          "execution_count": 87
        }
      ]
    },
    {
      "cell_type": "markdown",
      "metadata": {
        "id": "WB8ac3rxRJHP"
      },
      "source": [
        "Saving The DataFrame"
      ]
    },
    {
      "cell_type": "code",
      "metadata": {
        "id": "gka47ahXOYbh"
      },
      "source": [
        "df_new.to_csv('/content/gdrive/My Drive/review_data.csv')"
      ],
      "execution_count": 92,
      "outputs": []
    },
    {
      "cell_type": "markdown",
      "metadata": {
        "id": "7haP_qyQMbfh"
      },
      "source": [
        "**Conclusion:**\n",
        "\n",
        "In this project we have imported the dataset , combined review and summary column in order to have information in place , then we have perfomed Null/Missing value analysis and dropped all the null valued review rows.\n",
        "\n",
        "Then based on the product we have combined all the review based on each and every product and performed data cleansing .\n",
        "\n",
        "Taken all the combined, cleaned reviews and featurised them on tfidf and based on the score we have extracted top 30 keywords for each combined review of each product and created the final data Frame ,comprising of Product Id (IC) , combined reviews , Review_Keywords."
      ]
    },
    {
      "cell_type": "markdown",
      "metadata": {
        "id": "tbteExVENeKt"
      },
      "source": [
        "END"
      ]
    }
  ]
}