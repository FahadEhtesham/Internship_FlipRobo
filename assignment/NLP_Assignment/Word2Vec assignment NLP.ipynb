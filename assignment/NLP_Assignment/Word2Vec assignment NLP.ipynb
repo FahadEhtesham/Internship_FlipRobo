{
 "cells": [
  {
   "cell_type": "markdown",
   "metadata": {},
   "source": [
    "# Word2Vec"
   ]
  },
  {
   "cell_type": "code",
   "execution_count": 9,
   "metadata": {},
   "outputs": [],
   "source": [
    "import nltk\n",
    "\n",
    "from gensim.models import Word2Vec\n",
    "from nltk.corpus import stopwords\n",
    "import matplotlib.pyplot as plt\n",
    "%matplotlib inline\n",
    "import re\n",
    "\n",
    "paragraph = \"\"\"The education sector in India is divided into primary, higher secondary, \n",
    "                senior secondary and vocational education sections. Schools are regulated by NCERT.\n",
    "                The National Council of Educational Research and Training (NCERT) is the apex body for\n",
    "                curriculum related matters for school education in India.\n",
    "                It provides sup of schools in India.Despite this robust network, the foundation of Indian \n",
    "                education is shaky. It is lacking in both its outreach and content. Primary education has\n",
    "                been made free and compulsory for all children upto the age of 14 years, under the Right To \n",
    "                Education, but many children in rural and remote areas still don’t have access to it. \n",
    "                In schools that have been established, appropriate infrastructure is lacking.\n",
    "                The Mid-Day Meal Scheme of the government was a good initiative to lure rural children to schools, \n",
    "                but in some areas, the quality of\n",
    "                food provided was found to be sub-standard.\"\"\""
   ]
  },
  {
   "cell_type": "code",
   "execution_count": 10,
   "metadata": {},
   "outputs": [],
   "source": [
    "# Preprocessing the data \n",
    "text = re.sub(r'\\[[0-9]*\\]',' ',paragraph)\n",
    "text = re.sub(r'\\s+',' ',text)\n",
    "\n",
    "text = text.lower()\n",
    "\n",
    "text = re.sub(r'\\d',' ',text)\n",
    "text = re.sub(r'\\s+',' ',text)\n",
    "text =text.replace('.', '')"
   ]
  },
  {
   "cell_type": "markdown",
   "metadata": {},
   "source": [
    "# Sentence Tokenisation"
   ]
  },
  {
   "cell_type": "code",
   "execution_count": 11,
   "metadata": {},
   "outputs": [
    {
     "data": {
      "text/plain": [
       "['the education sector in india is divided into primary, higher secondary, senior secondary and vocational education sections schools are regulated by ncert the national council of educational research and training (ncert) is the apex body for curriculum related matters for school education in india it provides sup of schools in indiadespite this robust network, the foundation of indian education is shaky it is lacking in both its outreach and content primary education has been made free and compulsory for all children upto the age of years, under the right to education, but many children in rural and remote areas still don’t have access to it in schools that have been established, appropriate infrastructure is lacking the mid-day meal scheme of the government was a good initiative to lure rural children to schools, but in some areas, the quality of food provided was found to be sub-standard']"
      ]
     },
     "execution_count": 11,
     "metadata": {},
     "output_type": "execute_result"
    }
   ],
   "source": [
    "# Preparing the dataset\n",
    "sentences = nltk.sent_tokenize(text)\n",
    "sentences"
   ]
  },
  {
   "cell_type": "markdown",
   "metadata": {},
   "source": [
    "# Word Tokenization"
   ]
  },
  {
   "cell_type": "code",
   "execution_count": 12,
   "metadata": {},
   "outputs": [],
   "source": [
    "sent_word = [nltk.word_tokenize(sentence) for sentence in sentences]"
   ]
  },
  {
   "cell_type": "code",
   "execution_count": 13,
   "metadata": {},
   "outputs": [
    {
     "data": {
      "text/plain": [
       "[['the',\n",
       "  'education',\n",
       "  'sector',\n",
       "  'in',\n",
       "  'india',\n",
       "  'is',\n",
       "  'divided',\n",
       "  'into',\n",
       "  'primary',\n",
       "  ',',\n",
       "  'higher',\n",
       "  'secondary',\n",
       "  ',',\n",
       "  'senior',\n",
       "  'secondary',\n",
       "  'and',\n",
       "  'vocational',\n",
       "  'education',\n",
       "  'sections',\n",
       "  'schools',\n",
       "  'are',\n",
       "  'regulated',\n",
       "  'by',\n",
       "  'ncert',\n",
       "  'the',\n",
       "  'national',\n",
       "  'council',\n",
       "  'of',\n",
       "  'educational',\n",
       "  'research',\n",
       "  'and',\n",
       "  'training',\n",
       "  '(',\n",
       "  'ncert',\n",
       "  ')',\n",
       "  'is',\n",
       "  'the',\n",
       "  'apex',\n",
       "  'body',\n",
       "  'for',\n",
       "  'curriculum',\n",
       "  'related',\n",
       "  'matters',\n",
       "  'for',\n",
       "  'school',\n",
       "  'education',\n",
       "  'in',\n",
       "  'india',\n",
       "  'it',\n",
       "  'provides',\n",
       "  'sup',\n",
       "  'of',\n",
       "  'schools',\n",
       "  'in',\n",
       "  'indiadespite',\n",
       "  'this',\n",
       "  'robust',\n",
       "  'network',\n",
       "  ',',\n",
       "  'the',\n",
       "  'foundation',\n",
       "  'of',\n",
       "  'indian',\n",
       "  'education',\n",
       "  'is',\n",
       "  'shaky',\n",
       "  'it',\n",
       "  'is',\n",
       "  'lacking',\n",
       "  'in',\n",
       "  'both',\n",
       "  'its',\n",
       "  'outreach',\n",
       "  'and',\n",
       "  'content',\n",
       "  'primary',\n",
       "  'education',\n",
       "  'has',\n",
       "  'been',\n",
       "  'made',\n",
       "  'free',\n",
       "  'and',\n",
       "  'compulsory',\n",
       "  'for',\n",
       "  'all',\n",
       "  'children',\n",
       "  'upto',\n",
       "  'the',\n",
       "  'age',\n",
       "  'of',\n",
       "  'years',\n",
       "  ',',\n",
       "  'under',\n",
       "  'the',\n",
       "  'right',\n",
       "  'to',\n",
       "  'education',\n",
       "  ',',\n",
       "  'but',\n",
       "  'many',\n",
       "  'children',\n",
       "  'in',\n",
       "  'rural',\n",
       "  'and',\n",
       "  'remote',\n",
       "  'areas',\n",
       "  'still',\n",
       "  'don',\n",
       "  '’',\n",
       "  't',\n",
       "  'have',\n",
       "  'access',\n",
       "  'to',\n",
       "  'it',\n",
       "  'in',\n",
       "  'schools',\n",
       "  'that',\n",
       "  'have',\n",
       "  'been',\n",
       "  'established',\n",
       "  ',',\n",
       "  'appropriate',\n",
       "  'infrastructure',\n",
       "  'is',\n",
       "  'lacking',\n",
       "  'the',\n",
       "  'mid-day',\n",
       "  'meal',\n",
       "  'scheme',\n",
       "  'of',\n",
       "  'the',\n",
       "  'government',\n",
       "  'was',\n",
       "  'a',\n",
       "  'good',\n",
       "  'initiative',\n",
       "  'to',\n",
       "  'lure',\n",
       "  'rural',\n",
       "  'children',\n",
       "  'to',\n",
       "  'schools',\n",
       "  ',',\n",
       "  'but',\n",
       "  'in',\n",
       "  'some',\n",
       "  'areas',\n",
       "  ',',\n",
       "  'the',\n",
       "  'quality',\n",
       "  'of',\n",
       "  'food',\n",
       "  'provided',\n",
       "  'was',\n",
       "  'found',\n",
       "  'to',\n",
       "  'be',\n",
       "  'sub-standard']]"
      ]
     },
     "execution_count": 13,
     "metadata": {},
     "output_type": "execute_result"
    }
   ],
   "source": [
    "sent_word"
   ]
  },
  {
   "cell_type": "code",
   "execution_count": 14,
   "metadata": {},
   "outputs": [],
   "source": [
    "#sent_word = [nltk.word_tokenize(sentence) for sentence in sentences]\n",
    "\n",
    "for i in range(len(sent_word)):\n",
    "    sent_word[i] = [word for word in sent_word[i]\n",
    "                    if word not in stopwords.words('english')]"
   ]
  },
  {
   "cell_type": "code",
   "execution_count": 15,
   "metadata": {},
   "outputs": [
    {
     "data": {
      "text/plain": [
       "[['education',\n",
       "  'sector',\n",
       "  'india',\n",
       "  'divided',\n",
       "  'primary',\n",
       "  ',',\n",
       "  'higher',\n",
       "  'secondary',\n",
       "  ',',\n",
       "  'senior',\n",
       "  'secondary',\n",
       "  'vocational',\n",
       "  'education',\n",
       "  'sections',\n",
       "  'schools',\n",
       "  'regulated',\n",
       "  'ncert',\n",
       "  'national',\n",
       "  'council',\n",
       "  'educational',\n",
       "  'research',\n",
       "  'training',\n",
       "  '(',\n",
       "  'ncert',\n",
       "  ')',\n",
       "  'apex',\n",
       "  'body',\n",
       "  'curriculum',\n",
       "  'related',\n",
       "  'matters',\n",
       "  'school',\n",
       "  'education',\n",
       "  'india',\n",
       "  'provides',\n",
       "  'sup',\n",
       "  'schools',\n",
       "  'indiadespite',\n",
       "  'robust',\n",
       "  'network',\n",
       "  ',',\n",
       "  'foundation',\n",
       "  'indian',\n",
       "  'education',\n",
       "  'shaky',\n",
       "  'lacking',\n",
       "  'outreach',\n",
       "  'content',\n",
       "  'primary',\n",
       "  'education',\n",
       "  'made',\n",
       "  'free',\n",
       "  'compulsory',\n",
       "  'children',\n",
       "  'upto',\n",
       "  'age',\n",
       "  'years',\n",
       "  ',',\n",
       "  'right',\n",
       "  'education',\n",
       "  ',',\n",
       "  'many',\n",
       "  'children',\n",
       "  'rural',\n",
       "  'remote',\n",
       "  'areas',\n",
       "  'still',\n",
       "  '’',\n",
       "  'access',\n",
       "  'schools',\n",
       "  'established',\n",
       "  ',',\n",
       "  'appropriate',\n",
       "  'infrastructure',\n",
       "  'lacking',\n",
       "  'mid-day',\n",
       "  'meal',\n",
       "  'scheme',\n",
       "  'government',\n",
       "  'good',\n",
       "  'initiative',\n",
       "  'lure',\n",
       "  'rural',\n",
       "  'children',\n",
       "  'schools',\n",
       "  ',',\n",
       "  'areas',\n",
       "  ',',\n",
       "  'quality',\n",
       "  'food',\n",
       "  'provided',\n",
       "  'found',\n",
       "  'sub-standard']]"
      ]
     },
     "execution_count": 15,
     "metadata": {},
     "output_type": "execute_result"
    }
   ],
   "source": [
    "sent_word"
   ]
  },
  {
   "cell_type": "code",
   "execution_count": 16,
   "metadata": {
    "scrolled": true
   },
   "outputs": [],
   "source": [
    "# Training the Word2Vec model\n",
    "model = Word2Vec(sent_word, min_count=1)\n",
    "\n",
    "\n",
    "words = model.wv.vocab"
   ]
  },
  {
   "cell_type": "code",
   "execution_count": 17,
   "metadata": {},
   "outputs": [
    {
     "name": "stdout",
     "output_type": "stream",
     "text": [
      "[-3.6967301e-03  4.0875883e-03 -7.2633359e-04 -1.9123792e-03\n",
      " -4.1785003e-03 -8.7760913e-05 -1.9223661e-03  1.2126769e-03\n",
      " -2.4797481e-03 -4.0739370e-03  1.7220561e-03 -4.3145027e-03\n",
      "  4.8334110e-03 -3.4518985e-03  1.1314195e-04  3.2567473e-03\n",
      "  4.1384217e-03 -2.5978512e-03  2.8784403e-03 -4.1123363e-03\n",
      " -1.6836211e-03  4.6734517e-03  4.6337862e-03 -8.8904047e-04\n",
      "  3.9132065e-03 -4.6595708e-03  8.5776532e-04  2.1756096e-03\n",
      " -2.8310169e-03 -4.2124926e-03 -3.4296724e-03  3.9162720e-03\n",
      "  1.9733321e-03  1.2429528e-03 -3.4510959e-03 -1.6840630e-03\n",
      "  3.2576281e-03 -1.6199894e-03  1.9184490e-03  4.2866990e-03\n",
      "  1.3671920e-03 -9.5947913e-04 -4.6993885e-03 -9.3191303e-04\n",
      " -4.8907553e-03  5.9576886e-04  4.7195381e-03  2.7447545e-03\n",
      " -8.3775556e-04 -2.1703914e-03  1.4849770e-03 -1.0256292e-03\n",
      "  3.1464405e-03 -4.8247590e-03 -4.9607474e-03  2.8103564e-03\n",
      "  1.3030131e-03  2.1813144e-03 -2.1047753e-03 -2.5662943e-03\n",
      "  4.7614248e-03 -1.8378700e-03  1.1900607e-03  9.3405681e-05\n",
      " -4.8644122e-04 -5.9366977e-04  1.9862405e-03  3.7321022e-03\n",
      "  2.5899552e-03  4.9350238e-03 -4.1913078e-04  9.7835413e-04\n",
      " -7.5774640e-04 -2.7815613e-05 -3.1079510e-03  4.6141082e-03\n",
      " -1.7819025e-03  2.8790443e-03 -2.5493824e-03  2.2029134e-03\n",
      "  2.2288463e-03 -1.1433455e-03  2.6401891e-03  4.1655209e-03\n",
      " -1.2931153e-03 -3.2236059e-03  2.0724153e-03 -9.2081079e-04\n",
      "  3.3851895e-03  3.8299579e-03  2.0111576e-03 -4.3835319e-03\n",
      "  2.6624664e-03  2.7088521e-03 -4.6773059e-03 -4.3564364e-03\n",
      " -8.5805374e-04 -1.2850710e-03 -2.6286107e-03 -4.1128690e-03]\n"
     ]
    }
   ],
   "source": [
    "# Test the word vectors\n",
    "vector = model.wv['government']\n",
    "\n",
    "print(vector)"
   ]
  },
  {
   "cell_type": "code",
   "execution_count": 18,
   "metadata": {},
   "outputs": [
    {
     "data": {
      "text/plain": [
       "[('areas', 0.17972195148468018),\n",
       " ('senior', 0.1626434028148651),\n",
       " ('outreach', 0.16013360023498535),\n",
       " ('initiative', 0.15531790256500244),\n",
       " ('network', 0.14470237493515015),\n",
       " ('mid-day', 0.140386700630188),\n",
       " ('remote', 0.1392933428287506),\n",
       " ('robust', 0.13927942514419556),\n",
       " ('primary', 0.12172558903694153),\n",
       " ('appropriate', 0.1216319277882576),\n",
       " ('content', 0.10937345027923584),\n",
       " ('many', 0.10808950662612915),\n",
       " ('found', 0.09972022473812103),\n",
       " ('sections', 0.09565338492393494),\n",
       " ('years', 0.0945359393954277),\n",
       " ('shaky', 0.09249469637870789),\n",
       " ('body', 0.09145476669073105),\n",
       " ('quality', 0.08287916332483292),\n",
       " ('provided', 0.07062883675098419),\n",
       " ('upto', 0.0703202486038208)]"
      ]
     },
     "execution_count": 18,
     "metadata": {},
     "output_type": "execute_result"
    }
   ],
   "source": [
    "# Most similar words\n",
    "similar = model.wv.most_similar('education',topn=20)\n",
    "\n",
    "similar"
   ]
  },
  {
   "cell_type": "code",
   "execution_count": 19,
   "metadata": {},
   "outputs": [
    {
     "data": {
      "text/plain": [
       "0.10366354673990871"
      ]
     },
     "execution_count": 19,
     "metadata": {},
     "output_type": "execute_result"
    }
   ],
   "source": [
    "# checking words similarity \n",
    "model.wv.similarity(w1='meal',w2='food')"
   ]
  },
  {
   "cell_type": "code",
   "execution_count": 20,
   "metadata": {},
   "outputs": [
    {
     "data": {
      "text/plain": [
       "0.9999999999999998"
      ]
     },
     "execution_count": 20,
     "metadata": {},
     "output_type": "execute_result"
    }
   ],
   "source": [
    "# Same words similarity\n",
    "model.wv.similarity(w1='india',w2='india')"
   ]
  },
  {
   "cell_type": "code",
   "execution_count": 21,
   "metadata": {},
   "outputs": [
    {
     "name": "stderr",
     "output_type": "stream",
     "text": [
      "C:\\Users\\Fahad Ehtesham\\Anaconda3\\lib\\site-packages\\gensim\\models\\keyedvectors.py:730: FutureWarning: arrays to stack must be passed as a \"sequence\" type such as list or tuple. Support for non-sequence iterables such as generators is deprecated as of NumPy 1.16 and will raise an error in the future.\n",
      "  vectors = vstack(self.word_vec(word, use_norm=True) for word in used_words).astype(REAL)\n"
     ]
    },
    {
     "data": {
      "text/plain": [
       "'education'"
      ]
     },
     "execution_count": 21,
     "metadata": {},
     "output_type": "execute_result"
    }
   ],
   "source": [
    "# filter on non similarity\n",
    "model.wv.doesnt_match([\"government\",\"india\",\"education\"])"
   ]
  },
  {
   "cell_type": "code",
   "execution_count": 23,
   "metadata": {},
   "outputs": [
    {
     "name": "stderr",
     "output_type": "stream",
     "text": [
      "C:\\Users\\Fahad Ehtesham\\Anaconda3\\lib\\site-packages\\ipykernel_launcher.py:8: DeprecationWarning: Call to deprecated `__getitem__` (Method will be removed in 4.0.0, use self.wv.__getitem__() instead).\n",
      "  \n"
     ]
    },
    {
     "data": {
      "image/png": "[encoded data removed]",
      "text/plain": [
       "<Figure size 1080x576 with 1 Axes>"
      ]
     },
     "metadata": {},
     "output_type": "display_data"
    }
   ],
   "source": [
    "from sklearn.manifold import  TSNE\n",
    "vocab = ['government','india','curriculum','education','children','network', 'scheme','remote','schools','national','foundation','primary','rural','quality','higher','secondary','regulated','research','matters','indiadespite','outreach']\n",
    "def tsne_plot(model):\n",
    "    labels = []\n",
    "    wordvecs = []\n",
    "\n",
    "    for word in vocab:\n",
    "        wordvecs.append(model[word])\n",
    "        labels.append(word)\n",
    "    \n",
    "    tsne_model = TSNE(perplexity=3, n_components=2, init='pca', random_state=42)\n",
    "    coordinates = tsne_model.fit_transform(wordvecs)\n",
    "\n",
    "    x = []\n",
    "    y = []\n",
    "    for value in coordinates:\n",
    "        x.append(value[0])\n",
    "        y.append(value[1])\n",
    "        \n",
    "    plt.figure(figsize=(15,8)) \n",
    "    for i in range(len(x)):\n",
    "        plt.scatter(x[i],y[i])\n",
    "        plt.annotate(labels[i],\n",
    "                     xy=(x[i], y[i]),\n",
    "                     xytext=(2, 2),\n",
    "                     textcoords='offset points', ha='left')\n",
    "\n",
    "    plt.show()\n",
    "\n",
    "tsne_plot(model)"
   ]
  },
  {
   "cell_type": "markdown",
   "metadata": {},
   "source": [
    "# Conclusion :-\n",
    "We have tried to use word2vec on education system on india , we have removed the special character , 0-9 digits and stopwords to have the data cleaned and ready for our vectorization .\n",
    "We have analysed the similar and dissimilar words using word2vec and at last we have plotted the 2d graph for 20 features for similarity visualisation."
   ]
  },
  {
   "cell_type": "code",
   "execution_count": null,
   "metadata": {},
   "outputs": [],
   "source": []
  }
 ],
 "metadata": {
  "kernelspec": {
   "display_name": "Python 3",
   "language": "python",
   "name": "python3"
  },
  "language_info": {
   "codemirror_mode": {
    "name": "ipython",
    "version": 3
   },
   "file_extension": ".py",
   "mimetype": "text/x-python",
   "name": "python",
   "nbconvert_exporter": "python",
   "pygments_lexer": "ipython3",
   "version": "3.6.5"
  }
 },
 "nbformat": 4,
 "nbformat_minor": 2
}
